{
 "cells": [
  {
   "cell_type": "code",
   "execution_count": 88,
   "id": "4e250edf-f870-4d50-b3a5-ddb7f4e5f22c",
   "metadata": {
    "tags": []
   },
   "outputs": [],
   "source": [
    "import numpy as np"
   ]
  },
  {
   "cell_type": "code",
   "execution_count": 89,
   "id": "e53e59f5-7622-49b2-802e-7de95da45aad",
   "metadata": {
    "tags": []
   },
   "outputs": [],
   "source": [
    "from numpy import ndarray"
   ]
  },
  {
   "cell_type": "code",
   "execution_count": 90,
   "id": "060f32cc-fec0-4c94-a6ff-9a3bb44239d3",
   "metadata": {
    "tags": []
   },
   "outputs": [],
   "source": [
    "def sigmoid(X):\n",
    "    return 1/(1+(np.e**(-X)))"
   ]
  },
  {
   "cell_type": "code",
   "execution_count": 91,
   "id": "2243761c-9f85-4bc4-9719-cbe58a87f9f2",
   "metadata": {
    "tags": []
   },
   "outputs": [],
   "source": [
    "def deriv(func, a, delta_x=0.001):\n",
    "    \n",
    "    return (func(a+delta_x) - func(a-delta_x)) / (delta_x*2)"
   ]
  },
  {
   "cell_type": "code",
   "execution_count": null,
   "id": "6d09183d-bcb3-4a3d-8982-f08b9de4bc4c",
   "metadata": {},
   "outputs": [],
   "source": []
  },
  {
   "cell_type": "code",
   "execution_count": 156,
   "id": "9b1c29f9-ed92-4923-a30c-a99c573d08ef",
   "metadata": {
    "tags": []
   },
   "outputs": [],
   "source": [
    "def backward(X, Y, params):\n",
    "    \n",
    "    assert X.shape[1] == params[\"W1\"].shape[0]\n",
    "    \n",
    "\n",
    "    M1 = np.dot(X,params[\"W1\"]) #(3x3) * (3x1) = (3x1)\n",
    "    P = M1 + params[\"b1\"] #(3x1) + (3x1) = (3x1)\n",
    "    # O1 = sigmoid(N1) #apply non-linear function (3x1 shape remains equal)\n",
    "    # M2 = np.dot(O1,params[\"W2\"]) #(3,1) * (1,1) = (3x1) same shape\n",
    "    # P = M2 + params[\"b2\"] #(3x1) + (1,1) = (3x1 shape remains equal)\n",
    "    # # L = 1/2*((Y-P)**2) #1/2(((3x1)-(3x1))**2) = (3x1) same shape\n",
    "    # L = (1/X.shape[0])*(Y-P)\n",
    "    \n",
    "    # dL_dP = -(Y-P)\n",
    "    dL_dP = (-2/X.shape[0])*(Y-P)\n",
    "\n",
    "    dP_db1 = np.ones_like(params[\"b1\"])\n",
    "    \n",
    "    dL_db1 = (dL_dP*dP_db1).sum(axis=0)\n",
    "    \n",
    "    dP_dM1 = np.ones_like(M1)\n",
    "    dL_dW1 = np.dot(np.transpose(X, (1,0)),\n",
    "                                dP_dM1*dL_dP)\n",
    "    \n",
    "    gradients = {}\n",
    "\n",
    "    gradients[\"b1\"] = dL_db1\n",
    "    gradients[\"W1\"] = dL_dW1    \n",
    "    \n",
    "    return gradients"
   ]
  },
  {
   "cell_type": "code",
   "execution_count": 157,
   "id": "718910b4-d53d-43b6-a300-73b4f7595adc",
   "metadata": {
    "tags": []
   },
   "outputs": [],
   "source": [
    "def generate_batch(X, \n",
    "                   y,\n",
    "                   start,\n",
    "                   batch_size):\n",
    "\n",
    "    if start+batch_size > X.shape[0]:\n",
    "        batch_size = X.shape[0] - start\n",
    "    \n",
    "    X_batch, y_batch = X[start:start+batch_size], y[start:start+batch_size]\n",
    "    \n",
    "    return X_batch, y_batch"
   ]
  },
  {
   "cell_type": "code",
   "execution_count": 158,
   "id": "f6435eda-7849-4628-a94a-fdec94613d21",
   "metadata": {
    "tags": []
   },
   "outputs": [],
   "source": [
    "def forward(X, params):\n",
    "    \n",
    "    M1 = np.dot(X,params[\"W1\"]) #(3x3) * (3x1) = (3x1)\n",
    "    P = M1 + params[\"b1\"] #(3x1) + (3x1) = (3x1)\n",
    "    \n",
    "    return P"
   ]
  },
  {
   "cell_type": "code",
   "execution_count": 159,
   "id": "88199bf1-5c22-4dea-877a-c45e097dceae",
   "metadata": {
    "tags": []
   },
   "outputs": [],
   "source": [
    "def permute_data(X, Y):\n",
    "    perm = np.random.permutation(X.shape[0])\n",
    "    return X[perm], Y[perm]"
   ]
  },
  {
   "cell_type": "code",
   "execution_count": 160,
   "id": "9400f2fa-eaea-4756-9291-e32eddd5d405",
   "metadata": {
    "tags": []
   },
   "outputs": [],
   "source": [
    "def sigmoid(x: ndarray) -> ndarray:\n",
    "    return 1 / (1 + np.exp(-1.0 * x))"
   ]
  },
  {
   "cell_type": "code",
   "execution_count": null,
   "id": "531bb4fb-37ef-453f-858c-fe5871ca127b",
   "metadata": {},
   "outputs": [],
   "source": []
  },
  {
   "cell_type": "code",
   "execution_count": 202,
   "id": "3c015dd8-31c4-454d-bfd3-bcfba53ae896",
   "metadata": {
    "tags": []
   },
   "outputs": [],
   "source": [
    "def init_weights(n):\n",
    "    \n",
    "    params = {}\n",
    "\n",
    "    params[\"W1\"] = np.random.rand(n,1) #weight for each feature (3x1)\n",
    "    params[\"b1\"] = np.random.rand(1,1) #one value to add to X*W (1x1)\n",
    "#     params[\"W2\"] = np.random.rand(13,1) #one weight for the (1x1) output of O1\n",
    "#     params[\"b2\"] = np.random.rand(1,1) #another unique value to add to O1*W2\n",
    "    \n",
    "    return params"
   ]
  },
  {
   "cell_type": "code",
   "execution_count": 162,
   "id": "aa8ed018-a78a-465a-9786-2e039ff1228e",
   "metadata": {
    "tags": []
   },
   "outputs": [],
   "source": [
    "init_params = init_weights()"
   ]
  },
  {
   "cell_type": "code",
   "execution_count": 292,
   "id": "d9b75dcc-ea51-4204-8372-50b5c92224c1",
   "metadata": {
    "tags": []
   },
   "outputs": [],
   "source": [
    "def train(X, Y, epochs, learning_rate, batch_size):\n",
    "    \n",
    "#     W1 = np.random.rand(X.shape[1],hidden_size) #weight for each feature (3x1)\n",
    "#     b1 = np.random.rand(1,hidden_size) #one value to add to X*W (1x1)\n",
    "\n",
    "#     W2 = np.random.rand(hidden_size,1) #one weight for the (1x1) output of O1\n",
    "#     b2 = np.random.rand(1,1) #another unique value to add to O1*W2\n",
    "\n",
    "    params = init_weights(X.shape[1])\n",
    "    gradients = backward(X, Y, params)\n",
    "    error_losses = np.zeros((epochs, 40))\n",
    "\n",
    "\n",
    "    # gradients.keys()\n",
    "\n",
    "    losses = []\n",
    "    b2_values = np.arange(-20,20)\n",
    "\n",
    "    error_paradigm = np.zeros((epochs, len(b2_values)))\n",
    "\n",
    "    \n",
    "    for epoch in range(0, epochs):\n",
    "    \n",
    "        start = 0\n",
    "\n",
    "\n",
    "        if start >= X.shape[0]:\n",
    "            X, Y = permute_data(X, Y)\n",
    "            start = 0\n",
    "\n",
    "        # generate batch of data\n",
    "        X_batch, Y_batch = generate_batch(X,Y, start=start,\n",
    "                                          batch_size=batch_size)\n",
    "        start += batch_size\n",
    "\n",
    "\n",
    "        gradients = backward(X_batch, Y_batch, params)\n",
    "        P_batch = forward(X_batch, params)\n",
    "\n",
    "        # L = 1/2*((Y_batch-P_batch)**2) #1/2(((3x1)-(3x1))**2) = (3x1) same shape\n",
    "        L =  np.mean(np.power(Y_batch - P_batch, 2))\n",
    "\n",
    "        \n",
    "        b1_values = np.arange(-20, 20)\n",
    "        W1_values = np.arange(-20, 20)\n",
    "        \n",
    "        losses_l = []\n",
    "        \n",
    "        for i in range(len(b1_values)):\n",
    "            my_z = params.copy()\n",
    "            my_z[\"b1\"] = b1_values[i]\n",
    "            my_z[\"W1\"] = W1_values[i]\n",
    "\n",
    "            losses_l.append((1/2*(y_train - forward(X_train, my_z))**2).mean())\n",
    "        \n",
    "        error_losses[epoch] = np.array([losses_l])\n",
    "        \n",
    "        # print(L.mean())\n",
    "        losses.append(L.mean())\n",
    "\n",
    "        for param in gradients.keys():\n",
    "\n",
    "            params[param] -= learning_rate*gradients[param]\n",
    "    \n",
    "    return params, losses, error_losses"
   ]
  },
  {
   "cell_type": "code",
   "execution_count": 293,
   "id": "e81da3cb-496f-4974-8376-6a31a9075b04",
   "metadata": {
    "tags": []
   },
   "outputs": [],
   "source": [
    "def predict(X, params):\n",
    "    \n",
    "    M1 = np.dot(X, params['W1'])\n",
    "\n",
    "    P = M1 + params['b1']\n",
    "\n",
    "    return P\n",
    "    "
   ]
  },
  {
   "cell_type": "code",
   "execution_count": 294,
   "id": "adf07a43-e116-430b-b14f-a7b6d9f38c1a",
   "metadata": {
    "tags": []
   },
   "outputs": [],
   "source": [
    "def mae(preds: ndarray, actuals: ndarray):\n",
    "    '''\n",
    "    Compute mean absolute error.\n",
    "    '''\n",
    "    return np.mean(np.abs(preds - actuals))\n",
    "\n",
    "def rmse(preds: ndarray, actuals: ndarray):\n",
    "    '''\n",
    "    Compute root mean squared error.\n",
    "    '''\n",
    "    return np.sqrt(np.mean(np.power(preds - actuals, 2)))"
   ]
  },
  {
   "cell_type": "markdown",
   "id": "e4ccd371-2a57-4484-88ef-b652dc6a713c",
   "metadata": {},
   "source": [
    "________"
   ]
  },
  {
   "cell_type": "code",
   "execution_count": 295,
   "id": "2c4f4ea4-7625-495a-aa92-2b24ef55a6d0",
   "metadata": {
    "tags": []
   },
   "outputs": [],
   "source": [
    "import pandas as pd"
   ]
  },
  {
   "cell_type": "code",
   "execution_count": 296,
   "id": "3eeb788d-b766-4104-8710-25499eba25b5",
   "metadata": {
    "tags": []
   },
   "outputs": [],
   "source": [
    "# from sklearn.datasets import load_boston\n",
    "boston = pd.read_csv(\"boston.csv\", index_col=[0])\n",
    "\n",
    "data = boston.drop(columns=\"Price\").values\n",
    "target = boston.Price.values\n",
    "features = boston.columns.values\n",
    "\n",
    "from sklearn.preprocessing import StandardScaler\n",
    "s = StandardScaler()\n",
    "data = s.fit_transform(data)\n",
    "\n",
    "from sklearn.model_selection import train_test_split\n",
    "X_train, X_test, y_train, y_test = train_test_split(data, target, test_size=0.3)\n",
    "\n",
    "y_train, y_test = y_train.reshape(-1, 1), y_test.reshape(-1, 1)"
   ]
  },
  {
   "cell_type": "code",
   "execution_count": 297,
   "id": "af185d19-b1bc-46ad-9ae8-6af4d8d3feec",
   "metadata": {
    "tags": []
   },
   "outputs": [],
   "source": [
    "weights, losses, error_exp = train(X_train, y_train, 10000, 0.001, 23)"
   ]
  },
  {
   "cell_type": "code",
   "execution_count": 298,
   "id": "ba4b579e-e34a-4767-b5ee-18facca76c6d",
   "metadata": {
    "tags": []
   },
   "outputs": [],
   "source": [
    "import matplotlib.pyplot as plt\n",
    "plt.style.use(\"dark_background\")"
   ]
  },
  {
   "cell_type": "code",
   "execution_count": 299,
   "id": "295948b1-b572-407e-9caf-235d4b0f7a82",
   "metadata": {
    "tags": []
   },
   "outputs": [
    {
     "data": {
      "image/png": "[encoded data removed]",
      "text/plain": [
       "<Figure size 640x480 with 1 Axes>"
      ]
     },
     "metadata": {},
     "output_type": "display_data"
    }
   ],
   "source": [
    "plt.plot(losses);"
   ]
  },
  {
   "cell_type": "code",
   "execution_count": 300,
   "id": "0c108b75-4fa1-47fa-9ff3-da501fcb5c6a",
   "metadata": {
    "tags": []
   },
   "outputs": [
    {
     "data": {
      "text/plain": [
       "(354, 13)"
      ]
     },
     "execution_count": 300,
     "metadata": {},
     "output_type": "execute_result"
    }
   ],
   "source": [
    "X_train.shape"
   ]
  },
  {
   "cell_type": "code",
   "execution_count": 291,
   "id": "2e8c8b6f-a150-4366-ad78-8c0d9d26fe2e",
   "metadata": {
    "tags": []
   },
   "outputs": [],
   "source": [
    "from IPython.display import HTML\n",
    "from matplotlib import animation"
   ]
  },
  {
   "cell_type": "code",
   "execution_count": 282,
   "id": "729e89d5-8970-4ad6-befe-ac1e54f7c395",
   "metadata": {},
   "outputs": [],
   "source": [
    "z = weights.copy()"
   ]
  },
  {
   "cell_type": "code",
   "execution_count": 257,
   "id": "6aa51f9d-47be-4f8e-90b5-f357a0730156",
   "metadata": {
    "tags": []
   },
   "outputs": [],
   "source": [
    "losses_l = []"
   ]
  },
  {
   "cell_type": "code",
   "execution_count": 258,
   "id": "ae96642f-1ec1-47b0-ac1d-836c1ad8d2c1",
   "metadata": {
    "tags": []
   },
   "outputs": [],
   "source": [
    "b1_values = np.arange(-30,30)"
   ]
  },
  {
   "cell_type": "code",
   "execution_count": 259,
   "id": "31866677-d5c2-49e4-8a68-13b550674b56",
   "metadata": {
    "tags": []
   },
   "outputs": [],
   "source": [
    "for i in b1_values:\n",
    "    my_z = z.copy()\n",
    "    my_z[\"b1\"] = i\n",
    "    \n",
    "    losses_l.append((1/2*(y_train - forward(X_train, my_z))**2).mean())\n",
    "    "
   ]
  },
  {
   "cell_type": "code",
   "execution_count": 260,
   "id": "00285a9b-8592-4678-8b7e-9c77df11681d",
   "metadata": {
    "tags": []
   },
   "outputs": [
    {
     "data": {
      "image/png": "[encoded data removed]",
      "text/plain": [
       "<Figure size 640x480 with 1 Axes>"
      ]
     },
     "metadata": {},
     "output_type": "display_data"
    }
   ],
   "source": [
    "plt.plot(range(-30,30),losses_l, \"o-\");"
   ]
  },
  {
   "cell_type": "code",
   "execution_count": null,
   "id": "ae1cd3ab-7d2b-493c-b5ad-1309172bf0f3",
   "metadata": {},
   "outputs": [],
   "source": []
  },
  {
   "cell_type": "code",
   "execution_count": 261,
   "id": "ef4dcf4c-b14b-4b0e-8617-ab5728489baa",
   "metadata": {
    "tags": []
   },
   "outputs": [],
   "source": [
    "from seaborn import load_dataset"
   ]
  },
  {
   "cell_type": "code",
   "execution_count": 262,
   "id": "2ad63a23-b97e-4d40-b18a-a5df436ea53e",
   "metadata": {},
   "outputs": [],
   "source": [
    "df = load_dataset(\"car_crashes\")[[\"alcohol\", \"total\"]]"
   ]
  },
  {
   "cell_type": "code",
   "execution_count": 301,
   "id": "7fa35135-737d-425a-ae83-7b7e00f291e0",
   "metadata": {
    "tags": []
   },
   "outputs": [],
   "source": [
    "X = df[[\"alcohol\"]].values\n",
    "y = df[[\"total\"]].values"
   ]
  },
  {
   "cell_type": "code",
   "execution_count": null,
   "id": "3fb47bf5-bc1d-4b5d-80bf-896072ce3533",
   "metadata": {},
   "outputs": [],
   "source": []
  },
  {
   "cell_type": "code",
   "execution_count": 302,
   "id": "a1854779-1f28-4f45-910f-64bc6f5a0a3c",
   "metadata": {
    "tags": []
   },
   "outputs": [],
   "source": [
    "weights, losses, error_exp = train(X, y, 1000, 0.001, 30)"
   ]
  },
  {
   "cell_type": "code",
   "execution_count": 303,
   "id": "bb75bab1-6177-4327-9969-eb0f95d0f09e",
   "metadata": {
    "tags": []
   },
   "outputs": [
    {
     "data": {
      "text/plain": [
       "{'W1': array([[2.82441355]]), 'b1': array([[1.94080164]])}"
      ]
     },
     "execution_count": 303,
     "metadata": {},
     "output_type": "execute_result"
    }
   ],
   "source": [
    "weights"
   ]
  },
  {
   "cell_type": "code",
   "execution_count": 304,
   "id": "3396eaca-a950-498b-81bd-4c567d1642cf",
   "metadata": {
    "tags": []
   },
   "outputs": [],
   "source": [
    "from sklearn.linear_model import LinearRegression"
   ]
  },
  {
   "cell_type": "code",
   "execution_count": 305,
   "id": "f1a24703-655e-49a3-ac5e-5f8a2809cb2a",
   "metadata": {
    "tags": []
   },
   "outputs": [],
   "source": [
    "lr = LinearRegression().fit(X, y)"
   ]
  }
 ],
 "metadata": {
  "kernelspec": {
   "display_name": "Python [conda env:pytorch_workflow]",
   "language": "python",
   "name": "conda-env-pytorch_workflow-py"
  },
  "language_info": {
   "codemirror_mode": {
    "name": "ipython",
    "version": 3
   },
   "file_extension": ".py",
   "mimetype": "text/x-python",
   "name": "python",
   "nbconvert_exporter": "python",
   "pygments_lexer": "ipython3",
   "version": "3.11.4"
  }
 },
 "nbformat": 4,
 "nbformat_minor": 5
}

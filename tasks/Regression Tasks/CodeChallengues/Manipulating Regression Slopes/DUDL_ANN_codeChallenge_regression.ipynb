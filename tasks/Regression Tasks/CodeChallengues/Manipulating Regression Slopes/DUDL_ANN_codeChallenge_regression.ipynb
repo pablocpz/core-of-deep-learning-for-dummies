{
  "nbformat": 4,
  "nbformat_minor": 0,
  "metadata": {
    "colab": {
      "provenance": []
    },
    "kernelspec": {
      "name": "python3",
      "display_name": "Python 3"
    }
  },
  "cells": [
    {
      "cell_type": "markdown",
      "metadata": {
        "id": "bhWV8oes-wKR"
      },
      "source": [
        "# COURSE: A deep understanding of deep learning\n",
        "## SECTION: ANNs\n",
        "### LECTURE: ANN for regression\n",
        "#### TEACHER: Mike X Cohen, sincxpress.com\n",
        "##### COURSE URL: udemy.com/course/deeplearning_x/?couponCode=202305"
      ]
    },
    {
      "cell_type": "code",
      "metadata": {
        "id": "j7-LiwqUMGYL"
      },
      "source": [
        "# import libraries\n",
        "import numpy as np\n",
        "import torch\n",
        "import torch.nn as nn\n",
        "import matplotlib.pyplot as plt\n",
        "from IPython import display\n",
        "display.set_matplotlib_formats('svg')"
      ],
      "execution_count": null,
      "outputs": []
    },
    {
      "cell_type": "markdown",
      "metadata": {
        "id": "A9Du0kOne6x4"
      },
      "source": [
        "# A function that creates and trains the model"
      ]
    },
    {
      "cell_type": "code",
      "metadata": {
        "id": "krQeh5wYMNla"
      },
      "source": [
        "def buildAndTrainTheModel(x,y):\n",
        "\n",
        "  # build the model\n",
        "  ANNreg = nn.Sequential(\n",
        "      nn.Linear(1,1),  # input layer\n",
        "      nn.ReLU(),       # activation function\n",
        "      nn.Linear(1,1)   # output layer\n",
        "      )\n",
        "\n",
        "  # loss and optimizer functions\n",
        "  lossfun = nn.MSELoss()\n",
        "  optimizer = torch.optim.SGD(ANNreg.parameters(),lr=.05)\n",
        "\n",
        "\n",
        "  #### train the model\n",
        "  numepochs = 500\n",
        "  losses = torch.zeros(numepochs)\n",
        "\n",
        "  for epochi in range(numepochs):\n",
        "\n",
        "    # forward pass\n",
        "    yHat = ANNreg(x)\n",
        "\n",
        "    # compute loss\n",
        "    loss = lossfun(yHat,y)\n",
        "    losses[epochi] = loss\n",
        "\n",
        "    # backprop\n",
        "    optimizer.zero_grad()\n",
        "    loss.backward()\n",
        "    optimizer.step()\n",
        "  # end training loop\n",
        "\n",
        "\n",
        "  ### compute model predictions\n",
        "  predictions = ANNreg(x)\n",
        "\n",
        "\n",
        "  # output: \n",
        "  return predictions, losses"
      ],
      "execution_count": null,
      "outputs": []
    },
    {
      "cell_type": "markdown",
      "metadata": {
        "id": "Z1EllwUThGcO"
      },
      "source": [
        "# A function that creates the data"
      ]
    },
    {
      "cell_type": "code",
      "metadata": {
        "id": "j-SP8NPsMNRL"
      },
      "source": [
        "def createTheData(m):\n",
        "  N = 50\n",
        "  x = torch.randn(N,1)\n",
        "  y = m*x + torch.randn(N,1)/2\n",
        "  return x,y"
      ],
      "execution_count": null,
      "outputs": []
    },
    {
      "cell_type": "markdown",
      "metadata": {
        "id": "zWHtd2I4lQ1T"
      },
      "source": [
        "# Test it once"
      ]
    },
    {
      "cell_type": "code",
      "metadata": {
        "id": "zmX6K49WMNuy"
      },
      "source": [
        "# create a dataset\n",
        "x,y = createTheData(.8)\n",
        "\n",
        "# run the model\n",
        "yHat,losses = buildAndTrainTheModel(x,y)\n",
        "yHat = yHat.detach()\n",
        "\n",
        "fig,ax = plt.subplots(1,2,figsize=(12,4))\n",
        "\n",
        "ax[0].plot(losses.detach(),'o',markerfacecolor='w',linewidth=.1)\n",
        "ax[0].set_xlabel('Epoch')\n",
        "ax[0].set_title('Loss')\n",
        "\n",
        "ax[1].plot(x,y,'bo',label='Real data')\n",
        "ax[1].plot(x,yHat,'rs',label='Predictions')\n",
        "ax[1].set_xlabel('x')\n",
        "ax[1].set_ylabel('y')\n",
        "ax[1].set_title(f'prediction-data corr = {np.corrcoef(y.T,yHat.T)[0,1]:.2f}')\n",
        "ax[1].legend()\n",
        "\n",
        "plt.show()"
      ],
      "execution_count": null,
      "outputs": []
    },
    {
      "cell_type": "markdown",
      "metadata": {
        "id": "Okh-KSKjlaly"
      },
      "source": [
        "# Now for the experiment!"
      ]
    },
    {
      "cell_type": "code",
      "metadata": {
        "id": "NMoo3Oq_lcW2"
      },
      "source": [
        "# (takes 3 mins with 21 slopes and 50 exps)\n",
        "\n",
        "# the slopes to simulate\n",
        "slopes = np.linspace(-2,2,21)\n",
        "\n",
        "numExps = 50\n",
        "\n",
        "# initialize output matrix\n",
        "results = np.zeros((len(slopes),numExps,2))\n",
        "\n",
        "for slopei in range(len(slopes)):\n",
        "\n",
        "  for N in range(numExps):\n",
        "  \n",
        "    # create a dataset and run the model\n",
        "    x,y = createTheData(slopes[slopei])\n",
        "    yHat,losses = buildAndTrainTheModel(x,y)\n",
        "    yHat = yHat.detach()\n",
        "\n",
        "    # store the final loss and performance\n",
        "    results[slopei,N,0] = losses[-1]\n",
        "    results[slopei,N,1] = np.corrcoef(y.T,yHat.T)[0,1]\n",
        "\n",
        "\n",
        "# correlation can be 0 if the model didn't do well. Set nan's->0\n",
        "results[np.isnan(results)] = 0"
      ],
      "execution_count": null,
      "outputs": []
    },
    {
      "cell_type": "code",
      "metadata": {
        "id": "ZgycGOVQlcZ3"
      },
      "source": [
        "# plot the results!\n",
        "\n",
        "fig,ax = plt.subplots(1,2,figsize=(12,4))\n",
        "\n",
        "ax[0].plot(slopes,np.mean(results[:,:,0],axis=1),'ko-',markerfacecolor='w',markersize=10)\n",
        "ax[0].set_xlabel('Slope')\n",
        "ax[0].set_title('Loss')\n",
        "\n",
        "ax[1].plot(slopes,np.mean(results[:,:,1],axis=1),'ms-',markerfacecolor='w',markersize=10)\n",
        "ax[1].set_xlabel('Slope')\n",
        "ax[1].set_ylabel('Real-predicted correlation')\n",
        "ax[1].set_title('Model performance')\n",
        "\n",
        "plt.show()"
      ],
      "execution_count": null,
      "outputs": []
    },
    {
      "cell_type": "code",
      "metadata": {
        "id": "pctwAH1ClcfH"
      },
      "source": [
        "# extra code to visualize data with different slopes\n",
        "\n",
        "m = 2\n",
        "\n",
        "x,y = createTheData(m)\n",
        "\n",
        "plt.title('Slope = ' + str(m))\n",
        "plt.plot(x,y,'o')\n",
        "plt.ylim([-4,4])\n",
        "plt.xlabel('x')\n",
        "plt.ylabel('y')\n",
        "plt.show()"
      ],
      "execution_count": null,
      "outputs": []
    },
    {
      "cell_type": "code",
      "metadata": {
        "id": "vGkQUzqhUFpq"
      },
      "source": [],
      "execution_count": null,
      "outputs": []
    }
  ]
}

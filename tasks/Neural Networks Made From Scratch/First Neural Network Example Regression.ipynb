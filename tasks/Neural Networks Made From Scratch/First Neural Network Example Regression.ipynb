{
 "cells": [
  {
   "cell_type": "markdown",
   "id": "1426d0dd-d16f-480b-a436-5d66db64f792",
   "metadata": {},
   "source": [
    "## First Neural Network Example Regression"
   ]
  },
  {
   "cell_type": "code",
   "execution_count": 13,
   "id": "ea2a5e1b-aa54-458f-8ac4-75a286654312",
   "metadata": {
    "tags": []
   },
   "outputs": [],
   "source": [
    "import numpy as np"
   ]
  },
  {
   "cell_type": "code",
   "execution_count": 14,
   "id": "7afa75f1-da07-4d19-a19f-efdf8e05ea47",
   "metadata": {
    "tags": []
   },
   "outputs": [],
   "source": [
    "def sigmoid(X):\n",
    "    return 1/(1+(np.e**-X))"
   ]
  },
  {
   "cell_type": "code",
   "execution_count": 15,
   "id": "e6f78bb7-8b88-4031-8ee2-f228fc61fca4",
   "metadata": {
    "tags": []
   },
   "outputs": [],
   "source": [
    "def forward(X, W, b, activation=True):\n",
    "    \n",
    "    if activation:\n",
    "        return sigmoid(np.dot(X,W) + b)\n",
    "    \n",
    "    else:\n",
    "        return np.dot(X,W) + b\n",
    "    "
   ]
  },
  {
   "cell_type": "code",
   "execution_count": 3,
   "id": "a79024db-56a2-4117-b469-e38e2de2309e",
   "metadata": {},
   "outputs": [
    {
     "ename": "SyntaxError",
     "evalue": "invalid decimal literal (89132990.py, line 1)",
     "output_type": "error",
     "traceback": [
      "\u001b[1;36m  Cell \u001b[1;32mIn[3], line 1\u001b[1;36m\u001b[0m\n\u001b[1;33m    50x3\u001b[0m\n\u001b[1;37m     ^\u001b[0m\n\u001b[1;31mSyntaxError\u001b[0m\u001b[1;31m:\u001b[0m invalid decimal literal\n"
     ]
    }
   ],
   "source": [
    "50x3\n",
    "\n",
    "3x1\n",
    "\n",
    "==\n",
    "\n",
    "50x1"
   ]
  },
  {
   "cell_type": "code",
   "execution_count": 8,
   "id": "8f8ebf9a-6f75-470f-a55a-6e04fd8b1418",
   "metadata": {
    "tags": []
   },
   "outputs": [],
   "source": [
    "def loss_val(Y,P):\n",
    "    \n",
    "    return 1/2*(Y-P)**2"
   ]
  },
  {
   "cell_type": "code",
   "execution_count": 16,
   "id": "4f4e61e2-7578-4e80-a3ec-e526a6d9b18a",
   "metadata": {
    "tags": []
   },
   "outputs": [],
   "source": [
    "def deriv(func, a, delta_x=0.001):\n",
    "    \n",
    "    return (func(a+delta_x) - func(a-delta_x)) / (delta_x*2)"
   ]
  },
  {
   "cell_type": "code",
   "execution_count": 17,
   "id": "7148bb72-33ad-4c21-ab43-786aaca345fc",
   "metadata": {
    "tags": []
   },
   "outputs": [],
   "source": [
    "# X = np.random.rand(3, 3) #3 samples x 3 features\n",
    "# Y = np.random.rand(3,1) #label for each 3 samples (3x1)"
   ]
  },
  {
   "cell_type": "code",
   "execution_count": 18,
   "id": "3f659b73-c6f4-4f22-b494-9e9967bb0d60",
   "metadata": {
    "tags": []
   },
   "outputs": [],
   "source": [
    "import pandas as pd\n",
    "data = pd.read_csv(\"boston.csv\", index_col=0)"
   ]
  },
  {
   "cell_type": "code",
   "execution_count": 19,
   "id": "0d7a571c-48c0-494f-93ae-31412ae37e40",
   "metadata": {
    "tags": []
   },
   "outputs": [],
   "source": [
    "X = data.iloc[:,:13].values\n",
    "Y = data.iloc[:,13].values.reshape(-1,1)"
   ]
  },
  {
   "cell_type": "code",
   "execution_count": 13,
   "id": "13670810-7c81-4439-8379-bf2a3d112524",
   "metadata": {
    "tags": []
   },
   "outputs": [],
   "source": [
    "W1 = np.random.rand(X.shape[1],1) #weight for each feature (3x1)\n",
    "b1 = np.random.rand(1,1) #one value to add to X*W (1x1)\n",
    "\n",
    "W2 = np.random.rand(1,1) #one weight for the (1x1) output of O1\n",
    "b2 = np.random.rand(1,1) #another unique value to add to O1*W2"
   ]
  },
  {
   "cell_type": "code",
   "execution_count": 14,
   "id": "cc36f162-cff6-421c-ab60-ed0c7a16a6c0",
   "metadata": {
    "tags": []
   },
   "outputs": [],
   "source": [
    "M1 = np.dot(X,W1) #(3x3) * (3x1) = (3x1)\n",
    "N1 = M1 + b1 #(3x1) + (3x1) = (3x1)"
   ]
  },
  {
   "cell_type": "code",
   "execution_count": 15,
   "id": "6679c249-4d1a-4d57-ac02-b1cd3cb57a8c",
   "metadata": {
    "tags": []
   },
   "outputs": [],
   "source": [
    "# N1"
   ]
  },
  {
   "cell_type": "code",
   "execution_count": 16,
   "id": "a7509120-ad84-4760-ab63-f562586266c1",
   "metadata": {
    "tags": []
   },
   "outputs": [],
   "source": [
    "O1 = sigmoid(N1) #apply non-linear function (3x1 shape remains equal)"
   ]
  },
  {
   "cell_type": "code",
   "execution_count": 17,
   "id": "5e67234f-c311-4ca3-a8b4-c05a19743596",
   "metadata": {
    "tags": []
   },
   "outputs": [],
   "source": [
    "# O1"
   ]
  },
  {
   "cell_type": "code",
   "execution_count": 18,
   "id": "e9f358c5-efb9-4c20-a7ff-53e4903f4e34",
   "metadata": {
    "tags": []
   },
   "outputs": [],
   "source": [
    "M2 = np.dot(O1,W2) #(3,1) * (1,1) = (3x1) same shape"
   ]
  },
  {
   "cell_type": "code",
   "execution_count": 19,
   "id": "5572f559-7851-403a-bfb7-018714606d04",
   "metadata": {
    "tags": []
   },
   "outputs": [],
   "source": [
    "P = M2 + b2 #(3x1) + (1,1) = (3x1 shape remains equal)"
   ]
  },
  {
   "cell_type": "code",
   "execution_count": 20,
   "id": "004a285f-a559-43c9-a345-ac4ee72ddab8",
   "metadata": {
    "tags": []
   },
   "outputs": [],
   "source": [
    "# P"
   ]
  },
  {
   "cell_type": "code",
   "execution_count": 21,
   "id": "8e962f60-5ff2-4e0a-a2a4-1645e9be31e7",
   "metadata": {
    "tags": []
   },
   "outputs": [],
   "source": [
    "L = 1/2*((Y-P)**2) #1/2(((3x1)-(3x1))**2) = (3x1) same shape"
   ]
  },
  {
   "cell_type": "code",
   "execution_count": 22,
   "id": "e16be370-67d6-47c9-b120-5273b9e08dcc",
   "metadata": {
    "tags": []
   },
   "outputs": [
    {
     "data": {
      "text/plain": [
       "array([[ 269.72100464],\n",
       "       [ 216.85886642],\n",
       "       [ 575.48303754],\n",
       "       [ 532.22437933],\n",
       "       [ 627.49687393],\n",
       "       [ 389.92769199],\n",
       "       [ 244.77752462],\n",
       "       [ 346.52626651],\n",
       "       [ 123.6518227 ],\n",
       "       [ 164.27396092],\n",
       "       [ 101.18798631],\n",
       "       [ 164.27396092],\n",
       "       [ 218.94645551],\n",
       "       [ 192.58779731],\n",
       "       [ 151.83083727],\n",
       "       [ 182.89985184],\n",
       "       [ 249.2227028 ],\n",
       "       [ 139.87771362],\n",
       "       [ 188.68261912],\n",
       "       [ 151.83083727],\n",
       "       [  82.25173901],\n",
       "       [ 177.20708457],\n",
       "       [ 104.05316449],\n",
       "       [  94.20004085],\n",
       "       [ 109.90352086],\n",
       "       [  86.14450629],\n",
       "       [ 125.22941179],\n",
       "       [  98.36280812],\n",
       "       [ 155.33601546],\n",
       "       [ 204.54333186],\n",
       "       [  71.11343718],\n",
       "       [  94.20004085],\n",
       "       [  77.20138264],\n",
       "       [  75.96379355],\n",
       "       [  80.97414992],\n",
       "       [ 164.27396092],\n",
       "       [ 184.81744094],\n",
       "       [ 204.54333186],\n",
       "       [ 286.22412828],\n",
       "       [ 450.77706293],\n",
       "       [ 582.28821572],\n",
       "       [ 333.48832104],\n",
       "       [ 300.75966284],\n",
       "       [ 286.22412828],\n",
       "       [ 208.60851005],\n",
       "       [ 171.60431729],\n",
       "       [ 184.81744094],\n",
       "       [ 125.22941179],\n",
       "       [  92.83245175],\n",
       "       [ 173.46190638],\n",
       "       [ 179.09467366],\n",
       "       [ 194.5553864 ],\n",
       "       [ 293.44689556],\n",
       "       [ 255.96547008],\n",
       "       [ 164.27396092],\n",
       "       [ 599.47616119],\n",
       "       [ 286.22412828],\n",
       "       [ 475.11777567],\n",
       "       [ 253.70788099],\n",
       "       [ 177.20708457],\n",
       "       [ 160.66878273],\n",
       "       [ 115.91387723],\n",
       "       [ 229.53440097],\n",
       "       [ 293.44689556],\n",
       "       [ 519.25402296],\n",
       "       [ 258.23305917],\n",
       "       [ 173.46190638],\n",
       "       [ 225.26922279],\n",
       "       [ 138.21012453],\n",
       "       [ 202.52574277],\n",
       "       [ 274.38618282],\n",
       "       [ 218.94645551],\n",
       "       [ 242.56993553],\n",
       "       [ 255.96547008],\n",
       "       [ 272.04859373],\n",
       "       [ 212.71368823],\n",
       "       [ 184.81744094],\n",
       "       [ 200.51815368],\n",
       "       [ 208.60851005],\n",
       "       [ 190.63020821],\n",
       "       [ 370.62456834],\n",
       "       [ 267.40341554],\n",
       "       [ 288.62171738],\n",
       "       [ 244.77752462],\n",
       "       [ 267.40341554],\n",
       "       [ 333.48832104],\n",
       "       [ 236.00716825],\n",
       "       [ 229.53440097],\n",
       "       [ 260.51064827],\n",
       "       [ 389.92769199],\n",
       "       [ 238.18475734],\n",
       "       [ 225.26922279],\n",
       "       [ 244.77752462],\n",
       "       [ 293.44689556],\n",
       "       [ 196.53297549],\n",
       "       [ 381.59492471],\n",
       "       [ 212.71368823],\n",
       "       [ 719.18660124],\n",
       "       [ 925.61364496],\n",
       "       [ 525.71920115],\n",
       "       [ 357.13662288],\n",
       "       [ 330.91073195],\n",
       "       [ 158.88119364],\n",
       "       [ 171.60431729],\n",
       "       [ 186.74503003],\n",
       "       [ 175.32949547],\n",
       "       [ 175.32949547],\n",
       "       [ 192.58779731],\n",
       "       [ 180.99226275],\n",
       "       [ 173.46190638],\n",
       "       [ 218.94645551],\n",
       "       [ 242.56993553],\n",
       "       [ 162.46637183],\n",
       "       [ 160.66878273],\n",
       "       [ 157.10360455],\n",
       "       [ 153.57842636],\n",
       "       [ 208.60851005],\n",
       "       [ 169.7567282 ],\n",
       "       [ 192.58779731],\n",
       "       [ 171.60431729],\n",
       "       [ 225.26922279],\n",
       "       [ 190.63020821],\n",
       "       [ 194.5553864 ],\n",
       "       [ 136.55253544],\n",
       "       [ 162.46637183],\n",
       "       [ 212.71368823],\n",
       "       [ 111.39110996],\n",
       "       [ 118.97905542],\n",
       "       [ 148.36565909],\n",
       "       [  91.47486266],\n",
       "       [ 169.7567282 ],\n",
       "       [ 177.20708457],\n",
       "       [ 246.99511371],\n",
       "       [ 155.33601546],\n",
       "       [ 109.90352086],\n",
       "       [ 150.09324818],\n",
       "       [ 138.21012453],\n",
       "       [ 133.26735725],\n",
       "       [  78.44897174],\n",
       "       [ 144.9404809 ],\n",
       "       [  87.46209538],\n",
       "       [  92.83245175],\n",
       "       [  79.70656083],\n",
       "       [ 109.90352086],\n",
       "       [  60.78513535],\n",
       "       [  84.8369172 ],\n",
       "       [ 109.90352086],\n",
       "       [  95.57762994],\n",
       "       [ 144.9404809 ],\n",
       "       [ 106.95834268],\n",
       "       [ 214.78127732],\n",
       "       [ 177.20708457],\n",
       "       [ 105.50075359],\n",
       "       [ 173.46190638],\n",
       "       [ 131.63976816],\n",
       "       [ 109.90352086],\n",
       "       [  75.96379355],\n",
       "       [ 821.17391764],\n",
       "       [ 276.73377191],\n",
       "       [ 253.70788099],\n",
       "       [ 343.89867741],\n",
       "       [1211.59416869],\n",
       "       [1211.59416869],\n",
       "       [1211.59416869],\n",
       "       [ 240.37234643],\n",
       "       [ 293.44689556],\n",
       "       [1211.59416869],\n",
       "       [ 265.09582645],\n",
       "       [ 265.09582645],\n",
       "       [ 231.68199006],\n",
       "       [ 138.21012453],\n",
       "       [ 167.9191391 ],\n",
       "       [ 249.2227028 ],\n",
       "       [ 260.51064827],\n",
       "       [ 238.18475734],\n",
       "       [ 409.72081563],\n",
       "       [ 251.4602919 ],\n",
       "       [ 283.83653919],\n",
       "       [ 424.1587611 ],\n",
       "       [ 663.42276485],\n",
       "       [ 761.51008126],\n",
       "       [ 627.49687393],\n",
       "       [ 689.1658885 ],\n",
       "       [ 503.2660775 ],\n",
       "       [ 328.34314286],\n",
       "       [ 415.46599382],\n",
       "       [1211.59416869],\n",
       "       [ 487.52813204],\n",
       "       [ 421.251172  ],\n",
       "       [ 582.28821572],\n",
       "       [ 656.15758667],\n",
       "       [ 441.81429565],\n",
       "       [ 634.60205211],\n",
       "       [ 459.82983021],\n",
       "       [ 401.17804836],\n",
       "       [1211.59416869],\n",
       "       [ 528.96679024],\n",
       "       [ 435.88911747],\n",
       "       [ 572.09544844],\n",
       "       [ 582.28821572],\n",
       "       [ 516.03643387],\n",
       "       [ 272.04859373],\n",
       "       [ 862.19980857],\n",
       "       [1138.88033231],\n",
       "       [1211.59416869],\n",
       "       [ 238.18475734],\n",
       "       [ 279.09136101],\n",
       "       [ 236.00716825],\n",
       "       [ 279.09136101],\n",
       "       [ 184.81744094],\n",
       "       [ 218.94645551],\n",
       "       [ 171.60431729],\n",
       "       [ 233.83957916],\n",
       "       [ 373.35215743],\n",
       "       [ 262.79823736],\n",
       "       [ 293.44689556],\n",
       "       [ 253.70788099],\n",
       "       [ 389.92769199],\n",
       "       [ 214.78127732],\n",
       "       [ 246.99511371],\n",
       "       [ 336.07591014],\n",
       "       [ 218.94645551],\n",
       "       [ 357.13662288],\n",
       "       [ 430.00393928],\n",
       "       [ 969.13953588],\n",
       "       [1211.59416869],\n",
       "       [ 678.07312122],\n",
       "       [ 475.11777567],\n",
       "       [1054.59372864],\n",
       "       [ 472.04018658],\n",
       "       [ 276.73377191],\n",
       "       [ 478.20536476],\n",
       "       [ 837.46427401],\n",
       "       [1129.35515412],\n",
       "       [ 398.35045926],\n",
       "       [ 269.72100464],\n",
       "       [ 295.87448465],\n",
       "       [ 472.04018658],\n",
       "       [ 262.79823736],\n",
       "       [ 253.70788099],\n",
       "       [ 225.26922279],\n",
       "       [ 186.74503003],\n",
       "       [ 229.53440097],\n",
       "       [ 262.79823736],\n",
       "       [ 141.55530271],\n",
       "       [ 157.10360455],\n",
       "       [ 276.73377191],\n",
       "       [ 194.5553864 ],\n",
       "       [ 281.4589501 ],\n",
       "       [ 323.23796467],\n",
       "       [ 279.09136101],\n",
       "       [ 288.62171738],\n",
       "       [ 415.46599382],\n",
       "       [ 883.08775403],\n",
       "       [ 223.15163369],\n",
       "       [ 202.52574277],\n",
       "       [ 934.23882314],\n",
       "       [1211.59416869],\n",
       "       [ 620.43169574],\n",
       "       [ 430.00393928],\n",
       "       [ 545.3547357 ],\n",
       "       [ 895.74052131],\n",
       "       [1153.24309958],\n",
       "       [ 456.80224111],\n",
       "       [ 638.1696412 ],\n",
       "       [ 242.56993553],\n",
       "       [ 447.77947384],\n",
       "       [1211.59416869],\n",
       "       [ 912.75087768],\n",
       "       [ 198.52056458],\n",
       "       [ 206.57092095],\n",
       "       [ 298.31207375],\n",
       "       [ 279.09136101],\n",
       "       [ 592.570983  ],\n",
       "       [ 500.09848841],\n",
       "       [ 487.52813204],\n",
       "       [ 525.71920115],\n",
       "       [ 522.48161206],\n",
       "       [ 401.17804836],\n",
       "       [ 589.13339391],\n",
       "       [ 995.73507044],\n",
       "       [ 599.47616119],\n",
       "       [1022.69060499],\n",
       "       [1211.59416869],\n",
       "       [ 493.79331022],\n",
       "       [ 225.26922279],\n",
       "       [ 186.74503003],\n",
       "       [ 251.4602919 ],\n",
       "       [ 231.68199006],\n",
       "       [ 288.62171738],\n",
       "       [ 384.3625138 ],\n",
       "       [ 667.07035394],\n",
       "       [ 367.90697925],\n",
       "       [ 267.40341554],\n",
       "       [ 218.94645551],\n",
       "       [ 387.14010289],\n",
       "       [ 346.52626651],\n",
       "       [ 190.63020821],\n",
       "       [ 236.00716825],\n",
       "       [ 398.35045926],\n",
       "       [ 288.62171738],\n",
       "       [ 225.26922279],\n",
       "       [ 328.34314286],\n",
       "       [ 522.48161206],\n",
       "       [ 623.95928483],\n",
       "       [ 381.59492471],\n",
       "       [ 532.22437933],\n",
       "       [ 376.08974652],\n",
       "       [ 242.56993553],\n",
       "       [ 190.63020821],\n",
       "       [ 117.44146633],\n",
       "       [ 227.39681188],\n",
       "       [ 173.46190638],\n",
       "       [ 216.85886642],\n",
       "       [ 265.09582645],\n",
       "       [ 118.97905542],\n",
       "       [ 144.9404809 ],\n",
       "       [ 180.99226275],\n",
       "       [ 249.2227028 ],\n",
       "       [ 204.54333186],\n",
       "       [ 265.09582645],\n",
       "       [ 249.2227028 ],\n",
       "       [ 192.58779731],\n",
       "       [ 157.10360455],\n",
       "       [ 293.44689556],\n",
       "       [ 283.83653919],\n",
       "       [ 246.99511371],\n",
       "       [ 229.53440097],\n",
       "       [ 171.60431729],\n",
       "       [ 238.18475734],\n",
       "       [ 180.99226275],\n",
       "       [ 133.26735725],\n",
       "       [ 173.46190638],\n",
       "       [ 229.53440097],\n",
       "       [ 198.52056458],\n",
       "       [ 206.57092095],\n",
       "       [ 175.32949547],\n",
       "       [ 157.10360455],\n",
       "       [ 196.53297549],\n",
       "       [ 166.09155001],\n",
       "       [ 160.66878273],\n",
       "       [ 509.63125569],\n",
       "       [ 123.6518227 ],\n",
       "       [ 267.40341554],\n",
       "       [ 462.8674193 ],\n",
       "       [ 139.87771362],\n",
       "       [ 134.90494634],\n",
       "       [ 249.2227028 ],\n",
       "       [ 281.4589501 ],\n",
       "       [ 333.48832104],\n",
       "       [ 244.77752462],\n",
       "       [ 272.04859373],\n",
       "       [ 158.88119364],\n",
       "       [ 430.00393928],\n",
       "       [ 151.83083727],\n",
       "       [ 196.53297549],\n",
       "       [ 144.9404809 ],\n",
       "       [ 218.94645551],\n",
       "       [ 240.37234643],\n",
       "       [ 238.18475734],\n",
       "       [ 293.44689556],\n",
       "       [ 182.89985184],\n",
       "       [ 200.51815368],\n",
       "       [ 128.41458997],\n",
       "       [ 223.15163369],\n",
       "       [ 357.13662288],\n",
       "       [ 223.15163369],\n",
       "       [ 249.2227028 ],\n",
       "       [1211.59416869],\n",
       "       [1211.59416869],\n",
       "       [1211.59416869],\n",
       "       [1211.59416869],\n",
       "       [1211.59416869],\n",
       "       [  84.8369172 ],\n",
       "       [  84.8369172 ],\n",
       "       [ 101.18798631],\n",
       "       [  86.14450629],\n",
       "       [  78.44897174],\n",
       "       [  75.96379355],\n",
       "       [  44.42370987],\n",
       "       [  46.32888805],\n",
       "       [  51.26683352],\n",
       "       [  55.39718989],\n",
       "       [  66.42308081],\n",
       "       [  32.20746257],\n",
       "       [  20.64603709],\n",
       "       [  47.29647715],\n",
       "       [  21.95121528],\n",
       "       [  44.42370987],\n",
       "       [  57.52236807],\n",
       "       [ 102.6155754 ],\n",
       "       [ 251.4602919 ],\n",
       "       [  39.83576441],\n",
       "       [  84.8369172 ],\n",
       "       [  71.11343718],\n",
       "       [  75.96379355],\n",
       "       [  68.748259  ],\n",
       "       [  29.84469529],\n",
       "       [   8.92907706],\n",
       "       [  15.26773526],\n",
       "       [  11.64461161],\n",
       "       [  20.64603709],\n",
       "       [  64.13790263],\n",
       "       [  28.31951711],\n",
       "       [  29.84469529],\n",
       "       [   8.92907706],\n",
       "       [  61.89272444],\n",
       "       [ 367.90697925],\n",
       "       [ 134.90494634],\n",
       "       [ 357.13662288],\n",
       "       [ 101.18798631],\n",
       "       [ 134.90494634],\n",
       "       [ 146.64806999],\n",
       "       [ 120.52664451],\n",
       "       [  19.38085891],\n",
       "       [  20.64603709],\n",
       "       [  22.61880437],\n",
       "       [  46.32888805],\n",
       "       [  32.20746257],\n",
       "       [  29.0771062 ],\n",
       "       [ 126.81700088],\n",
       "       [  90.12727357],\n",
       "       [ 200.51815368],\n",
       "       [  79.70656083],\n",
       "       [  59.68754626],\n",
       "       [  28.31951711],\n",
       "       [  44.42370987],\n",
       "       [  51.26683352],\n",
       "       [  52.28442261],\n",
       "       [  38.07058622],\n",
       "       [  94.20004085],\n",
       "       [  88.78968448],\n",
       "       [ 117.44146633],\n",
       "       [  91.47486266],\n",
       "       [  59.68754626],\n",
       "       [  79.70656083],\n",
       "       [  38.94817531],\n",
       "       [  31.40987348],\n",
       "       [  29.0771062 ],\n",
       "       [  72.31102627],\n",
       "       [  47.29647715],\n",
       "       [ 133.26735725],\n",
       "       [ 155.33601546],\n",
       "       [ 106.95834268],\n",
       "       [  50.25924442],\n",
       "       [  60.78513535],\n",
       "       [  99.77039722],\n",
       "       [  69.92584809],\n",
       "       [  88.78968448],\n",
       "       [  74.73620446],\n",
       "       [  79.70656083],\n",
       "       [ 104.05316449],\n",
       "       [ 117.44146633],\n",
       "       [ 144.9404809 ],\n",
       "       [  99.77039722],\n",
       "       [  88.78968448],\n",
       "       [  71.11343718],\n",
       "       [  80.97414992],\n",
       "       [  99.77039722],\n",
       "       [ 184.81744094],\n",
       "       [ 122.0842336 ],\n",
       "       [ 143.24289181],\n",
       "       [ 175.32949547],\n",
       "       [ 188.68261912],\n",
       "       [ 212.71368823],\n",
       "       [ 182.89985184],\n",
       "       [ 166.09155001],\n",
       "       [ 167.9191391 ],\n",
       "       [ 167.9191391 ],\n",
       "       [ 186.74503003],\n",
       "       [ 182.89985184],\n",
       "       [ 177.20708457],\n",
       "       [ 251.4602919 ],\n",
       "       [ 421.251172  ],\n",
       "       [  84.8369172 ],\n",
       "       [  78.44897174],\n",
       "       [ 126.81700088],\n",
       "       [  63.01031353],\n",
       "       [  95.57762994],\n",
       "       [ 212.71368823],\n",
       "       [ 246.99511371],\n",
       "       [ 262.79823736],\n",
       "       [ 293.44689556],\n",
       "       [ 221.0440446 ],\n",
       "       [ 196.53297549],\n",
       "       [ 208.60851005],\n",
       "       [ 167.9191391 ],\n",
       "       [ 196.53297549],\n",
       "       [ 104.05316449],\n",
       "       [  19.38085891],\n",
       "       [  26.83433892],\n",
       "       [  82.25173901],\n",
       "       [ 186.74503003],\n",
       "       [ 221.0440446 ],\n",
       "       [ 281.4589501 ],\n",
       "       [ 249.2227028 ],\n",
       "       [ 179.09467366],\n",
       "       [ 153.57842636],\n",
       "       [ 208.60851005],\n",
       "       [ 139.87771362],\n",
       "       [ 128.41458997],\n",
       "       [ 233.83957916],\n",
       "       [ 196.53297549],\n",
       "       [ 267.40341554],\n",
       "       [ 225.26922279],\n",
       "       [  61.89272444]])"
      ]
     },
     "execution_count": 22,
     "metadata": {},
     "output_type": "execute_result"
    }
   ],
   "source": [
    "L"
   ]
  },
  {
   "cell_type": "code",
   "execution_count": 23,
   "id": "1625673e-338a-426a-8428-6329e71876b2",
   "metadata": {
    "tags": []
   },
   "outputs": [
    {
     "data": {
      "text/plain": [
       "278.9302310736749"
      ]
     },
     "execution_count": 23,
     "metadata": {},
     "output_type": "execute_result"
    }
   ],
   "source": [
    "L.mean()"
   ]
  },
  {
   "cell_type": "code",
   "execution_count": 24,
   "id": "7ccddbc1-a1cd-4aa7-8742-c14bb1a4cd9f",
   "metadata": {
    "tags": []
   },
   "outputs": [],
   "source": [
    "dL_dP = -(Y-P)"
   ]
  },
  {
   "cell_type": "code",
   "execution_count": 25,
   "id": "7ebba076-db92-441b-b6e8-a6e5a01b6fd0",
   "metadata": {
    "tags": []
   },
   "outputs": [],
   "source": [
    "dP_dM2, dP_db2 = np.ones_like(M2), np.ones_like(b2)"
   ]
  },
  {
   "cell_type": "code",
   "execution_count": 26,
   "id": "b58a4edb-dc7a-4066-92c5-9160898ff6b7",
   "metadata": {
    "tags": []
   },
   "outputs": [],
   "source": [
    "dL_dM2, dL_db2 = (dL_dP*dP_dM2), (dL_dP*dP_db2).sum(axis=0)"
   ]
  },
  {
   "cell_type": "code",
   "execution_count": 27,
   "id": "643056f8-0b34-4067-9413-ece2880573aa",
   "metadata": {
    "tags": []
   },
   "outputs": [],
   "source": [
    "dM2_dO1, dM2_dW2 = np.transpose(W2, (1,0)), np.transpose(O1, (1,0))"
   ]
  },
  {
   "cell_type": "code",
   "execution_count": 28,
   "id": "9959d176-0028-4fe6-a99e-720c9c5ddcec",
   "metadata": {
    "tags": []
   },
   "outputs": [],
   "source": [
    "dL_dW2 = np.dot(dM2_dW2, dL_dP)"
   ]
  },
  {
   "cell_type": "code",
   "execution_count": 29,
   "id": "1d15e876-b6b0-4ff5-b809-27aab26beffb",
   "metadata": {
    "tags": []
   },
   "outputs": [],
   "source": [
    "dL_dO1 = np.dot(dL_dM2, dM2_dO1)"
   ]
  },
  {
   "cell_type": "code",
   "execution_count": 30,
   "id": "54467e3d-ee0c-4c37-a56d-9e768b1baa86",
   "metadata": {
    "tags": []
   },
   "outputs": [],
   "source": [
    "dO1_dN1 = (np.e**-N1)/(1+np.e**-N1)**2"
   ]
  },
  {
   "cell_type": "code",
   "execution_count": 31,
   "id": "ab339165-36eb-47e7-8eac-2e81920b0f96",
   "metadata": {
    "tags": []
   },
   "outputs": [],
   "source": [
    "dL_dN1 = (dL_dO1*dO1_dN1)"
   ]
  },
  {
   "cell_type": "code",
   "execution_count": 32,
   "id": "e373807c-f6e1-4882-9342-35a51a7a37eb",
   "metadata": {
    "tags": []
   },
   "outputs": [],
   "source": [
    "dN1_dM1, dN1_db1 = np.ones_like(M1), np.ones_like(b1)"
   ]
  },
  {
   "cell_type": "code",
   "execution_count": 33,
   "id": "fd1c4a3b-7c73-4ec8-a3a4-803a9183d753",
   "metadata": {
    "tags": []
   },
   "outputs": [],
   "source": [
    "dL_db1 = (dL_dN1*dN1_db1).sum(axis=0)"
   ]
  },
  {
   "cell_type": "code",
   "execution_count": 34,
   "id": "015e1ef6-aa30-4d17-ad36-c9ba9c973eb2",
   "metadata": {
    "tags": []
   },
   "outputs": [],
   "source": [
    "dL_dM1 = dL_dN1 * dN1_dM1"
   ]
  },
  {
   "cell_type": "code",
   "execution_count": 35,
   "id": "2a805597-0cae-4a0d-9904-9a1090fde601",
   "metadata": {
    "tags": []
   },
   "outputs": [],
   "source": [
    "dM1_dW1 = np.transpose(X, (1,0))"
   ]
  },
  {
   "cell_type": "code",
   "execution_count": 36,
   "id": "c8b71805-b3a8-4203-afff-80645578b83b",
   "metadata": {
    "tags": []
   },
   "outputs": [],
   "source": [
    "dL_dW1 = np.dot(dM1_dW1, dL_dM1)"
   ]
  },
  {
   "cell_type": "code",
   "execution_count": 37,
   "id": "331bb10e-54bb-45e3-b7c8-4641905f7f79",
   "metadata": {},
   "outputs": [
    {
     "data": {
      "text/plain": [
       "(array([[-7.56036861e-175],\n",
       "        [-5.02796641e-219],\n",
       "        [-2.82902410e-173],\n",
       "        [-1.16337771e-186],\n",
       "        [-1.71856604e-174],\n",
       "        [-2.11681067e-173],\n",
       "        [-2.82241423e-172],\n",
       "        [-8.97190622e-174],\n",
       "        [-1.65246735e-173],\n",
       "        [-1.26909492e-171],\n",
       "        [-6.90731351e-173],\n",
       "        [-2.33989376e-172],\n",
       "        [-3.51314558e-173]]),\n",
       " array([-3.30493469e-174]),\n",
       " array([[-11009.9008082]]),\n",
       " array([-11009.9008082]))"
      ]
     },
     "execution_count": 37,
     "metadata": {},
     "output_type": "execute_result"
    }
   ],
   "source": [
    "dL_dW1, dL_db1,dL_dW2, dL_db2"
   ]
  },
  {
   "cell_type": "code",
   "execution_count": 38,
   "id": "866bff45-62a1-4b6a-8cc3-d2926d6c9fe8",
   "metadata": {
    "tags": []
   },
   "outputs": [
    {
     "data": {
      "text/plain": [
       "array([[0.25581605],\n",
       "       [0.84444179],\n",
       "       [0.31936471],\n",
       "       [0.58800724],\n",
       "       [0.74352967],\n",
       "       [0.17800538],\n",
       "       [0.46516719],\n",
       "       [0.58010412],\n",
       "       [0.39648109],\n",
       "       [0.75324429],\n",
       "       [0.42418572],\n",
       "       [0.77018786],\n",
       "       [0.05689602]])"
      ]
     },
     "execution_count": 38,
     "metadata": {},
     "output_type": "execute_result"
    }
   ],
   "source": [
    "W1"
   ]
  },
  {
   "cell_type": "code",
   "execution_count": null,
   "id": "14ca387e-d653-4445-a3de-372cbc78e89f",
   "metadata": {},
   "outputs": [],
   "source": []
  },
  {
   "cell_type": "code",
   "execution_count": null,
   "id": "3b477a68-b14e-4714-aed0-5664cb777239",
   "metadata": {},
   "outputs": [],
   "source": []
  },
  {
   "cell_type": "code",
   "execution_count": 39,
   "id": "c03a503d-a7ff-46f3-a605-49daf51bdc57",
   "metadata": {
    "tags": []
   },
   "outputs": [
    {
     "data": {
      "text/plain": [
       "278.9302310736749"
      ]
     },
     "execution_count": 39,
     "metadata": {},
     "output_type": "execute_result"
    }
   ],
   "source": [
    "L.mean()"
   ]
  },
  {
   "cell_type": "code",
   "execution_count": 40,
   "id": "7b9128e8-d5c3-4543-a4ce-3ca2ab22f2ee",
   "metadata": {
    "tags": []
   },
   "outputs": [],
   "source": [
    "for w in range(W1.shape[0]):\n",
    "\n",
    "    W1[w] -= dL_dW1[w]*0.001\n",
    "\n",
    "b1 -= dL_db1*0.001\n",
    "\n",
    "W2 -= dL_dW2*0.001\n",
    "b2 -= dL_db2*0.001\n",
    "\n",
    "\n",
    "\n",
    "M1 = np.dot(X,W1) #(3x3) * (3x1) = (3x1)\n",
    "N1 = M1 + b1 #(3x1) + (3x1) = (3x1)\n",
    "\n",
    "\n",
    "\n",
    "O1 = sigmoid(N1) #apply non-linear function (3x1 shape remains equal)\n",
    "\n",
    "\n",
    "\n",
    "M2 = np.dot(O1,W2) #(3,1) * (1,1) = (3x1) same shape\n",
    "\n",
    "P = M2 + b2 #(3x1) + (1,1) = (3x1 shape remains equal)\n",
    "\n",
    "\n",
    "\n",
    "L = 1/2*((Y-P)**2) #1/2(((3x1)-(3x1))**2) = (3x1) same shape"
   ]
  },
  {
   "cell_type": "code",
   "execution_count": 41,
   "id": "96b08a26-56ba-40e6-9eda-1c3455926f51",
   "metadata": {
    "tags": []
   },
   "outputs": [
    {
     "data": {
      "text/plain": [
       "42.24386582331413"
      ]
     },
     "execution_count": 41,
     "metadata": {},
     "output_type": "execute_result"
    }
   ],
   "source": [
    "L.mean()"
   ]
  },
  {
   "cell_type": "code",
   "execution_count": 42,
   "id": "eeea49db-0f4d-4c9d-b20e-68059919f232",
   "metadata": {
    "tags": []
   },
   "outputs": [
    {
     "data": {
      "text/plain": [
       "0.6224593312018546"
      ]
     },
     "execution_count": 42,
     "metadata": {},
     "output_type": "execute_result"
    }
   ],
   "source": [
    "sigmoid(0.50)"
   ]
  },
  {
   "cell_type": "code",
   "execution_count": 43,
   "id": "3c34ca8b-10c0-4dc1-8d66-e0376d5f9533",
   "metadata": {
    "tags": []
   },
   "outputs": [
    {
     "data": {
      "text/plain": [
       "array([[0.97523445]])"
      ]
     },
     "execution_count": 43,
     "metadata": {},
     "output_type": "execute_result"
    }
   ],
   "source": [
    "b1"
   ]
  },
  {
   "cell_type": "code",
   "execution_count": null,
   "id": "5e0382e4-b33f-433d-af30-7cd1ccd5fc1e",
   "metadata": {},
   "outputs": [],
   "source": []
  },
  {
   "cell_type": "code",
   "execution_count": null,
   "id": "ae4edd74-459c-4e37-84ba-e6ed75d7992e",
   "metadata": {},
   "outputs": [],
   "source": []
  },
  {
   "cell_type": "code",
   "execution_count": null,
   "id": "33b7f674-7768-403a-a0e1-34f390d7a47e",
   "metadata": {},
   "outputs": [],
   "source": []
  },
  {
   "cell_type": "code",
   "execution_count": 44,
   "id": "5d80af26-e5e0-44ec-8477-7c8783f50042",
   "metadata": {
    "tags": []
   },
   "outputs": [],
   "source": [
    "# for w in range(W1.shape[0]):\n",
    "\n",
    "#     W1[w] -= dL_dW1[w]*0.001\n",
    "\n",
    "# b1 -= dL_db1*0.001\n",
    "\n",
    "# W2 -= dL_dW2*0.001\n",
    "# b2 -= dL_db2*0.001\n",
    "\n",
    "\n",
    "\n",
    "# M1 = np.dot(X,W1) #(3x3) * (3x1) = (3x1)\n",
    "# N1 = M1 + b1 #(3x1) + (3x1) = (3x1)\n",
    "\n",
    "# N1\n",
    "\n",
    "# O1 = sigmoid(N1) #apply non-linear function (3x1 shape remains equal)\n",
    "\n",
    "# O1\n",
    "\n",
    "# M2 = np.dot(O1,W2) #(3,1) * (1,1) = (3x1) same shape\n",
    "\n",
    "# P = M2 + b2 #(3x1) + (1,1) = (3x1 shape remains equal)\n",
    "\n",
    "# P\n",
    "\n",
    "# L = 1/2*((Y-P)**2) #1/2(((3x1)-(3x1))**2) = (3x1) same shape\n",
    "\n",
    "# 0.26533028 > 0.26327003\n",
    "\n",
    "# 0.14987436 > 0.14831557\n",
    "\n",
    "# 0.14831557 > 0.11183451"
   ]
  },
  {
   "cell_type": "code",
   "execution_count": null,
   "id": "c7dcfab2-48e2-4e17-9e80-5a3463f88271",
   "metadata": {},
   "outputs": [],
   "source": []
  },
  {
   "cell_type": "code",
   "execution_count": null,
   "id": "a72ca935-b11c-4e73-935f-e28b448566cb",
   "metadata": {},
   "outputs": [],
   "source": []
  },
  {
   "cell_type": "code",
   "execution_count": null,
   "id": "864938db-eea2-41a1-916e-5ae54f806a5a",
   "metadata": {},
   "outputs": [],
   "source": []
  },
  {
   "cell_type": "code",
   "execution_count": null,
   "id": "eb1ec292-fca6-4ca7-97d7-827288fa0569",
   "metadata": {},
   "outputs": [],
   "source": []
  },
  {
   "cell_type": "code",
   "execution_count": 45,
   "id": "2fe2e947-ca0f-4ed6-b9d8-c7370f5f8161",
   "metadata": {
    "tags": []
   },
   "outputs": [
    {
     "ename": "ValueError",
     "evalue": "shapes (506,13) and (506,1) not aligned: 13 (dim 1) != 506 (dim 0)",
     "output_type": "error",
     "traceback": [
      "\u001b[1;31m---------------------------------------------------------------------------\u001b[0m",
      "\u001b[1;31mValueError\u001b[0m                                Traceback (most recent call last)",
      "Cell \u001b[1;32mIn[45], line 6\u001b[0m\n\u001b[0;32m      3\u001b[0m W2 \u001b[38;5;241m=\u001b[39m np\u001b[38;5;241m.\u001b[39mrandom\u001b[38;5;241m.\u001b[39mrand(\u001b[38;5;241m1\u001b[39m,\u001b[38;5;241m1\u001b[39m) \n\u001b[0;32m      4\u001b[0m b2 \u001b[38;5;241m=\u001b[39m np\u001b[38;5;241m.\u001b[39mrandom\u001b[38;5;241m.\u001b[39mrand(\u001b[38;5;241m1\u001b[39m,\u001b[38;5;241m1\u001b[39m)\n\u001b[1;32m----> 6\u001b[0m M1 \u001b[38;5;241m=\u001b[39m \u001b[43mnp\u001b[49m\u001b[38;5;241;43m.\u001b[39;49m\u001b[43mdot\u001b[49m\u001b[43m(\u001b[49m\u001b[43mX\u001b[49m\u001b[43m,\u001b[49m\u001b[43mW1\u001b[49m\u001b[43m)\u001b[49m \n\u001b[0;32m      7\u001b[0m N1 \u001b[38;5;241m=\u001b[39m M1 \u001b[38;5;241m+\u001b[39m b1 \n\u001b[0;32m      8\u001b[0m O1 \u001b[38;5;241m=\u001b[39m sigmoid(N1)\n",
      "\u001b[1;31mValueError\u001b[0m: shapes (506,13) and (506,1) not aligned: 13 (dim 1) != 506 (dim 0)"
     ]
    }
   ],
   "source": [
    "\n",
    "\n",
    "W1 = np.random.rand(X.shape[0],1)\n",
    "b1 = np.random.rand(1,1)\n",
    "W2 = np.random.rand(1,1) \n",
    "b2 = np.random.rand(1,1)\n",
    "\n",
    "M1 = np.dot(X,W1) \n",
    "N1 = M1 + b1 \n",
    "O1 = sigmoid(N1)\n",
    "M2 = np.dot(O1,W2) \n",
    "P = M2 + b2\n"
   ]
  },
  {
   "cell_type": "code",
   "execution_count": null,
   "id": "f4d476b9-d701-4fa6-800b-e0529ee9c91d",
   "metadata": {},
   "outputs": [],
   "source": []
  },
  {
   "cell_type": "code",
   "execution_count": 20,
   "id": "bb88cad6-65af-40c8-8b83-495202dc2c8b",
   "metadata": {
    "tags": []
   },
   "outputs": [],
   "source": [
    "def backward(X_batch, Y_batch, W1, b1, W2, b2):\n",
    "\n",
    "    #run forward pass\n",
    "    M1 = np.dot(X_batch,W1) \n",
    "    N1 = M1 + b1 \n",
    "    O1 = sigmoid(N1)\n",
    "    M2 = np.dot(O1,W2) \n",
    "    P = M2 + b2\n",
    "    L = 1/2*((Y_batch-P)**2)\n",
    "    \n",
    "    #compute partial derivatives\n",
    "    dL_dP = -1*(Y_batch-P)\n",
    "\n",
    "    dP_dM2, dP_dB2 = np.ones_like(M2), np.ones_like(b2)\n",
    "\n",
    "    dL_dM2, dL_db2 = (dL_dP*dP_dM2), (dL_dP*dP_dB2).sum(axis=0)\n",
    "\n",
    "    dM2_dO1, dM2_dW2 = np.transpose(W2, (1,0)), np.transpose(O1, (1,0))\n",
    "\n",
    "    dL_dW2 = np.dot(dM2_dW2, dL_dP)\n",
    "\n",
    "    dL_dO1 = np.dot(dL_dM2, dM2_dO1)\n",
    "\n",
    "    dO1_dN1 = (np.e**-N1)/(1+np.e**-N1)**2\n",
    "    \n",
    "    dL_dN1 = (dL_dO1*dO1_dN1)\n",
    "\n",
    "    dN1_dM1, dN1_db1 = np.ones_like(M1), np.ones_like(b1)\n",
    "\n",
    "    dL_db1 = (dL_dN1*dN1_db1).sum(axis=0)\n",
    "\n",
    "    dL_dM1 = dL_dN1 * dN1_dM1\n",
    "\n",
    "    dM1_dW1 = np.transpose(X_batch, (1,0))\n",
    "\n",
    "    dL_dW1 = np.dot(dM1_dW1, dL_dM1)\n",
    "    \n",
    "    return dL_dW2, dL_db2, dL_dW1, dL_db1\n",
    "    \n",
    "    \n",
    "    "
   ]
  },
  {
   "cell_type": "code",
   "execution_count": 21,
   "id": "eee60ec7-0dde-4261-96cd-7dfb3b094e8e",
   "metadata": {
    "tags": []
   },
   "outputs": [],
   "source": [
    "def permute_data(X, Y):\n",
    "    perm = np.random.permutation(X.shape[0])\n",
    "    return X[perm], Y[perm]"
   ]
  },
  {
   "cell_type": "code",
   "execution_count": 22,
   "id": "57f40676-6f3a-4212-9a8e-0a659a448be5",
   "metadata": {
    "tags": []
   },
   "outputs": [],
   "source": [
    "def generate_batch(X,Y, start, batch_size):\n",
    "    \n",
    "    return X[start:start+batch_size], Y[start:start+batch_size]\n"
   ]
  },
  {
   "cell_type": "code",
   "execution_count": 23,
   "id": "8d797ba2-9454-432e-812c-3a54e13b2636",
   "metadata": {
    "tags": []
   },
   "outputs": [],
   "source": [
    "def generate_batch(X, \n",
    "                   y,\n",
    "                   start: int = 0,\n",
    "                   batch_size: int = 10):\n",
    "    '''\n",
    "    Generate batch from X and y, given a start position\n",
    "    '''\n",
    "    assert X.ndim == y.ndim == 2, \\\n",
    "    \"X and Y must be 2 dimensional\"\n",
    "\n",
    "    if start+batch_size > X.shape[0]:\n",
    "        batch_size = X.shape[0] - start\n",
    "    \n",
    "    X_batch, y_batch = X[start:start+batch_size], y[start:start+batch_size]\n",
    "    \n",
    "    return X_batch, y_batch"
   ]
  },
  {
   "cell_type": "code",
   "execution_count": 24,
   "id": "8a66b135-cd7e-4163-9903-21aaa0fd8872",
   "metadata": {
    "tags": []
   },
   "outputs": [],
   "source": [
    "def train_nn(X, Y, n_epochs, batch_size=20):\n",
    "    \n",
    "    #initialize parameters\n",
    "    W1 = np.random.rand(X.shape[1],1)\n",
    "    b1 = np.random.rand(1,1)\n",
    "    W2 = np.random.rand(1,1) \n",
    "    b2 = np.random.rand(1,1)\n",
    "\n",
    "    X, Y = permute_data(X, Y)\n",
    "    X_batch, Y_batch = X, Y\n",
    "\n",
    "    start = 0\n",
    "    \n",
    "    losses = []\n",
    "    \n",
    "    for epoch in range(n_epochs):\n",
    "        if start >= X.shape[0]:\n",
    "            X, y = permute_data(X, Y)\n",
    "            start = 0\n",
    "        \n",
    "        # generate batch of data\n",
    "        X_batch, Y_batch = generate_batch(X,Y, start=start,\n",
    "                                          batch_size=batch_size)\n",
    "        start += batch_size\n",
    "    \n",
    "        \n",
    "        #forward pass\n",
    "        M1 = np.dot(X_batch,W1) \n",
    "        N1 = M1 + b1 \n",
    "        O1 = sigmoid(N1)\n",
    "        M2 = np.dot(O1,W2) \n",
    "        P_batch = M2 + b2\n",
    "        L = 1/2*((Y_batch-P_batch)**2)\n",
    "        \n",
    "        #backward pass\n",
    "        W2_g, b2_g, W1_g, b1_g = backward(X_batch, Y_batch,\n",
    "                                         W1=W1, b1=b1,\n",
    "                                         W2=W2, b2=b2)\n",
    "        #update parameters\n",
    "#         print(\"--\")\n",
    "#         print(f\"W1 {W1.shape}, W1_g {W1_g.shape}\")\n",
    "#         print(f\"b1 {b1.shape}, b1_g {b1_g.shape}\")\n",
    "        \n",
    "#         print(f\"W2 {W2.shape}, W2_g {W2_g.shape}\")\n",
    "#         print(f\"b2 {b2.shape}, b2_g {b2_g.shape}\")\n",
    "#         print(\"--\")\n",
    "        \n",
    "        W2 -= W2_g*0.001\n",
    "        b2 -= b2_g*0.001\n",
    "        \n",
    "        for weight in range(X.shape[1]):\n",
    "            W1[weight] -= W1_g[weight]*0.001\n",
    "        \n",
    "        b1 -= b1_g*0.001\n",
    "        \n",
    "        \n",
    "        #print loss\n",
    "        # print(f\"Epoch {epoch}, loss={np.mean(L, axis=0)}\")\n",
    "        \n",
    "        # if epoch % 100 == 0:\n",
    "        #     losses.append(np.mean(L, axis=0))\n",
    "        losses.append(np.mean(L, axis=0))\n",
    "\n",
    "\n",
    "        \n",
    "        \n",
    "    return losses, W1, b1, W2, b2\n",
    "        "
   ]
  },
  {
   "cell_type": "code",
   "execution_count": 25,
   "id": "66778d49-786c-4c50-ab69-05694d35be01",
   "metadata": {
    "tags": []
   },
   "outputs": [],
   "source": [
    "import pandas as pd"
   ]
  },
  {
   "cell_type": "code",
   "execution_count": 26,
   "id": "25c89432-f140-4c9a-b885-52a7c469adb3",
   "metadata": {
    "tags": []
   },
   "outputs": [],
   "source": [
    "df = pd.read_csv(\"boston.csv\", index_col=[0])"
   ]
  },
  {
   "cell_type": "code",
   "execution_count": 27,
   "id": "cbfb89aa-a0ab-4d66-b4ae-93d2b4b1067c",
   "metadata": {
    "tags": []
   },
   "outputs": [],
   "source": [
    "X = df.drop(columns=\"Price\").values\n",
    "Y = df[[\"Price\"]].values"
   ]
  },
  {
   "cell_type": "code",
   "execution_count": null,
   "id": "89690aec-367f-460c-a6d8-2b2540ed5237",
   "metadata": {},
   "outputs": [],
   "source": []
  },
  {
   "cell_type": "code",
   "execution_count": 28,
   "id": "5d29af60-d506-4653-a883-2f8579ca17e8",
   "metadata": {
    "tags": []
   },
   "outputs": [],
   "source": [
    "from sklearn.preprocessing import StandardScaler\n",
    "s = StandardScaler()\n",
    "data = s.fit_transform(data)"
   ]
  },
  {
   "cell_type": "code",
   "execution_count": 29,
   "id": "731cb1f6-1b34-4e43-8aa1-72f7c49441d0",
   "metadata": {
    "tags": []
   },
   "outputs": [],
   "source": [
    "X = data[:,:13]\n",
    "Y = data[:,13].reshape(-1,1)"
   ]
  },
  {
   "cell_type": "code",
   "execution_count": 30,
   "id": "a4edf5b2-50a6-4b31-861f-b481c7d9cb53",
   "metadata": {
    "tags": []
   },
   "outputs": [],
   "source": [
    "from sklearn.model_selection import train_test_split"
   ]
  },
  {
   "cell_type": "code",
   "execution_count": 31,
   "id": "4b390824-1340-4b3a-825d-c29cfdb4c540",
   "metadata": {
    "tags": []
   },
   "outputs": [],
   "source": [
    "X_train, X_test, y_train, y_test = train_test_split(X, Y, test_size=0.3, random_state=80718)\n",
    "\n",
    "y_train, y_test = y_train.reshape(-1, 1), y_test.reshape(-1, 1)"
   ]
  },
  {
   "cell_type": "code",
   "execution_count": 32,
   "id": "9c24f7a2-35c9-48c3-b380-893d47204cc6",
   "metadata": {
    "tags": []
   },
   "outputs": [],
   "source": [
    "losses, W1, b1, W2, b2 = train_nn(X, Y, n_epochs=10000, batch_size=23)"
   ]
  },
  {
   "cell_type": "code",
   "execution_count": 33,
   "id": "67d50323-8e2b-4f34-a33d-38fd3a7d83e2",
   "metadata": {
    "tags": []
   },
   "outputs": [],
   "source": [
    "import matplotlib.pyplot as plt\n",
    "plt.style.use(\"dark_background\")"
   ]
  },
  {
   "cell_type": "code",
   "execution_count": 34,
   "id": "14ea8cf6-e05d-4ea7-8778-c1c3d92fddff",
   "metadata": {
    "tags": []
   },
   "outputs": [],
   "source": [
    "def n(x):\n",
    "    \n",
    "    return 1/(1+np.e**-x)"
   ]
  },
  {
   "cell_type": "code",
   "execution_count": null,
   "id": "354fb952-c90d-4cec-88cf-2f1f87eec81b",
   "metadata": {},
   "outputs": [],
   "source": []
  },
  {
   "cell_type": "code",
   "execution_count": 35,
   "id": "8dc101a1-37d6-45bb-843c-4eff4f4720e7",
   "metadata": {
    "tags": []
   },
   "outputs": [
    {
     "data": {
      "image/png": "[encoded data removed]",
      "text/plain": [
       "<Figure size 640x480 with 1 Axes>"
      ]
     },
     "metadata": {},
     "output_type": "display_data"
    }
   ],
   "source": [
    "plt.plot(np.linspace(-10,10, 100), sigmoid(np.linspace(-10,10, 100)));"
   ]
  },
  {
   "cell_type": "code",
   "execution_count": 36,
   "id": "a01711be-1aae-44f1-b5d9-db3f569b3f76",
   "metadata": {
    "tags": []
   },
   "outputs": [
    {
     "data": {
      "image/png": "[encoded data removed]",
      "text/plain": [
       "<Figure size 640x480 with 1 Axes>"
      ]
     },
     "metadata": {},
     "output_type": "display_data"
    }
   ],
   "source": [
    "plt.plot(losses);"
   ]
  },
  {
   "cell_type": "code",
   "execution_count": 37,
   "id": "00e0c0b3-153f-478c-b860-66414e6e46d9",
   "metadata": {
    "tags": []
   },
   "outputs": [],
   "source": [
    "M1 = np.dot(X,W1) \n",
    "N1 = M1 + b1 \n",
    "O1 = sigmoid(N1)\n",
    "M2 = np.dot(O1,W2) \n",
    "P_batch = M2 + b2"
   ]
  },
  {
   "cell_type": "code",
   "execution_count": 38,
   "id": "df8adab7-e44e-4412-9fbd-56d90958a1eb",
   "metadata": {
    "tags": []
   },
   "outputs": [
    {
     "data": {
      "image/png": "[encoded data removed]",
      "text/plain": [
       "<Figure size 640x480 with 1 Axes>"
      ]
     },
     "metadata": {},
     "output_type": "display_data"
    }
   ],
   "source": [
    "plt.scatter(X[:,12], Y);\n",
    "plt.plot(X[:,12], P_batch, color=\"lime\");"
   ]
  },
  {
   "cell_type": "code",
   "execution_count": null,
   "id": "4ded66c4-c8d6-41cf-84f4-82d36ddd435f",
   "metadata": {},
   "outputs": [],
   "source": []
  },
  {
   "cell_type": "code",
   "execution_count": 39,
   "id": "44da0828-5200-484a-bc3d-65087701d98b",
   "metadata": {},
   "outputs": [],
   "source": [
    "def mae(preds, actuals):\n",
    "    '''\n",
    "    Compute mean absolute error.\n",
    "    '''\n",
    "    return np.mean(np.abs(preds - actuals))\n",
    "\n",
    "def rmse(preds, actuals):\n",
    "    '''\n",
    "    Compute root mean squared error.\n",
    "    '''\n",
    "    return np.sqrt(np.mean(np.power(preds - actuals, 2)))"
   ]
  },
  {
   "cell_type": "code",
   "execution_count": 40,
   "id": "4ef9f23a-207c-4740-bbdc-42e5f35cda94",
   "metadata": {
    "tags": []
   },
   "outputs": [
    {
     "ename": "ValueError",
     "evalue": "x and y must be the same size",
     "output_type": "error",
     "traceback": [
      "\u001b[1;31m---------------------------------------------------------------------------\u001b[0m",
      "\u001b[1;31mValueError\u001b[0m                                Traceback (most recent call last)",
      "Cell \u001b[1;32mIn[40], line 1\u001b[0m\n\u001b[1;32m----> 1\u001b[0m \u001b[43mplt\u001b[49m\u001b[38;5;241;43m.\u001b[39;49m\u001b[43mscatter\u001b[49m\u001b[43m(\u001b[49m\u001b[43mX\u001b[49m\u001b[43m,\u001b[49m\u001b[43mY\u001b[49m\u001b[43m)\u001b[49m\n\u001b[0;32m      2\u001b[0m plt\u001b[38;5;241m.\u001b[39mplot(X, P_batch);\n",
      "File \u001b[1;32m~\\miniconda3\\envs\\pytorch_workflow\\Lib\\site-packages\\matplotlib\\pyplot.py:2862\u001b[0m, in \u001b[0;36mscatter\u001b[1;34m(x, y, s, c, marker, cmap, norm, vmin, vmax, alpha, linewidths, edgecolors, plotnonfinite, data, **kwargs)\u001b[0m\n\u001b[0;32m   2857\u001b[0m \u001b[38;5;129m@_copy_docstring_and_deprecators\u001b[39m(Axes\u001b[38;5;241m.\u001b[39mscatter)\n\u001b[0;32m   2858\u001b[0m \u001b[38;5;28;01mdef\u001b[39;00m \u001b[38;5;21mscatter\u001b[39m(\n\u001b[0;32m   2859\u001b[0m         x, y, s\u001b[38;5;241m=\u001b[39m\u001b[38;5;28;01mNone\u001b[39;00m, c\u001b[38;5;241m=\u001b[39m\u001b[38;5;28;01mNone\u001b[39;00m, marker\u001b[38;5;241m=\u001b[39m\u001b[38;5;28;01mNone\u001b[39;00m, cmap\u001b[38;5;241m=\u001b[39m\u001b[38;5;28;01mNone\u001b[39;00m, norm\u001b[38;5;241m=\u001b[39m\u001b[38;5;28;01mNone\u001b[39;00m,\n\u001b[0;32m   2860\u001b[0m         vmin\u001b[38;5;241m=\u001b[39m\u001b[38;5;28;01mNone\u001b[39;00m, vmax\u001b[38;5;241m=\u001b[39m\u001b[38;5;28;01mNone\u001b[39;00m, alpha\u001b[38;5;241m=\u001b[39m\u001b[38;5;28;01mNone\u001b[39;00m, linewidths\u001b[38;5;241m=\u001b[39m\u001b[38;5;28;01mNone\u001b[39;00m, \u001b[38;5;241m*\u001b[39m,\n\u001b[0;32m   2861\u001b[0m         edgecolors\u001b[38;5;241m=\u001b[39m\u001b[38;5;28;01mNone\u001b[39;00m, plotnonfinite\u001b[38;5;241m=\u001b[39m\u001b[38;5;28;01mFalse\u001b[39;00m, data\u001b[38;5;241m=\u001b[39m\u001b[38;5;28;01mNone\u001b[39;00m, \u001b[38;5;241m*\u001b[39m\u001b[38;5;241m*\u001b[39mkwargs):\n\u001b[1;32m-> 2862\u001b[0m     __ret \u001b[38;5;241m=\u001b[39m \u001b[43mgca\u001b[49m\u001b[43m(\u001b[49m\u001b[43m)\u001b[49m\u001b[38;5;241;43m.\u001b[39;49m\u001b[43mscatter\u001b[49m\u001b[43m(\u001b[49m\n\u001b[0;32m   2863\u001b[0m \u001b[43m        \u001b[49m\u001b[43mx\u001b[49m\u001b[43m,\u001b[49m\u001b[43m \u001b[49m\u001b[43my\u001b[49m\u001b[43m,\u001b[49m\u001b[43m \u001b[49m\u001b[43ms\u001b[49m\u001b[38;5;241;43m=\u001b[39;49m\u001b[43ms\u001b[49m\u001b[43m,\u001b[49m\u001b[43m \u001b[49m\u001b[43mc\u001b[49m\u001b[38;5;241;43m=\u001b[39;49m\u001b[43mc\u001b[49m\u001b[43m,\u001b[49m\u001b[43m \u001b[49m\u001b[43mmarker\u001b[49m\u001b[38;5;241;43m=\u001b[39;49m\u001b[43mmarker\u001b[49m\u001b[43m,\u001b[49m\u001b[43m \u001b[49m\u001b[43mcmap\u001b[49m\u001b[38;5;241;43m=\u001b[39;49m\u001b[43mcmap\u001b[49m\u001b[43m,\u001b[49m\u001b[43m \u001b[49m\u001b[43mnorm\u001b[49m\u001b[38;5;241;43m=\u001b[39;49m\u001b[43mnorm\u001b[49m\u001b[43m,\u001b[49m\n\u001b[0;32m   2864\u001b[0m \u001b[43m        \u001b[49m\u001b[43mvmin\u001b[49m\u001b[38;5;241;43m=\u001b[39;49m\u001b[43mvmin\u001b[49m\u001b[43m,\u001b[49m\u001b[43m \u001b[49m\u001b[43mvmax\u001b[49m\u001b[38;5;241;43m=\u001b[39;49m\u001b[43mvmax\u001b[49m\u001b[43m,\u001b[49m\u001b[43m \u001b[49m\u001b[43malpha\u001b[49m\u001b[38;5;241;43m=\u001b[39;49m\u001b[43malpha\u001b[49m\u001b[43m,\u001b[49m\u001b[43m \u001b[49m\u001b[43mlinewidths\u001b[49m\u001b[38;5;241;43m=\u001b[39;49m\u001b[43mlinewidths\u001b[49m\u001b[43m,\u001b[49m\n\u001b[0;32m   2865\u001b[0m \u001b[43m        \u001b[49m\u001b[43medgecolors\u001b[49m\u001b[38;5;241;43m=\u001b[39;49m\u001b[43medgecolors\u001b[49m\u001b[43m,\u001b[49m\u001b[43m \u001b[49m\u001b[43mplotnonfinite\u001b[49m\u001b[38;5;241;43m=\u001b[39;49m\u001b[43mplotnonfinite\u001b[49m\u001b[43m,\u001b[49m\n\u001b[0;32m   2866\u001b[0m \u001b[43m        \u001b[49m\u001b[38;5;241;43m*\u001b[39;49m\u001b[38;5;241;43m*\u001b[39;49m\u001b[43m(\u001b[49m\u001b[43m{\u001b[49m\u001b[38;5;124;43m\"\u001b[39;49m\u001b[38;5;124;43mdata\u001b[39;49m\u001b[38;5;124;43m\"\u001b[39;49m\u001b[43m:\u001b[49m\u001b[43m \u001b[49m\u001b[43mdata\u001b[49m\u001b[43m}\u001b[49m\u001b[43m \u001b[49m\u001b[38;5;28;43;01mif\u001b[39;49;00m\u001b[43m \u001b[49m\u001b[43mdata\u001b[49m\u001b[43m \u001b[49m\u001b[38;5;129;43;01mis\u001b[39;49;00m\u001b[43m \u001b[49m\u001b[38;5;129;43;01mnot\u001b[39;49;00m\u001b[43m \u001b[49m\u001b[38;5;28;43;01mNone\u001b[39;49;00m\u001b[43m \u001b[49m\u001b[38;5;28;43;01melse\u001b[39;49;00m\u001b[43m \u001b[49m\u001b[43m{\u001b[49m\u001b[43m}\u001b[49m\u001b[43m)\u001b[49m\u001b[43m,\u001b[49m\u001b[43m \u001b[49m\u001b[38;5;241;43m*\u001b[39;49m\u001b[38;5;241;43m*\u001b[39;49m\u001b[43mkwargs\u001b[49m\u001b[43m)\u001b[49m\n\u001b[0;32m   2867\u001b[0m     sci(__ret)\n\u001b[0;32m   2868\u001b[0m     \u001b[38;5;28;01mreturn\u001b[39;00m __ret\n",
      "File \u001b[1;32m~\\miniconda3\\envs\\pytorch_workflow\\Lib\\site-packages\\matplotlib\\__init__.py:1442\u001b[0m, in \u001b[0;36m_preprocess_data.<locals>.inner\u001b[1;34m(ax, data, *args, **kwargs)\u001b[0m\n\u001b[0;32m   1439\u001b[0m \u001b[38;5;129m@functools\u001b[39m\u001b[38;5;241m.\u001b[39mwraps(func)\n\u001b[0;32m   1440\u001b[0m \u001b[38;5;28;01mdef\u001b[39;00m \u001b[38;5;21minner\u001b[39m(ax, \u001b[38;5;241m*\u001b[39margs, data\u001b[38;5;241m=\u001b[39m\u001b[38;5;28;01mNone\u001b[39;00m, \u001b[38;5;241m*\u001b[39m\u001b[38;5;241m*\u001b[39mkwargs):\n\u001b[0;32m   1441\u001b[0m     \u001b[38;5;28;01mif\u001b[39;00m data \u001b[38;5;129;01mis\u001b[39;00m \u001b[38;5;28;01mNone\u001b[39;00m:\n\u001b[1;32m-> 1442\u001b[0m         \u001b[38;5;28;01mreturn\u001b[39;00m \u001b[43mfunc\u001b[49m\u001b[43m(\u001b[49m\u001b[43max\u001b[49m\u001b[43m,\u001b[49m\u001b[43m \u001b[49m\u001b[38;5;241;43m*\u001b[39;49m\u001b[38;5;28;43mmap\u001b[39;49m\u001b[43m(\u001b[49m\u001b[43msanitize_sequence\u001b[49m\u001b[43m,\u001b[49m\u001b[43m \u001b[49m\u001b[43margs\u001b[49m\u001b[43m)\u001b[49m\u001b[43m,\u001b[49m\u001b[43m \u001b[49m\u001b[38;5;241;43m*\u001b[39;49m\u001b[38;5;241;43m*\u001b[39;49m\u001b[43mkwargs\u001b[49m\u001b[43m)\u001b[49m\n\u001b[0;32m   1444\u001b[0m     bound \u001b[38;5;241m=\u001b[39m new_sig\u001b[38;5;241m.\u001b[39mbind(ax, \u001b[38;5;241m*\u001b[39margs, \u001b[38;5;241m*\u001b[39m\u001b[38;5;241m*\u001b[39mkwargs)\n\u001b[0;32m   1445\u001b[0m     auto_label \u001b[38;5;241m=\u001b[39m (bound\u001b[38;5;241m.\u001b[39marguments\u001b[38;5;241m.\u001b[39mget(label_namer)\n\u001b[0;32m   1446\u001b[0m                   \u001b[38;5;129;01mor\u001b[39;00m bound\u001b[38;5;241m.\u001b[39mkwargs\u001b[38;5;241m.\u001b[39mget(label_namer))\n",
      "File \u001b[1;32m~\\miniconda3\\envs\\pytorch_workflow\\Lib\\site-packages\\matplotlib\\axes\\_axes.py:4584\u001b[0m, in \u001b[0;36mAxes.scatter\u001b[1;34m(self, x, y, s, c, marker, cmap, norm, vmin, vmax, alpha, linewidths, edgecolors, plotnonfinite, **kwargs)\u001b[0m\n\u001b[0;32m   4582\u001b[0m y \u001b[38;5;241m=\u001b[39m np\u001b[38;5;241m.\u001b[39mma\u001b[38;5;241m.\u001b[39mravel(y)\n\u001b[0;32m   4583\u001b[0m \u001b[38;5;28;01mif\u001b[39;00m x\u001b[38;5;241m.\u001b[39msize \u001b[38;5;241m!=\u001b[39m y\u001b[38;5;241m.\u001b[39msize:\n\u001b[1;32m-> 4584\u001b[0m     \u001b[38;5;28;01mraise\u001b[39;00m \u001b[38;5;167;01mValueError\u001b[39;00m(\u001b[38;5;124m\"\u001b[39m\u001b[38;5;124mx and y must be the same size\u001b[39m\u001b[38;5;124m\"\u001b[39m)\n\u001b[0;32m   4586\u001b[0m \u001b[38;5;28;01mif\u001b[39;00m s \u001b[38;5;129;01mis\u001b[39;00m \u001b[38;5;28;01mNone\u001b[39;00m:\n\u001b[0;32m   4587\u001b[0m     s \u001b[38;5;241m=\u001b[39m (\u001b[38;5;241m20\u001b[39m \u001b[38;5;28;01mif\u001b[39;00m mpl\u001b[38;5;241m.\u001b[39mrcParams[\u001b[38;5;124m'\u001b[39m\u001b[38;5;124m_internal.classic_mode\u001b[39m\u001b[38;5;124m'\u001b[39m] \u001b[38;5;28;01melse\u001b[39;00m\n\u001b[0;32m   4588\u001b[0m          mpl\u001b[38;5;241m.\u001b[39mrcParams[\u001b[38;5;124m'\u001b[39m\u001b[38;5;124mlines.markersize\u001b[39m\u001b[38;5;124m'\u001b[39m] \u001b[38;5;241m*\u001b[39m\u001b[38;5;241m*\u001b[39m \u001b[38;5;241m2.0\u001b[39m)\n",
      "\u001b[1;31mValueError\u001b[0m: x and y must be the same size"
     ]
    },
    {
     "data": {
      "image/png": "[encoded data removed]",
      "text/plain": [
       "<Figure size 640x480 with 1 Axes>"
      ]
     },
     "metadata": {},
     "output_type": "display_data"
    }
   ],
   "source": [
    "plt.scatter(X,Y)\n",
    "plt.plot(X, P_batch);"
   ]
  },
  {
   "cell_type": "code",
   "execution_count": null,
   "id": "c7cd8303-c783-473d-941e-417724fea45c",
   "metadata": {
    "tags": []
   },
   "outputs": [],
   "source": [
    "mae(P_batch, Y)"
   ]
  },
  {
   "cell_type": "code",
   "execution_count": null,
   "id": "c02703b3-ea9e-4e30-881d-50b72750905c",
   "metadata": {
    "tags": []
   },
   "outputs": [],
   "source": [
    "rmse(P_batch, Y)"
   ]
  },
  {
   "cell_type": "code",
   "execution_count": 282,
   "id": "336c5f32-2091-4eb8-9842-48aba2833d1a",
   "metadata": {
    "tags": []
   },
   "outputs": [
    {
     "data": {
      "text/plain": [
       "-76.04745927059491"
      ]
     },
     "execution_count": 282,
     "metadata": {},
     "output_type": "execute_result"
    }
   ],
   "source": [
    "(Y-P_batch).sum()"
   ]
  },
  {
   "cell_type": "code",
   "execution_count": 529,
   "id": "0def39b2-2af8-491b-b897-bdd1ad348591",
   "metadata": {},
   "outputs": [],
   "source": [
    "X = np.arange(1, 10, 1).reshape(-1,1)\n",
    "Y = np.power(X, 2)"
   ]
  },
  {
   "cell_type": "code",
   "execution_count": 530,
   "id": "0baa1e41-d82a-4bd9-bdee-0dd8794e4ed3",
   "metadata": {
    "tags": []
   },
   "outputs": [],
   "source": [
    "losses, W1, b1, W2, b2 = train_nn(X, Y, n_epochs=10000, batch_size=23)"
   ]
  },
  {
   "cell_type": "code",
   "execution_count": 531,
   "id": "8a666351-abf7-45f3-a593-e5461882be5d",
   "metadata": {
    "tags": []
   },
   "outputs": [
    {
     "data": {
      "text/plain": [
       "array([[ 88.92075425],\n",
       "       [129.06788183],\n",
       "       [169.21500941],\n",
       "       [209.36213699],\n",
       "       [249.50926456],\n",
       "       [289.65639214],\n",
       "       [329.80351972],\n",
       "       [369.95064729],\n",
       "       [410.09777487]])"
      ]
     },
     "execution_count": 531,
     "metadata": {},
     "output_type": "execute_result"
    }
   ],
   "source": [
    "np.dot(np.maximum(0, np.dot(X, W1) + b1), W2) + b2"
   ]
  },
  {
   "cell_type": "code",
   "execution_count": 532,
   "id": "52b9af82-9a4d-4555-8692-00ef819dfc09",
   "metadata": {
    "tags": []
   },
   "outputs": [
    {
     "data": {
      "image/png": "[encoded data removed]",
      "text/plain": [
       "<Figure size 640x480 with 1 Axes>"
      ]
     },
     "metadata": {},
     "output_type": "display_data"
    }
   ],
   "source": [
    "plt.plot(losses);"
   ]
  },
  {
   "cell_type": "code",
   "execution_count": 534,
   "id": "a7f26846-ea7d-48eb-88be-5bbc1c3f6b00",
   "metadata": {
    "tags": []
   },
   "outputs": [
    {
     "data": {
      "text/plain": [
       "array([[31.54090954],\n",
       "       [31.67225186],\n",
       "       [31.6822509 ],\n",
       "       [31.68300571],\n",
       "       [31.68306266],\n",
       "       [31.68306695],\n",
       "       [31.68306728],\n",
       "       [31.6830673 ],\n",
       "       [31.6830673 ]])"
      ]
     },
     "execution_count": 534,
     "metadata": {},
     "output_type": "execute_result"
    }
   ],
   "source": [
    "predict(X, W1, b1, W2, b2)"
   ]
  },
  {
   "cell_type": "code",
   "execution_count": null,
   "id": "278a0299-bff1-4ca8-987f-5a1d688e85cc",
   "metadata": {},
   "outputs": [],
   "source": [
    "mae()"
   ]
  },
  {
   "cell_type": "code",
   "execution_count": 535,
   "id": "0cc3832b-94a0-4dfd-a2d4-6ec01fa65084",
   "metadata": {
    "tags": []
   },
   "outputs": [
    {
     "data": {
      "image/png": "[encoded data removed]",
      "text/plain": [
       "<Figure size 640x480 with 1 Axes>"
      ]
     },
     "metadata": {},
     "output_type": "display_data"
    }
   ],
   "source": [
    "plt.scatter(X, Y);\n",
    "plt.plot(X, predict(X, W1, b1, W2, b2));"
   ]
  },
  {
   "cell_type": "code",
   "execution_count": null,
   "id": "cc850272-61c6-4350-9202-2e9c0fb04f0f",
   "metadata": {},
   "outputs": [],
   "source": []
  },
  {
   "cell_type": "code",
   "execution_count": null,
   "id": "1787c6a9-cdf3-434f-a27c-83d688b6373d",
   "metadata": {},
   "outputs": [],
   "source": []
  },
  {
   "cell_type": "code",
   "execution_count": 130,
   "id": "d4424958-366e-4bc5-b81d-63b714d95776",
   "metadata": {
    "tags": []
   },
   "outputs": [],
   "source": [
    "def predict(X, W1, b1, W2, b2):\n",
    "    \n",
    "    M1 = np.dot(X,W1) \n",
    "    N1 = M1 + b1 \n",
    "    O1 = sigmoid(N1)\n",
    "    M2 = np.dot(O1,W2) \n",
    "    P = M2 + b2\n",
    "    \n",
    "    return P"
   ]
  },
  {
   "cell_type": "code",
   "execution_count": 131,
   "id": "60c140e7-a3bc-4e29-ac81-c9350fe7d537",
   "metadata": {
    "tags": []
   },
   "outputs": [
    {
     "data": {
      "text/plain": [
       "array([[22.53280632],\n",
       "       [22.53280632],\n",
       "       [22.53280632],\n",
       "       [22.53280632],\n",
       "       [22.53280632],\n",
       "       [22.53280632],\n",
       "       [22.53280632],\n",
       "       [22.53280632],\n",
       "       [22.53280632],\n",
       "       [22.53280632],\n",
       "       [22.53280632],\n",
       "       [22.53280632],\n",
       "       [22.53280632],\n",
       "       [22.53280632],\n",
       "       [22.53280632],\n",
       "       [22.53280632],\n",
       "       [22.53280632],\n",
       "       [22.53280632],\n",
       "       [22.53280632],\n",
       "       [22.53280632],\n",
       "       [22.53280632],\n",
       "       [22.53280632],\n",
       "       [22.53280632],\n",
       "       [22.53280632],\n",
       "       [22.53280632],\n",
       "       [22.53280632],\n",
       "       [22.53280632],\n",
       "       [22.53280632],\n",
       "       [22.53280632],\n",
       "       [22.53280632],\n",
       "       [22.53280632],\n",
       "       [22.53280632],\n",
       "       [22.53280632],\n",
       "       [22.53280632],\n",
       "       [22.53280632],\n",
       "       [22.53280632],\n",
       "       [22.53280632],\n",
       "       [22.53280632],\n",
       "       [22.53280632],\n",
       "       [22.53280632],\n",
       "       [22.53280632],\n",
       "       [22.53280632],\n",
       "       [22.53280632],\n",
       "       [22.53280632],\n",
       "       [22.53280632],\n",
       "       [22.53280632],\n",
       "       [22.53280632],\n",
       "       [22.53280632],\n",
       "       [22.53280632],\n",
       "       [22.53280632],\n",
       "       [22.53280632],\n",
       "       [22.53280632],\n",
       "       [22.53280632],\n",
       "       [22.53280632],\n",
       "       [22.53280632],\n",
       "       [22.53280632],\n",
       "       [22.53280632],\n",
       "       [22.53280632],\n",
       "       [22.53280632],\n",
       "       [22.53280632],\n",
       "       [22.53280632],\n",
       "       [22.53280632],\n",
       "       [22.53280632],\n",
       "       [22.53280632],\n",
       "       [22.53280632],\n",
       "       [22.53280632],\n",
       "       [22.53280632],\n",
       "       [22.53280632],\n",
       "       [22.53280632],\n",
       "       [22.53280632],\n",
       "       [22.53280632],\n",
       "       [22.53280632],\n",
       "       [22.53280632],\n",
       "       [22.53280632],\n",
       "       [22.53280632],\n",
       "       [22.53280632],\n",
       "       [22.53280632],\n",
       "       [22.53280632],\n",
       "       [22.53280632],\n",
       "       [22.53280632],\n",
       "       [22.53280632],\n",
       "       [22.53280632],\n",
       "       [22.53280632],\n",
       "       [22.53280632],\n",
       "       [22.53280632],\n",
       "       [22.53280632],\n",
       "       [22.53280632],\n",
       "       [22.53280632],\n",
       "       [22.53280632],\n",
       "       [22.53280632],\n",
       "       [22.53280632],\n",
       "       [22.53280632],\n",
       "       [22.53280632],\n",
       "       [22.53280632],\n",
       "       [22.53280632],\n",
       "       [22.53280632],\n",
       "       [22.53280632],\n",
       "       [22.53280632],\n",
       "       [22.53280632],\n",
       "       [22.53280632],\n",
       "       [22.53280632],\n",
       "       [22.53280632],\n",
       "       [22.53280632],\n",
       "       [22.53280632],\n",
       "       [22.53280632],\n",
       "       [22.53280632],\n",
       "       [22.53280632],\n",
       "       [22.53280632],\n",
       "       [22.53280632],\n",
       "       [22.53280632],\n",
       "       [22.53280632],\n",
       "       [22.53280632],\n",
       "       [22.53280632],\n",
       "       [22.53280632],\n",
       "       [22.53280632],\n",
       "       [22.53280632],\n",
       "       [22.53280632],\n",
       "       [22.53280632],\n",
       "       [22.53280632],\n",
       "       [22.53280632],\n",
       "       [22.53280632],\n",
       "       [22.53280632],\n",
       "       [22.53280632],\n",
       "       [22.53280632],\n",
       "       [22.53280632],\n",
       "       [22.53280632],\n",
       "       [22.53280632],\n",
       "       [22.53280632],\n",
       "       [22.53280632],\n",
       "       [22.53280632],\n",
       "       [22.53280632],\n",
       "       [22.53280632],\n",
       "       [22.53280632],\n",
       "       [22.53280632],\n",
       "       [22.53280632],\n",
       "       [22.53280632],\n",
       "       [22.53280632],\n",
       "       [22.53280632],\n",
       "       [22.53280632],\n",
       "       [22.53280632],\n",
       "       [22.53280632],\n",
       "       [22.53280632],\n",
       "       [22.53280632],\n",
       "       [22.53280632],\n",
       "       [22.53280632],\n",
       "       [22.53280632],\n",
       "       [22.53280632],\n",
       "       [22.53280632],\n",
       "       [22.53280632],\n",
       "       [22.53280632],\n",
       "       [22.53280632],\n",
       "       [22.53280632],\n",
       "       [22.53280632],\n",
       "       [22.53280632],\n",
       "       [22.53280632],\n",
       "       [22.53280632],\n",
       "       [22.53280632],\n",
       "       [22.53280632],\n",
       "       [22.53280632],\n",
       "       [22.53280632],\n",
       "       [22.53280632],\n",
       "       [22.53280632],\n",
       "       [22.53280632],\n",
       "       [22.53280632],\n",
       "       [22.53280632],\n",
       "       [22.53280632],\n",
       "       [22.53280632],\n",
       "       [22.53280632],\n",
       "       [22.53280632],\n",
       "       [22.53280632],\n",
       "       [22.53280632],\n",
       "       [22.53280632],\n",
       "       [22.53280632],\n",
       "       [22.53280632],\n",
       "       [22.53280632],\n",
       "       [22.53280632],\n",
       "       [22.53280632],\n",
       "       [22.53280632],\n",
       "       [22.53280632],\n",
       "       [22.53280632],\n",
       "       [22.53280632],\n",
       "       [22.53280632],\n",
       "       [22.53280632],\n",
       "       [22.53280632],\n",
       "       [22.53280632],\n",
       "       [22.53280632],\n",
       "       [22.53280632],\n",
       "       [22.53280632],\n",
       "       [22.53280632],\n",
       "       [22.53280632],\n",
       "       [22.53280632],\n",
       "       [22.53280632],\n",
       "       [22.53280632],\n",
       "       [22.53280632],\n",
       "       [22.53280632],\n",
       "       [22.53280632],\n",
       "       [22.53280632],\n",
       "       [22.53280632],\n",
       "       [22.53280632],\n",
       "       [22.53280632],\n",
       "       [22.53280632],\n",
       "       [22.53280632],\n",
       "       [22.53280632],\n",
       "       [22.53280632],\n",
       "       [22.53280632],\n",
       "       [22.53280632],\n",
       "       [22.53280632],\n",
       "       [22.53280632],\n",
       "       [22.53280632],\n",
       "       [22.53280632],\n",
       "       [22.53280632],\n",
       "       [22.53280632],\n",
       "       [22.53280632],\n",
       "       [22.53280632],\n",
       "       [22.53280632],\n",
       "       [22.53280632],\n",
       "       [22.53280632],\n",
       "       [22.53280632],\n",
       "       [22.53280632],\n",
       "       [22.53280632],\n",
       "       [22.53280632],\n",
       "       [22.53280632],\n",
       "       [22.53280632],\n",
       "       [22.53280632],\n",
       "       [22.53280632],\n",
       "       [22.53280632],\n",
       "       [22.53280632],\n",
       "       [22.53280632],\n",
       "       [22.53280632],\n",
       "       [22.53280632],\n",
       "       [22.53280632],\n",
       "       [22.53280632],\n",
       "       [22.53280632],\n",
       "       [22.53280632],\n",
       "       [22.53280632],\n",
       "       [22.53280632],\n",
       "       [22.53280632],\n",
       "       [22.53280632],\n",
       "       [22.53280632],\n",
       "       [22.53280632],\n",
       "       [22.53280632],\n",
       "       [22.53280632],\n",
       "       [22.53280632],\n",
       "       [22.53280632],\n",
       "       [22.53280632],\n",
       "       [22.53280632],\n",
       "       [22.53280632],\n",
       "       [22.53280632],\n",
       "       [22.53280632],\n",
       "       [22.53280632],\n",
       "       [22.53280632],\n",
       "       [22.53280632],\n",
       "       [22.53280632],\n",
       "       [22.53280632],\n",
       "       [22.53280632],\n",
       "       [22.53280632],\n",
       "       [22.53280632],\n",
       "       [22.53280632],\n",
       "       [22.53280632],\n",
       "       [22.53280632],\n",
       "       [22.53280632],\n",
       "       [22.53280632],\n",
       "       [22.53280632],\n",
       "       [22.53280632],\n",
       "       [22.53280632],\n",
       "       [22.53280632],\n",
       "       [22.53280632],\n",
       "       [22.53280632],\n",
       "       [22.53280632],\n",
       "       [22.53280632],\n",
       "       [22.53280632],\n",
       "       [22.53280632],\n",
       "       [22.53280632],\n",
       "       [22.53280632],\n",
       "       [22.53280632],\n",
       "       [22.53280632],\n",
       "       [22.53280632],\n",
       "       [22.53280632],\n",
       "       [22.53280632],\n",
       "       [22.53280632],\n",
       "       [22.53280632],\n",
       "       [22.53280632],\n",
       "       [22.53280632],\n",
       "       [22.53280632],\n",
       "       [22.53280632],\n",
       "       [22.53280632],\n",
       "       [22.53280632],\n",
       "       [22.53280632],\n",
       "       [22.53280632],\n",
       "       [22.53280632],\n",
       "       [22.53280632],\n",
       "       [22.53280632],\n",
       "       [22.53280632],\n",
       "       [22.53280632],\n",
       "       [22.53280632],\n",
       "       [22.53280632],\n",
       "       [22.53280632],\n",
       "       [22.53280632],\n",
       "       [22.53280632],\n",
       "       [22.53280632],\n",
       "       [22.53280632],\n",
       "       [22.53280632],\n",
       "       [22.53280632],\n",
       "       [22.53280632],\n",
       "       [22.53280632],\n",
       "       [22.53280632],\n",
       "       [22.53280632],\n",
       "       [22.53280632],\n",
       "       [22.53280632],\n",
       "       [22.53280632],\n",
       "       [22.53280632],\n",
       "       [22.53280632],\n",
       "       [22.53280632],\n",
       "       [22.53280632],\n",
       "       [22.53280632],\n",
       "       [22.53280632],\n",
       "       [22.53280632],\n",
       "       [22.53280632],\n",
       "       [22.53280632],\n",
       "       [22.53280632],\n",
       "       [22.53280632],\n",
       "       [22.53280632],\n",
       "       [22.53280632],\n",
       "       [22.53280632],\n",
       "       [22.53280632],\n",
       "       [22.53280632],\n",
       "       [22.53280632],\n",
       "       [22.53280632],\n",
       "       [22.53280632],\n",
       "       [22.53280632],\n",
       "       [22.53280632],\n",
       "       [22.53280632],\n",
       "       [22.53280632],\n",
       "       [22.53280632],\n",
       "       [22.53280632],\n",
       "       [22.53280632],\n",
       "       [22.53280632],\n",
       "       [22.53280632],\n",
       "       [22.53280632],\n",
       "       [22.53280632],\n",
       "       [22.53280632],\n",
       "       [22.53280632],\n",
       "       [22.53280632],\n",
       "       [22.53280632],\n",
       "       [22.53280632],\n",
       "       [22.53280632],\n",
       "       [22.53280632],\n",
       "       [22.53280632],\n",
       "       [22.53280632],\n",
       "       [22.53280632],\n",
       "       [22.53280632],\n",
       "       [22.53280632],\n",
       "       [22.53280632],\n",
       "       [22.53280632],\n",
       "       [22.53280632],\n",
       "       [22.53280632],\n",
       "       [22.53280632],\n",
       "       [22.53280632],\n",
       "       [22.53280632],\n",
       "       [22.53280632],\n",
       "       [22.53280632],\n",
       "       [22.53280632],\n",
       "       [22.53280632],\n",
       "       [22.53280632],\n",
       "       [22.53280632],\n",
       "       [22.53280632],\n",
       "       [22.53280632],\n",
       "       [22.53280632],\n",
       "       [22.53280632],\n",
       "       [22.53280632],\n",
       "       [22.53280632],\n",
       "       [22.53280632],\n",
       "       [22.53280632],\n",
       "       [22.53280632],\n",
       "       [22.53280632],\n",
       "       [22.53280632],\n",
       "       [22.53280632],\n",
       "       [22.53280632],\n",
       "       [22.53280632],\n",
       "       [22.53280632],\n",
       "       [22.53280632],\n",
       "       [22.53280632],\n",
       "       [22.53280632],\n",
       "       [22.53280632],\n",
       "       [22.53280632],\n",
       "       [22.53280632],\n",
       "       [22.53280632],\n",
       "       [22.53280632],\n",
       "       [22.53280632],\n",
       "       [22.53280632],\n",
       "       [22.53280632],\n",
       "       [22.53280632],\n",
       "       [22.53280632],\n",
       "       [22.53280632],\n",
       "       [22.53280632],\n",
       "       [22.53280632],\n",
       "       [22.53280632],\n",
       "       [22.53280632],\n",
       "       [22.53280632],\n",
       "       [22.53280632],\n",
       "       [22.53280632],\n",
       "       [22.53280632],\n",
       "       [22.53280632],\n",
       "       [22.53280632],\n",
       "       [22.53280632],\n",
       "       [22.53280632],\n",
       "       [22.53280632],\n",
       "       [22.53280632],\n",
       "       [22.53280632],\n",
       "       [22.53280632],\n",
       "       [22.53280632],\n",
       "       [22.53280632],\n",
       "       [22.53280632],\n",
       "       [22.53280632],\n",
       "       [22.53280632],\n",
       "       [22.53280632],\n",
       "       [22.53280632],\n",
       "       [22.53280632],\n",
       "       [22.53280632],\n",
       "       [22.53280632],\n",
       "       [22.53280632],\n",
       "       [22.53280632],\n",
       "       [22.53280632],\n",
       "       [22.53280632],\n",
       "       [22.53280632],\n",
       "       [22.53280632],\n",
       "       [22.53280632],\n",
       "       [22.53280632],\n",
       "       [22.53280632],\n",
       "       [22.53280632],\n",
       "       [22.53280632],\n",
       "       [22.53280632],\n",
       "       [22.53280632],\n",
       "       [22.53280632],\n",
       "       [22.53280632],\n",
       "       [22.53280632],\n",
       "       [22.53280632],\n",
       "       [22.53280632],\n",
       "       [22.53280632],\n",
       "       [22.53280632],\n",
       "       [22.53280632],\n",
       "       [22.53280632],\n",
       "       [22.53280632],\n",
       "       [22.53280632],\n",
       "       [22.53280632],\n",
       "       [22.53280632],\n",
       "       [22.53280632],\n",
       "       [22.53280632],\n",
       "       [22.53280632],\n",
       "       [22.53280632],\n",
       "       [22.53280632],\n",
       "       [22.53280632],\n",
       "       [22.53280632],\n",
       "       [22.53280632],\n",
       "       [22.53280632],\n",
       "       [22.53280632],\n",
       "       [22.53280632],\n",
       "       [22.53280632],\n",
       "       [22.53280632],\n",
       "       [22.53280632],\n",
       "       [22.53280632],\n",
       "       [22.53280632],\n",
       "       [22.53280632],\n",
       "       [22.53280632],\n",
       "       [22.53280632],\n",
       "       [22.53280632],\n",
       "       [22.53280632],\n",
       "       [22.53280632],\n",
       "       [22.53280632],\n",
       "       [22.53280632],\n",
       "       [22.53280632],\n",
       "       [22.53280632],\n",
       "       [22.53280632],\n",
       "       [22.53280632],\n",
       "       [22.53280632],\n",
       "       [22.53280632],\n",
       "       [22.53280632],\n",
       "       [22.53280632],\n",
       "       [22.53280632],\n",
       "       [22.53280632],\n",
       "       [22.53280632],\n",
       "       [22.53280632],\n",
       "       [22.53280632],\n",
       "       [22.53280632],\n",
       "       [22.53280632],\n",
       "       [22.53280632],\n",
       "       [22.53280632],\n",
       "       [22.53280632],\n",
       "       [22.53280632],\n",
       "       [22.53280632],\n",
       "       [22.53280632],\n",
       "       [22.53280632],\n",
       "       [22.53280632],\n",
       "       [22.53280632],\n",
       "       [22.53280632],\n",
       "       [22.53280632],\n",
       "       [22.53280632],\n",
       "       [22.53280632],\n",
       "       [22.53280632],\n",
       "       [22.53280632],\n",
       "       [22.53280632],\n",
       "       [22.53280632],\n",
       "       [22.53280632],\n",
       "       [22.53280632],\n",
       "       [22.53280632],\n",
       "       [22.53280632]])"
      ]
     },
     "execution_count": 131,
     "metadata": {},
     "output_type": "execute_result"
    }
   ],
   "source": [
    "predict(X, W1, b1, W2, b2)"
   ]
  },
  {
   "cell_type": "code",
   "execution_count": null,
   "id": "79acfc7a-ee5b-4853-80af-0abe16c06cf9",
   "metadata": {},
   "outputs": [],
   "source": []
  },
  {
   "cell_type": "code",
   "execution_count": null,
   "id": "9c548a46-f275-4db8-a8a9-cecb592d694c",
   "metadata": {},
   "outputs": [],
   "source": []
  },
  {
   "cell_type": "code",
   "execution_count": null,
   "id": "7ad9bc27-da3c-435e-8f19-3f3bae70c72e",
   "metadata": {},
   "outputs": [],
   "source": []
  },
  {
   "cell_type": "code",
   "execution_count": 207,
   "id": "f5e82076-2084-4842-89c4-8dab8ab949c0",
   "metadata": {
    "tags": []
   },
   "outputs": [],
   "source": [
    "def backward(X, Y, W1, b1, W2, b2):\n",
    "    \n",
    "#     W1 = np.random.rand(X.shape[1], 1)\n",
    "#     b1 = np.random.rand(1,1)\n",
    "    \n",
    "#     #the resultant shape of o1 will be X.shape[0],1\n",
    "#     W2 = np.random.rand(1,1)\n",
    "#     b2 = np.random.rand(1,1)\n",
    "    assert X.shape[1] == W1.shape[0]\n",
    "    #values\n",
    "    M1 = np.dot(X, W1)\n",
    "    N1 = M1 + b1\n",
    "    O1 = sigmoid(N1)\n",
    "    \n",
    "    M2 = np.dot(O1, W2)\n",
    "    P = M2 + b2\n",
    "    \n",
    "    L = 1/2*((Y-P)**2)\n",
    "    #derivatives\n",
    "    def loss(P):\n",
    "        return 1/2*(Y-P)**2\n",
    "    \n",
    "    dL_dP = deriv(loss, a=P)\n",
    "    dP_db2 = np.ones_like(b2)\n",
    "    #ya tenemos\n",
    "    dL_db2 = (dL_dP*dP_db2).sum(axis=0)\n",
    "    \n",
    "    dP_dM2 = np.ones_like(M2)\n",
    "    dL_dM2 = dL_dP*dP_dM2\n",
    "    \n",
    "    dM2_dW2 = np.transpose(O1, (1,0))\n",
    "    #ya tememps (comprobando orden correcto dimensiones)\n",
    "    dL_dW2 = np.dot(dM2_dW2, dL_dP)\n",
    "    #\n",
    "    dM2_dO1 = np.transpose(W2, (1,0))\n",
    "    \n",
    "    dL_dO1 = np.dot(dL_dM2, dM2_dO1)\n",
    "    \n",
    "    dO1_dN1 = deriv(sigmoid, N1)\n",
    "    \n",
    "    dL_dN1 =  dL_dO1*dO1_dN1#para compactar\n",
    "    dN1_db1 = (np.ones_like(b1))\n",
    "    #ya tenemos\n",
    "    dL_db1 = (dL_dN1*dN1_db1).sum(axis=0)\n",
    "    \n",
    "    dN1_M1 = np.ones_like(b1)\n",
    "    \n",
    "    dL_dM1 = dL_dN1*dN1_M1\n",
    "\n",
    "    \n",
    "    dM1_dW1 = np.transpose(X, (1,0))\n",
    "    dL_dW1 = np.dot(dM1_dW1,dL_dM1)\n",
    "\n",
    "    # print(dL_dN1.shape)\n",
    "    # print(dN1_M1.shape)\n",
    "    # print(dM1_dW1.shape)\n",
    "    # #ya tenemos\n",
    "    # # dL_dW1 = np.dot(dN1_M1, dM1_dW1) * (dO1_dN1*dM2_dO1*dP_dM2*dL_dP)\n",
    "    # print(f\"dN1_M1: {dN1_M1.shape}\")\n",
    "    # print(f\"dM1_dW1: {dM1_dW1.shape}\")\n",
    "    \n",
    "    #     print(f\"dL_dP: {dL_dP.shape}\")\n",
    "#     print(f\"dP_dM2: {dP_dM2.shape}\")\n",
    "#     print(f\"dM2_dO1: {dM2_dO1.shape}\")\n",
    "#     print(f\"dO1_dN1: {dO1_dN1.shape}\")\n",
    "#     print(f\"dN1_M1: {dN1_M1.shape}\")\n",
    "#     print(f\"dM1_dW1: {dM1_dW1.shape}\")\n",
    "\n",
    "\n",
    "#     print(dL_dB1.sum(axis=0))\n",
    "    \n",
    "    return dL_dW1, dL_db1, dL_dW2, dL_db2\n",
    "    \n",
    "    "
   ]
  },
  {
   "cell_type": "code",
   "execution_count": 204,
   "id": "1fbd413c-4473-4593-88a0-9aa2e81251a2",
   "metadata": {
    "tags": []
   },
   "outputs": [],
   "source": [
    "X = np.random.rand(50,3)\n",
    "Y = np.random.rand(50,1)"
   ]
  },
  {
   "cell_type": "code",
   "execution_count": null,
   "id": "e402719a-7595-470b-b126-af72f76d39b3",
   "metadata": {},
   "outputs": [],
   "source": []
  },
  {
   "cell_type": "code",
   "execution_count": 296,
   "id": "442c847b-b31e-49ec-b77e-eca419589e54",
   "metadata": {
    "tags": []
   },
   "outputs": [],
   "source": [
    "def train(X, Y):\n",
    "    \n",
    "    W1 = np.random.rand(X.shape[1],1)\n",
    "    b1 = np.random.rand(1,1)\n",
    "    \n",
    "    W2 = np.random.rand(1,1)\n",
    "    b2 = np.random.rand(1,1)\n",
    "    \n",
    "    losses = np.zeros((40,1))\n",
    "    \n",
    "    size = 20\n",
    "    start = 0\n",
    "    for i in range(40):\n",
    "        #forward pass\n",
    "        if start >= X.shape[0]:\n",
    "\n",
    "            start=0\n",
    "        \n",
    "        X_batch = X[start:start+size]\n",
    "        Y_batch = Y[start:start+size]\n",
    "        \n",
    "        P_batch = forward(X=forward(X_batch, W1, b1),\n",
    "                   W=W2, b=b2, activation=False)\n",
    "\n",
    "        #compute error\n",
    "        error = loss_val(Y_batch,P_batch)\n",
    "\n",
    "        #backward pass\n",
    "        w1_g, b1_g, w2_g, b2_g = backward(X_batch, P_batch, W1, b1, W2, b2)\n",
    "    \n",
    "        #update parameters\n",
    "        for weight in range(0, X_batch.shape[1]):\n",
    "            W1[weight] -= w1_g[weight]*0.001\n",
    "\n",
    "        W2 -= w2_g*0.001\n",
    "        b1 -= b1_g*0.001\n",
    "        b2 -= b2_g*0.001\n",
    "        \n",
    "        # losses[i] = np.array([error.mean()])\n",
    "        print(error)\n",
    "        start+=size\n",
    "        \n",
    "    return W1, b1, W2, b2, losses"
   ]
  },
  {
   "cell_type": "code",
   "execution_count": 297,
   "id": "075907f7-d6ce-42a7-90c6-1a0e48edc895",
   "metadata": {
    "tags": []
   },
   "outputs": [],
   "source": [
    "data = pd.read_csv(\"boston.csv\", index_col=[0])"
   ]
  },
  {
   "cell_type": "code",
   "execution_count": 298,
   "id": "29925c30-0805-449d-87f3-769daf0f800d",
   "metadata": {
    "tags": []
   },
   "outputs": [],
   "source": [
    "df = sns.load_dataset(\"car_crashes\")"
   ]
  },
  {
   "cell_type": "code",
   "execution_count": 299,
   "id": "18c40aa3-55c4-45c7-9e76-39facd8df85d",
   "metadata": {
    "tags": []
   },
   "outputs": [],
   "source": [
    "X = df[[\"alcohol\"]].values"
   ]
  },
  {
   "cell_type": "code",
   "execution_count": 300,
   "id": "d4ca49c7-9cfe-4131-8f02-1f26daa9fbb3",
   "metadata": {
    "tags": []
   },
   "outputs": [],
   "source": [
    "Y = df[[\"total\"]].values"
   ]
  },
  {
   "cell_type": "code",
   "execution_count": 301,
   "id": "c5cb87bc-411f-4cf1-9aa1-5c0bbd90490b",
   "metadata": {
    "tags": []
   },
   "outputs": [
    {
     "name": "stdout",
     "output_type": "stream",
     "text": [
      "[[167.19382568]\n",
      " [154.6560533 ]\n",
      " [163.56170669]\n",
      " [239.50235574]\n",
      " [ 66.00939607]\n",
      " [ 85.6558767 ]\n",
      " [ 52.92579738]\n",
      " [123.03892583]\n",
      " [ 14.59723142]\n",
      " [151.14635209]\n",
      " [113.82979864]\n",
      " [144.25863701]\n",
      " [109.33354882]\n",
      " [ 75.49165553]\n",
      " [ 97.82891225]\n",
      " [115.34277693]\n",
      " [149.43155301]\n",
      " [218.1293269 ]\n",
      " [199.71750992]\n",
      " [106.3941398 ]]\n",
      "[[ 71.85814352]\n",
      " [ 29.58389636]\n",
      " [ 92.32074417]\n",
      " [ 41.33698931]\n",
      " [145.97215821]\n",
      " [121.4674138 ]\n",
      " [218.10503186]\n",
      " [103.48638064]\n",
      " [100.63608591]\n",
      " [ 61.48892964]\n",
      " [ 57.14671341]\n",
      " [159.96810976]\n",
      " [ 69.49342215]\n",
      " [132.6259106 ]\n",
      " [273.44387411]\n",
      " [ 92.30246256]\n",
      " [187.91240754]\n",
      " [ 75.52275968]\n",
      " [156.40204469]\n",
      " [ 56.05023566]]\n",
      "[[273.44395972]\n",
      " [178.33976529]\n",
      " [180.23905969]\n",
      " [178.3361289 ]\n",
      " [ 58.32577105]\n",
      " [ 85.64799292]\n",
      " [ 74.29446121]\n",
      " [ 50.89881183]\n",
      " [271.1164075 ]\n",
      " [ 88.27526401]\n",
      " [142.57373294]]\n",
      "[[167.19382568]\n",
      " [154.6560533 ]\n",
      " [163.56170669]\n",
      " [239.50235574]\n",
      " [ 66.00939607]\n",
      " [ 85.6558767 ]\n",
      " [ 52.92579738]\n",
      " [123.03892583]\n",
      " [ 14.59723142]\n",
      " [151.14635209]\n",
      " [113.82979864]\n",
      " [144.25863701]\n",
      " [109.33354882]\n",
      " [ 75.49165553]\n",
      " [ 97.82891225]\n",
      " [115.34277693]\n",
      " [149.43155301]\n",
      " [218.1293269 ]\n",
      " [199.71750992]\n",
      " [106.3941398 ]]\n",
      "[[ 71.85814352]\n",
      " [ 29.58389636]\n",
      " [ 92.32074417]\n",
      " [ 41.33698931]\n",
      " [145.97215821]\n",
      " [121.4674138 ]\n",
      " [218.10503186]\n",
      " [103.48638064]\n",
      " [100.63608591]\n",
      " [ 61.48892964]\n",
      " [ 57.14671341]\n",
      " [159.96810976]\n",
      " [ 69.49342215]\n",
      " [132.6259106 ]\n",
      " [273.44387411]\n",
      " [ 92.30246256]\n",
      " [187.91240754]\n",
      " [ 75.52275968]\n",
      " [156.40204469]\n",
      " [ 56.05023566]]\n",
      "[[273.44395972]\n",
      " [178.33976529]\n",
      " [180.23905969]\n",
      " [178.3361289 ]\n",
      " [ 58.32577105]\n",
      " [ 85.64799292]\n",
      " [ 74.29446121]\n",
      " [ 50.89881183]\n",
      " [271.1164075 ]\n",
      " [ 88.27526401]\n",
      " [142.57373294]]\n",
      "[[167.19382568]\n",
      " [154.6560533 ]\n",
      " [163.56170669]\n",
      " [239.50235574]\n",
      " [ 66.00939607]\n",
      " [ 85.6558767 ]\n",
      " [ 52.92579738]\n",
      " [123.03892583]\n",
      " [ 14.59723142]\n",
      " [151.14635209]\n",
      " [113.82979864]\n",
      " [144.25863701]\n",
      " [109.33354882]\n",
      " [ 75.49165553]\n",
      " [ 97.82891225]\n",
      " [115.34277693]\n",
      " [149.43155301]\n",
      " [218.1293269 ]\n",
      " [199.71750992]\n",
      " [106.3941398 ]]\n",
      "[[ 71.85814352]\n",
      " [ 29.58389636]\n",
      " [ 92.32074417]\n",
      " [ 41.33698931]\n",
      " [145.97215821]\n",
      " [121.4674138 ]\n",
      " [218.10503186]\n",
      " [103.48638064]\n",
      " [100.63608591]\n",
      " [ 61.48892964]\n",
      " [ 57.14671341]\n",
      " [159.96810976]\n",
      " [ 69.49342215]\n",
      " [132.6259106 ]\n",
      " [273.44387411]\n",
      " [ 92.30246256]\n",
      " [187.91240754]\n",
      " [ 75.52275968]\n",
      " [156.40204469]\n",
      " [ 56.05023566]]\n",
      "[[273.44395972]\n",
      " [178.33976529]\n",
      " [180.23905969]\n",
      " [178.3361289 ]\n",
      " [ 58.32577105]\n",
      " [ 85.64799292]\n",
      " [ 74.29446121]\n",
      " [ 50.89881183]\n",
      " [271.1164075 ]\n",
      " [ 88.27526401]\n",
      " [142.57373294]]\n",
      "[[167.19382568]\n",
      " [154.6560533 ]\n",
      " [163.56170669]\n",
      " [239.50235574]\n",
      " [ 66.00939607]\n",
      " [ 85.6558767 ]\n",
      " [ 52.92579738]\n",
      " [123.03892583]\n",
      " [ 14.59723142]\n",
      " [151.14635209]\n",
      " [113.82979864]\n",
      " [144.25863701]\n",
      " [109.33354882]\n",
      " [ 75.49165553]\n",
      " [ 97.82891225]\n",
      " [115.34277693]\n",
      " [149.43155301]\n",
      " [218.1293269 ]\n",
      " [199.71750992]\n",
      " [106.3941398 ]]\n",
      "[[ 71.85814352]\n",
      " [ 29.58389636]\n",
      " [ 92.32074417]\n",
      " [ 41.33698931]\n",
      " [145.97215821]\n",
      " [121.4674138 ]\n",
      " [218.10503186]\n",
      " [103.48638064]\n",
      " [100.63608591]\n",
      " [ 61.48892964]\n",
      " [ 57.14671341]\n",
      " [159.96810976]\n",
      " [ 69.49342215]\n",
      " [132.6259106 ]\n",
      " [273.44387411]\n",
      " [ 92.30246256]\n",
      " [187.91240754]\n",
      " [ 75.52275968]\n",
      " [156.40204469]\n",
      " [ 56.05023566]]\n",
      "[[273.44395972]\n",
      " [178.33976529]\n",
      " [180.23905969]\n",
      " [178.3361289 ]\n",
      " [ 58.32577105]\n",
      " [ 85.64799292]\n",
      " [ 74.29446121]\n",
      " [ 50.89881183]\n",
      " [271.1164075 ]\n",
      " [ 88.27526401]\n",
      " [142.57373294]]\n",
      "[[167.19382568]\n",
      " [154.6560533 ]\n",
      " [163.56170669]\n",
      " [239.50235574]\n",
      " [ 66.00939607]\n",
      " [ 85.6558767 ]\n",
      " [ 52.92579738]\n",
      " [123.03892583]\n",
      " [ 14.59723142]\n",
      " [151.14635209]\n",
      " [113.82979864]\n",
      " [144.25863701]\n",
      " [109.33354882]\n",
      " [ 75.49165553]\n",
      " [ 97.82891225]\n",
      " [115.34277693]\n",
      " [149.43155301]\n",
      " [218.1293269 ]\n",
      " [199.71750992]\n",
      " [106.3941398 ]]\n",
      "[[ 71.85814352]\n",
      " [ 29.58389636]\n",
      " [ 92.32074417]\n",
      " [ 41.33698931]\n",
      " [145.97215821]\n",
      " [121.4674138 ]\n",
      " [218.10503186]\n",
      " [103.48638064]\n",
      " [100.63608591]\n",
      " [ 61.48892964]\n",
      " [ 57.14671341]\n",
      " [159.96810976]\n",
      " [ 69.49342215]\n",
      " [132.6259106 ]\n",
      " [273.44387411]\n",
      " [ 92.30246256]\n",
      " [187.91240754]\n",
      " [ 75.52275968]\n",
      " [156.40204469]\n",
      " [ 56.05023566]]\n",
      "[[273.44395972]\n",
      " [178.33976529]\n",
      " [180.23905969]\n",
      " [178.3361289 ]\n",
      " [ 58.32577105]\n",
      " [ 85.64799292]\n",
      " [ 74.29446121]\n",
      " [ 50.89881183]\n",
      " [271.1164075 ]\n",
      " [ 88.27526401]\n",
      " [142.57373294]]\n",
      "[[167.19382568]\n",
      " [154.6560533 ]\n",
      " [163.56170669]\n",
      " [239.50235574]\n",
      " [ 66.00939607]\n",
      " [ 85.6558767 ]\n",
      " [ 52.92579738]\n",
      " [123.03892583]\n",
      " [ 14.59723142]\n",
      " [151.14635209]\n",
      " [113.82979864]\n",
      " [144.25863701]\n",
      " [109.33354882]\n",
      " [ 75.49165553]\n",
      " [ 97.82891225]\n",
      " [115.34277693]\n",
      " [149.43155301]\n",
      " [218.1293269 ]\n",
      " [199.71750992]\n",
      " [106.3941398 ]]\n",
      "[[ 71.85814352]\n",
      " [ 29.58389636]\n",
      " [ 92.32074417]\n",
      " [ 41.33698931]\n",
      " [145.97215821]\n",
      " [121.4674138 ]\n",
      " [218.10503186]\n",
      " [103.48638064]\n",
      " [100.63608591]\n",
      " [ 61.48892964]\n",
      " [ 57.14671341]\n",
      " [159.96810976]\n",
      " [ 69.49342215]\n",
      " [132.6259106 ]\n",
      " [273.44387411]\n",
      " [ 92.30246256]\n",
      " [187.91240754]\n",
      " [ 75.52275968]\n",
      " [156.40204469]\n",
      " [ 56.05023566]]\n",
      "[[273.44395972]\n",
      " [178.33976529]\n",
      " [180.23905969]\n",
      " [178.3361289 ]\n",
      " [ 58.32577105]\n",
      " [ 85.64799292]\n",
      " [ 74.29446121]\n",
      " [ 50.89881183]\n",
      " [271.1164075 ]\n",
      " [ 88.27526401]\n",
      " [142.57373294]]\n",
      "[[167.19382568]\n",
      " [154.6560533 ]\n",
      " [163.56170669]\n",
      " [239.50235574]\n",
      " [ 66.00939607]\n",
      " [ 85.6558767 ]\n",
      " [ 52.92579738]\n",
      " [123.03892583]\n",
      " [ 14.59723142]\n",
      " [151.14635209]\n",
      " [113.82979864]\n",
      " [144.25863701]\n",
      " [109.33354882]\n",
      " [ 75.49165553]\n",
      " [ 97.82891225]\n",
      " [115.34277693]\n",
      " [149.43155301]\n",
      " [218.1293269 ]\n",
      " [199.71750992]\n",
      " [106.3941398 ]]\n",
      "[[ 71.85814352]\n",
      " [ 29.58389636]\n",
      " [ 92.32074417]\n",
      " [ 41.33698931]\n",
      " [145.97215821]\n",
      " [121.4674138 ]\n",
      " [218.10503186]\n",
      " [103.48638064]\n",
      " [100.63608591]\n",
      " [ 61.48892964]\n",
      " [ 57.14671341]\n",
      " [159.96810976]\n",
      " [ 69.49342215]\n",
      " [132.6259106 ]\n",
      " [273.44387411]\n",
      " [ 92.30246256]\n",
      " [187.91240754]\n",
      " [ 75.52275968]\n",
      " [156.40204469]\n",
      " [ 56.05023566]]\n",
      "[[273.44395972]\n",
      " [178.33976529]\n",
      " [180.23905969]\n",
      " [178.3361289 ]\n",
      " [ 58.32577105]\n",
      " [ 85.64799292]\n",
      " [ 74.29446121]\n",
      " [ 50.89881183]\n",
      " [271.1164075 ]\n",
      " [ 88.27526401]\n",
      " [142.57373294]]\n",
      "[[167.19382568]\n",
      " [154.6560533 ]\n",
      " [163.56170669]\n",
      " [239.50235574]\n",
      " [ 66.00939607]\n",
      " [ 85.6558767 ]\n",
      " [ 52.92579738]\n",
      " [123.03892583]\n",
      " [ 14.59723142]\n",
      " [151.14635209]\n",
      " [113.82979864]\n",
      " [144.25863701]\n",
      " [109.33354882]\n",
      " [ 75.49165553]\n",
      " [ 97.82891225]\n",
      " [115.34277693]\n",
      " [149.43155301]\n",
      " [218.1293269 ]\n",
      " [199.71750992]\n",
      " [106.3941398 ]]\n",
      "[[ 71.85814352]\n",
      " [ 29.58389636]\n",
      " [ 92.32074417]\n",
      " [ 41.33698931]\n",
      " [145.97215821]\n",
      " [121.4674138 ]\n",
      " [218.10503186]\n",
      " [103.48638064]\n",
      " [100.63608591]\n",
      " [ 61.48892964]\n",
      " [ 57.14671341]\n",
      " [159.96810976]\n",
      " [ 69.49342215]\n",
      " [132.6259106 ]\n",
      " [273.44387411]\n",
      " [ 92.30246256]\n",
      " [187.91240754]\n",
      " [ 75.52275968]\n",
      " [156.40204469]\n",
      " [ 56.05023566]]\n",
      "[[273.44395972]\n",
      " [178.33976529]\n",
      " [180.23905969]\n",
      " [178.3361289 ]\n",
      " [ 58.32577105]\n",
      " [ 85.64799292]\n",
      " [ 74.29446121]\n",
      " [ 50.89881183]\n",
      " [271.1164075 ]\n",
      " [ 88.27526401]\n",
      " [142.57373294]]\n",
      "[[167.19382568]\n",
      " [154.6560533 ]\n",
      " [163.56170669]\n",
      " [239.50235574]\n",
      " [ 66.00939607]\n",
      " [ 85.6558767 ]\n",
      " [ 52.92579738]\n",
      " [123.03892583]\n",
      " [ 14.59723142]\n",
      " [151.14635209]\n",
      " [113.82979864]\n",
      " [144.25863701]\n",
      " [109.33354882]\n",
      " [ 75.49165553]\n",
      " [ 97.82891225]\n",
      " [115.34277693]\n",
      " [149.43155301]\n",
      " [218.1293269 ]\n",
      " [199.71750992]\n",
      " [106.3941398 ]]\n",
      "[[ 71.85814352]\n",
      " [ 29.58389636]\n",
      " [ 92.32074417]\n",
      " [ 41.33698931]\n",
      " [145.97215821]\n",
      " [121.4674138 ]\n",
      " [218.10503186]\n",
      " [103.48638064]\n",
      " [100.63608591]\n",
      " [ 61.48892964]\n",
      " [ 57.14671341]\n",
      " [159.96810976]\n",
      " [ 69.49342215]\n",
      " [132.6259106 ]\n",
      " [273.44387411]\n",
      " [ 92.30246256]\n",
      " [187.91240754]\n",
      " [ 75.52275968]\n",
      " [156.40204469]\n",
      " [ 56.05023566]]\n",
      "[[273.44395972]\n",
      " [178.33976529]\n",
      " [180.23905969]\n",
      " [178.3361289 ]\n",
      " [ 58.32577105]\n",
      " [ 85.64799292]\n",
      " [ 74.29446121]\n",
      " [ 50.89881183]\n",
      " [271.1164075 ]\n",
      " [ 88.27526401]\n",
      " [142.57373294]]\n",
      "[[167.19382568]\n",
      " [154.6560533 ]\n",
      " [163.56170669]\n",
      " [239.50235574]\n",
      " [ 66.00939607]\n",
      " [ 85.6558767 ]\n",
      " [ 52.92579738]\n",
      " [123.03892583]\n",
      " [ 14.59723142]\n",
      " [151.14635209]\n",
      " [113.82979864]\n",
      " [144.25863701]\n",
      " [109.33354882]\n",
      " [ 75.49165553]\n",
      " [ 97.82891225]\n",
      " [115.34277693]\n",
      " [149.43155301]\n",
      " [218.1293269 ]\n",
      " [199.71750992]\n",
      " [106.3941398 ]]\n",
      "[[ 71.85814352]\n",
      " [ 29.58389636]\n",
      " [ 92.32074417]\n",
      " [ 41.33698931]\n",
      " [145.97215821]\n",
      " [121.4674138 ]\n",
      " [218.10503186]\n",
      " [103.48638064]\n",
      " [100.63608591]\n",
      " [ 61.48892964]\n",
      " [ 57.14671341]\n",
      " [159.96810976]\n",
      " [ 69.49342215]\n",
      " [132.6259106 ]\n",
      " [273.44387411]\n",
      " [ 92.30246256]\n",
      " [187.91240754]\n",
      " [ 75.52275968]\n",
      " [156.40204469]\n",
      " [ 56.05023566]]\n",
      "[[273.44395972]\n",
      " [178.33976529]\n",
      " [180.23905969]\n",
      " [178.3361289 ]\n",
      " [ 58.32577105]\n",
      " [ 85.64799292]\n",
      " [ 74.29446121]\n",
      " [ 50.89881183]\n",
      " [271.1164075 ]\n",
      " [ 88.27526401]\n",
      " [142.57373294]]\n",
      "[[167.19382568]\n",
      " [154.6560533 ]\n",
      " [163.56170669]\n",
      " [239.50235574]\n",
      " [ 66.00939607]\n",
      " [ 85.6558767 ]\n",
      " [ 52.92579738]\n",
      " [123.03892583]\n",
      " [ 14.59723142]\n",
      " [151.14635209]\n",
      " [113.82979864]\n",
      " [144.25863701]\n",
      " [109.33354882]\n",
      " [ 75.49165553]\n",
      " [ 97.82891225]\n",
      " [115.34277693]\n",
      " [149.43155301]\n",
      " [218.1293269 ]\n",
      " [199.71750992]\n",
      " [106.3941398 ]]\n",
      "[[ 71.85814352]\n",
      " [ 29.58389636]\n",
      " [ 92.32074417]\n",
      " [ 41.33698931]\n",
      " [145.97215821]\n",
      " [121.4674138 ]\n",
      " [218.10503186]\n",
      " [103.48638064]\n",
      " [100.63608591]\n",
      " [ 61.48892964]\n",
      " [ 57.14671341]\n",
      " [159.96810976]\n",
      " [ 69.49342215]\n",
      " [132.6259106 ]\n",
      " [273.44387411]\n",
      " [ 92.30246256]\n",
      " [187.91240754]\n",
      " [ 75.52275968]\n",
      " [156.40204469]\n",
      " [ 56.05023566]]\n",
      "[[273.44395972]\n",
      " [178.33976529]\n",
      " [180.23905969]\n",
      " [178.3361289 ]\n",
      " [ 58.32577105]\n",
      " [ 85.64799292]\n",
      " [ 74.29446121]\n",
      " [ 50.89881183]\n",
      " [271.1164075 ]\n",
      " [ 88.27526401]\n",
      " [142.57373294]]\n",
      "[[167.19382568]\n",
      " [154.6560533 ]\n",
      " [163.56170669]\n",
      " [239.50235574]\n",
      " [ 66.00939607]\n",
      " [ 85.6558767 ]\n",
      " [ 52.92579738]\n",
      " [123.03892583]\n",
      " [ 14.59723142]\n",
      " [151.14635209]\n",
      " [113.82979864]\n",
      " [144.25863701]\n",
      " [109.33354882]\n",
      " [ 75.49165553]\n",
      " [ 97.82891225]\n",
      " [115.34277693]\n",
      " [149.43155301]\n",
      " [218.1293269 ]\n",
      " [199.71750992]\n",
      " [106.3941398 ]]\n",
      "[[ 71.85814352]\n",
      " [ 29.58389636]\n",
      " [ 92.32074417]\n",
      " [ 41.33698931]\n",
      " [145.97215821]\n",
      " [121.4674138 ]\n",
      " [218.10503186]\n",
      " [103.48638064]\n",
      " [100.63608591]\n",
      " [ 61.48892964]\n",
      " [ 57.14671341]\n",
      " [159.96810976]\n",
      " [ 69.49342215]\n",
      " [132.6259106 ]\n",
      " [273.44387411]\n",
      " [ 92.30246256]\n",
      " [187.91240754]\n",
      " [ 75.52275968]\n",
      " [156.40204469]\n",
      " [ 56.05023566]]\n",
      "[[273.44395972]\n",
      " [178.33976529]\n",
      " [180.23905969]\n",
      " [178.3361289 ]\n",
      " [ 58.32577105]\n",
      " [ 85.64799292]\n",
      " [ 74.29446121]\n",
      " [ 50.89881183]\n",
      " [271.1164075 ]\n",
      " [ 88.27526401]\n",
      " [142.57373294]]\n",
      "[[167.19382568]\n",
      " [154.6560533 ]\n",
      " [163.56170669]\n",
      " [239.50235574]\n",
      " [ 66.00939607]\n",
      " [ 85.6558767 ]\n",
      " [ 52.92579738]\n",
      " [123.03892583]\n",
      " [ 14.59723142]\n",
      " [151.14635209]\n",
      " [113.82979864]\n",
      " [144.25863701]\n",
      " [109.33354882]\n",
      " [ 75.49165553]\n",
      " [ 97.82891225]\n",
      " [115.34277693]\n",
      " [149.43155301]\n",
      " [218.1293269 ]\n",
      " [199.71750992]\n",
      " [106.3941398 ]]\n",
      "[[ 71.85814352]\n",
      " [ 29.58389636]\n",
      " [ 92.32074417]\n",
      " [ 41.33698931]\n",
      " [145.97215821]\n",
      " [121.4674138 ]\n",
      " [218.10503186]\n",
      " [103.48638064]\n",
      " [100.63608591]\n",
      " [ 61.48892964]\n",
      " [ 57.14671341]\n",
      " [159.96810976]\n",
      " [ 69.49342215]\n",
      " [132.6259106 ]\n",
      " [273.44387411]\n",
      " [ 92.30246256]\n",
      " [187.91240754]\n",
      " [ 75.52275968]\n",
      " [156.40204469]\n",
      " [ 56.05023566]]\n",
      "[[273.44395972]\n",
      " [178.33976529]\n",
      " [180.23905969]\n",
      " [178.3361289 ]\n",
      " [ 58.32577105]\n",
      " [ 85.64799292]\n",
      " [ 74.29446121]\n",
      " [ 50.89881183]\n",
      " [271.1164075 ]\n",
      " [ 88.27526401]\n",
      " [142.57373294]]\n",
      "[[167.19382568]\n",
      " [154.6560533 ]\n",
      " [163.56170669]\n",
      " [239.50235574]\n",
      " [ 66.00939607]\n",
      " [ 85.6558767 ]\n",
      " [ 52.92579738]\n",
      " [123.03892583]\n",
      " [ 14.59723142]\n",
      " [151.14635209]\n",
      " [113.82979864]\n",
      " [144.25863701]\n",
      " [109.33354882]\n",
      " [ 75.49165553]\n",
      " [ 97.82891225]\n",
      " [115.34277693]\n",
      " [149.43155301]\n",
      " [218.1293269 ]\n",
      " [199.71750992]\n",
      " [106.3941398 ]]\n"
     ]
    }
   ],
   "source": [
    "W1, b1, W2, b2, losses = train(X,Y)"
   ]
  },
  {
   "cell_type": "code",
   "execution_count": 258,
   "id": "4056e473-49a3-4624-b398-e7e495f7d22e",
   "metadata": {
    "tags": []
   },
   "outputs": [],
   "source": [
    "import matplotlib.pyplot as plt\n",
    "plt.style.use(\"dark_background\")"
   ]
  },
  {
   "cell_type": "code",
   "execution_count": 259,
   "id": "f949cb71-6ff3-4f46-be58-61cfeeb8bd33",
   "metadata": {
    "tags": []
   },
   "outputs": [
    {
     "data": {
      "image/png": "[encoded data removed]",
      "text/plain": [
       "<Figure size 640x480 with 1 Axes>"
      ]
     },
     "metadata": {},
     "output_type": "display_data"
    }
   ],
   "source": [
    "plt.plot(losses);"
   ]
  },
  {
   "cell_type": "code",
   "execution_count": 223,
   "id": "ca450b62-cbc2-45ac-bc09-1af82f425932",
   "metadata": {
    "tags": []
   },
   "outputs": [],
   "source": [
    "def predict(X):\n",
    "    o1 = forward(X, W1, b1)\n",
    "    \n",
    "    return forward(o1, W2, b2, activation=False)\n",
    "                  \n",
    "    "
   ]
  },
  {
   "cell_type": "code",
   "execution_count": 224,
   "id": "cd1b1dfd-01d1-471e-9a35-4fb6ef50e370",
   "metadata": {
    "tags": []
   },
   "outputs": [],
   "source": [
    "preds = predict(X)"
   ]
  },
  {
   "cell_type": "code",
   "execution_count": 225,
   "id": "0e5279d0-1c7b-4cc0-8aed-fce1b3142a42",
   "metadata": {
    "tags": []
   },
   "outputs": [
    {
     "data": {
      "image/png": "[encoded data removed]",
      "text/plain": [
       "<Figure size 640x480 with 1 Axes>"
      ]
     },
     "metadata": {},
     "output_type": "display_data"
    }
   ],
   "source": [
    "plt.scatter(X, Y);\n",
    "plt.plot(X, preds, color=\"gold\");"
   ]
  },
  {
   "cell_type": "code",
   "execution_count": 226,
   "id": "543fad97-7070-49ef-8dbf-758f7efb1e9d",
   "metadata": {
    "tags": []
   },
   "outputs": [],
   "source": [
    "import pandas as pd"
   ]
  },
  {
   "cell_type": "code",
   "execution_count": 227,
   "id": "f47f6715-eb13-4d8e-a46e-4dce5dfa102b",
   "metadata": {
    "tags": []
   },
   "outputs": [],
   "source": [
    "data = pd.read_csv(\"boston.csv\", index_col=[0])"
   ]
  },
  {
   "cell_type": "code",
   "execution_count": 228,
   "id": "3be9136f-700f-4d90-9ae3-4a64a6e81e86",
   "metadata": {
    "tags": []
   },
   "outputs": [],
   "source": [
    "X = data.drop(columns=[\"Price\"]).values\n",
    "Y = data[[\"Price\"]].values"
   ]
  },
  {
   "cell_type": "code",
   "execution_count": 241,
   "id": "06283cbb-a89b-40ac-94d2-c92a50cb3158",
   "metadata": {
    "tags": []
   },
   "outputs": [],
   "source": [
    "perm = np.random.permutation(X.shape[0])"
   ]
  },
  {
   "cell_type": "code",
   "execution_count": 246,
   "id": "66971ce2-ee7b-4770-9ac1-a7b0b24d844b",
   "metadata": {
    "tags": []
   },
   "outputs": [],
   "source": [
    "X = X[perm]\n",
    "Y = Y[perm]"
   ]
  },
  {
   "cell_type": "code",
   "execution_count": 247,
   "id": "1c1e3c91-2377-4ec3-a08a-1359d672610e",
   "metadata": {
    "tags": []
   },
   "outputs": [],
   "source": [
    "W1, b1, W2, b2, losses = train(X,Y)"
   ]
  },
  {
   "cell_type": "code",
   "execution_count": null,
   "id": "cb83815e-3252-428a-b796-8a3a6a60e9f7",
   "metadata": {},
   "outputs": [],
   "source": []
  },
  {
   "cell_type": "code",
   "execution_count": null,
   "id": "29c983c4-629d-4c49-a6be-31456263ed11",
   "metadata": {},
   "outputs": [],
   "source": []
  },
  {
   "cell_type": "code",
   "execution_count": 249,
   "id": "73460dbc-5108-4229-bb3f-0821fccde794",
   "metadata": {
    "tags": []
   },
   "outputs": [
    {
     "data": {
      "image/png": "[encoded data removed]",
      "text/plain": [
       "<Figure size 640x480 with 1 Axes>"
      ]
     },
     "metadata": {},
     "output_type": "display_data"
    }
   ],
   "source": [
    "plt.scatter(X[:,12], Y);\n",
    "plt.scatter(predict(X), Y);"
   ]
  },
  {
   "cell_type": "code",
   "execution_count": 237,
   "id": "5ecac8b6-bd10-4e61-a5f2-853266e90626",
   "metadata": {
    "tags": []
   },
   "outputs": [
    {
     "data": {
      "image/png": "[encoded data removed]",
      "text/plain": [
       "<Figure size 640x480 with 1 Axes>"
      ]
     },
     "metadata": {},
     "output_type": "display_data"
    }
   ],
   "source": [
    "plt.plot(losses);"
   ]
  },
  {
   "cell_type": "code",
   "execution_count": 171,
   "id": "99f84065-5d14-4744-9483-301eff082cf0",
   "metadata": {
    "tags": []
   },
   "outputs": [],
   "source": [
    "import seaborn as sns\n",
    "df = sns.load_dataset(\"mpg\")"
   ]
  },
  {
   "cell_type": "code",
   "execution_count": 172,
   "id": "6ca7ba52-0c83-4dcd-a54b-725f3a416901",
   "metadata": {
    "tags": []
   },
   "outputs": [],
   "source": [
    "X = df[[\"horsepower\"]].values\n",
    "Y = df[[\"acceleration\"]].values"
   ]
  },
  {
   "cell_type": "code",
   "execution_count": 173,
   "id": "c88ccc9e-1b0b-4687-80a1-c286483f8fda",
   "metadata": {
    "tags": []
   },
   "outputs": [
    {
     "ename": "ValueError",
     "evalue": "non-broadcastable output operand with shape (1,1) doesn't match the broadcast shape (398,1)",
     "output_type": "error",
     "traceback": [
      "\u001b[1;31m---------------------------------------------------------------------------\u001b[0m",
      "\u001b[1;31mValueError\u001b[0m                                Traceback (most recent call last)",
      "Cell \u001b[1;32mIn[173], line 1\u001b[0m\n\u001b[1;32m----> 1\u001b[0m \u001b[43mtrain\u001b[49m\u001b[43m(\u001b[49m\u001b[43mX\u001b[49m\u001b[43m,\u001b[49m\u001b[43mY\u001b[49m\u001b[43m)\u001b[49m\n",
      "Cell \u001b[1;32mIn[142], line 26\u001b[0m, in \u001b[0;36mtrain\u001b[1;34m(X, Y)\u001b[0m\n\u001b[0;32m     23\u001b[0m \u001b[38;5;28;01mfor\u001b[39;00m weight \u001b[38;5;129;01min\u001b[39;00m \u001b[38;5;28mrange\u001b[39m(\u001b[38;5;241m0\u001b[39m, X\u001b[38;5;241m.\u001b[39mshape[\u001b[38;5;241m1\u001b[39m]):\n\u001b[0;32m     24\u001b[0m     W1[weight] \u001b[38;5;241m-\u001b[39m\u001b[38;5;241m=\u001b[39m w1_g[weight]\u001b[38;5;241m*\u001b[39m\u001b[38;5;241m0.001\u001b[39m\n\u001b[1;32m---> 26\u001b[0m \u001b[43mW2\u001b[49m\u001b[43m \u001b[49m\u001b[38;5;241;43m-\u001b[39;49m\u001b[38;5;241;43m=\u001b[39;49m\u001b[43m \u001b[49m\u001b[43mw2_g\u001b[49m\u001b[38;5;241;43m*\u001b[39;49m\u001b[38;5;241;43m0.001\u001b[39;49m\n\u001b[0;32m     27\u001b[0m b1 \u001b[38;5;241m-\u001b[39m\u001b[38;5;241m=\u001b[39m b1_g\u001b[38;5;241m*\u001b[39m\u001b[38;5;241m0.001\u001b[39m\n\u001b[0;32m     28\u001b[0m b2 \u001b[38;5;241m-\u001b[39m\u001b[38;5;241m=\u001b[39m b2_g\u001b[38;5;241m*\u001b[39m\u001b[38;5;241m0.001\u001b[39m\n",
      "\u001b[1;31mValueError\u001b[0m: non-broadcastable output operand with shape (1,1) doesn't match the broadcast shape (398,1)"
     ]
    }
   ],
   "source": [
    "train(X,Y)"
   ]
  },
  {
   "cell_type": "code",
   "execution_count": null,
   "id": "c2e07d6e-9910-4734-80db-33742e3c2743",
   "metadata": {},
   "outputs": [],
   "source": []
  }
 ],
 "metadata": {
  "kernelspec": {
   "display_name": "Python [conda env:pytorch_workflow]",
   "language": "python",
   "name": "conda-env-pytorch_workflow-py"
  },
  "language_info": {
   "codemirror_mode": {
    "name": "ipython",
    "version": 3
   },
   "file_extension": ".py",
   "mimetype": "text/x-python",
   "name": "python",
   "nbconvert_exporter": "python",
   "pygments_lexer": "ipython3",
   "version": "3.11.4"
  }
 },
 "nbformat": 4,
 "nbformat_minor": 5
}

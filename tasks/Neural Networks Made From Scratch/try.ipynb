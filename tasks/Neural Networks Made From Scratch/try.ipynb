{
 "cells": [
  {
   "cell_type": "code",
   "execution_count": 1,
   "id": "b0275b95-b36c-4585-bf18-ede6e8765e4e",
   "metadata": {
    "tags": []
   },
   "outputs": [],
   "source": [
    "import numpy as np\n",
    "from numpy import ndarray\n",
    "\n",
    "from typing import Callable, Dict, Tuple, List\n",
    "\n",
    "np.set_printoptions(precision=4)\n",
    "# GRAPHS_IMG_FILEPATH = \"/Users/seth/development/01_deep-learning-from-scratch/images/02_fundamentals/graphs/\""
   ]
  },
  {
   "cell_type": "code",
   "execution_count": 2,
   "id": "f272eb26-9cd9-413a-bab2-672f1e876784",
   "metadata": {
    "tags": []
   },
   "outputs": [],
   "source": [
    "%load_ext autoreload\n",
    "%autoreload 2"
   ]
  },
  {
   "cell_type": "code",
   "execution_count": 3,
   "id": "fb4c7343-d9f2-43b8-ba20-29010b1667fc",
   "metadata": {
    "tags": []
   },
   "outputs": [],
   "source": [
    "TEST_ALL = False"
   ]
  },
  {
   "cell_type": "markdown",
   "id": "8c1593ae-78a8-4085-b3c4-7eeabf796eba",
   "metadata": {},
   "source": [
    "# Boston data"
   ]
  },
  {
   "cell_type": "code",
   "execution_count": 4,
   "id": "2c4f4ea4-7625-495a-aa92-2b24ef55a6d0",
   "metadata": {
    "tags": []
   },
   "outputs": [],
   "source": [
    "import pandas as pd"
   ]
  },
  {
   "cell_type": "code",
   "execution_count": 5,
   "id": "f464f519-0f97-4851-80ac-9aa4aad2f84f",
   "metadata": {
    "tags": []
   },
   "outputs": [],
   "source": [
    "# from sklearn.datasets import load_boston\n",
    "boston = pd.read_csv(\"boston.csv\", index_col=[0])"
   ]
  },
  {
   "cell_type": "code",
   "execution_count": 6,
   "id": "e8fc5d23-4726-4073-97e2-b868d9eb8848",
   "metadata": {
    "tags": []
   },
   "outputs": [
    {
     "data": {
      "text/html": [
       "<div>\n",
       "<style scoped>\n",
       "    .dataframe tbody tr th:only-of-type {\n",
       "        vertical-align: middle;\n",
       "    }\n",
       "\n",
       "    .dataframe tbody tr th {\n",
       "        vertical-align: top;\n",
       "    }\n",
       "\n",
       "    .dataframe thead th {\n",
       "        text-align: right;\n",
       "    }\n",
       "</style>\n",
       "<table border=\"1\" class=\"dataframe\">\n",
       "  <thead>\n",
       "    <tr style=\"text-align: right;\">\n",
       "      <th></th>\n",
       "      <th>CRIM</th>\n",
       "      <th>ZN</th>\n",
       "      <th>INDUS</th>\n",
       "      <th>CHAS</th>\n",
       "      <th>NOX</th>\n",
       "      <th>RM</th>\n",
       "      <th>AGE</th>\n",
       "      <th>DIS</th>\n",
       "      <th>RAD</th>\n",
       "      <th>TAX</th>\n",
       "      <th>PTRATIO</th>\n",
       "      <th>B</th>\n",
       "      <th>LSTAT</th>\n",
       "      <th>Price</th>\n",
       "    </tr>\n",
       "  </thead>\n",
       "  <tbody>\n",
       "    <tr>\n",
       "      <th>0</th>\n",
       "      <td>0.00632</td>\n",
       "      <td>18.0</td>\n",
       "      <td>2.31</td>\n",
       "      <td>0.0</td>\n",
       "      <td>0.538</td>\n",
       "      <td>6.575</td>\n",
       "      <td>65.2</td>\n",
       "      <td>4.0900</td>\n",
       "      <td>1.0</td>\n",
       "      <td>296.0</td>\n",
       "      <td>15.3</td>\n",
       "      <td>396.90</td>\n",
       "      <td>4.98</td>\n",
       "      <td>24.0</td>\n",
       "    </tr>\n",
       "    <tr>\n",
       "      <th>1</th>\n",
       "      <td>0.02731</td>\n",
       "      <td>0.0</td>\n",
       "      <td>7.07</td>\n",
       "      <td>0.0</td>\n",
       "      <td>0.469</td>\n",
       "      <td>6.421</td>\n",
       "      <td>78.9</td>\n",
       "      <td>4.9671</td>\n",
       "      <td>2.0</td>\n",
       "      <td>242.0</td>\n",
       "      <td>17.8</td>\n",
       "      <td>396.90</td>\n",
       "      <td>9.14</td>\n",
       "      <td>21.6</td>\n",
       "    </tr>\n",
       "    <tr>\n",
       "      <th>2</th>\n",
       "      <td>0.02729</td>\n",
       "      <td>0.0</td>\n",
       "      <td>7.07</td>\n",
       "      <td>0.0</td>\n",
       "      <td>0.469</td>\n",
       "      <td>7.185</td>\n",
       "      <td>61.1</td>\n",
       "      <td>4.9671</td>\n",
       "      <td>2.0</td>\n",
       "      <td>242.0</td>\n",
       "      <td>17.8</td>\n",
       "      <td>392.83</td>\n",
       "      <td>4.03</td>\n",
       "      <td>34.7</td>\n",
       "    </tr>\n",
       "    <tr>\n",
       "      <th>3</th>\n",
       "      <td>0.03237</td>\n",
       "      <td>0.0</td>\n",
       "      <td>2.18</td>\n",
       "      <td>0.0</td>\n",
       "      <td>0.458</td>\n",
       "      <td>6.998</td>\n",
       "      <td>45.8</td>\n",
       "      <td>6.0622</td>\n",
       "      <td>3.0</td>\n",
       "      <td>222.0</td>\n",
       "      <td>18.7</td>\n",
       "      <td>394.63</td>\n",
       "      <td>2.94</td>\n",
       "      <td>33.4</td>\n",
       "    </tr>\n",
       "    <tr>\n",
       "      <th>4</th>\n",
       "      <td>0.06905</td>\n",
       "      <td>0.0</td>\n",
       "      <td>2.18</td>\n",
       "      <td>0.0</td>\n",
       "      <td>0.458</td>\n",
       "      <td>7.147</td>\n",
       "      <td>54.2</td>\n",
       "      <td>6.0622</td>\n",
       "      <td>3.0</td>\n",
       "      <td>222.0</td>\n",
       "      <td>18.7</td>\n",
       "      <td>396.90</td>\n",
       "      <td>5.33</td>\n",
       "      <td>36.2</td>\n",
       "    </tr>\n",
       "    <tr>\n",
       "      <th>...</th>\n",
       "      <td>...</td>\n",
       "      <td>...</td>\n",
       "      <td>...</td>\n",
       "      <td>...</td>\n",
       "      <td>...</td>\n",
       "      <td>...</td>\n",
       "      <td>...</td>\n",
       "      <td>...</td>\n",
       "      <td>...</td>\n",
       "      <td>...</td>\n",
       "      <td>...</td>\n",
       "      <td>...</td>\n",
       "      <td>...</td>\n",
       "      <td>...</td>\n",
       "    </tr>\n",
       "    <tr>\n",
       "      <th>501</th>\n",
       "      <td>0.06263</td>\n",
       "      <td>0.0</td>\n",
       "      <td>11.93</td>\n",
       "      <td>0.0</td>\n",
       "      <td>0.573</td>\n",
       "      <td>6.593</td>\n",
       "      <td>69.1</td>\n",
       "      <td>2.4786</td>\n",
       "      <td>1.0</td>\n",
       "      <td>273.0</td>\n",
       "      <td>21.0</td>\n",
       "      <td>391.99</td>\n",
       "      <td>9.67</td>\n",
       "      <td>22.4</td>\n",
       "    </tr>\n",
       "    <tr>\n",
       "      <th>502</th>\n",
       "      <td>0.04527</td>\n",
       "      <td>0.0</td>\n",
       "      <td>11.93</td>\n",
       "      <td>0.0</td>\n",
       "      <td>0.573</td>\n",
       "      <td>6.120</td>\n",
       "      <td>76.7</td>\n",
       "      <td>2.2875</td>\n",
       "      <td>1.0</td>\n",
       "      <td>273.0</td>\n",
       "      <td>21.0</td>\n",
       "      <td>396.90</td>\n",
       "      <td>9.08</td>\n",
       "      <td>20.6</td>\n",
       "    </tr>\n",
       "    <tr>\n",
       "      <th>503</th>\n",
       "      <td>0.06076</td>\n",
       "      <td>0.0</td>\n",
       "      <td>11.93</td>\n",
       "      <td>0.0</td>\n",
       "      <td>0.573</td>\n",
       "      <td>6.976</td>\n",
       "      <td>91.0</td>\n",
       "      <td>2.1675</td>\n",
       "      <td>1.0</td>\n",
       "      <td>273.0</td>\n",
       "      <td>21.0</td>\n",
       "      <td>396.90</td>\n",
       "      <td>5.64</td>\n",
       "      <td>23.9</td>\n",
       "    </tr>\n",
       "    <tr>\n",
       "      <th>504</th>\n",
       "      <td>0.10959</td>\n",
       "      <td>0.0</td>\n",
       "      <td>11.93</td>\n",
       "      <td>0.0</td>\n",
       "      <td>0.573</td>\n",
       "      <td>6.794</td>\n",
       "      <td>89.3</td>\n",
       "      <td>2.3889</td>\n",
       "      <td>1.0</td>\n",
       "      <td>273.0</td>\n",
       "      <td>21.0</td>\n",
       "      <td>393.45</td>\n",
       "      <td>6.48</td>\n",
       "      <td>22.0</td>\n",
       "    </tr>\n",
       "    <tr>\n",
       "      <th>505</th>\n",
       "      <td>0.04741</td>\n",
       "      <td>0.0</td>\n",
       "      <td>11.93</td>\n",
       "      <td>0.0</td>\n",
       "      <td>0.573</td>\n",
       "      <td>6.030</td>\n",
       "      <td>80.8</td>\n",
       "      <td>2.5050</td>\n",
       "      <td>1.0</td>\n",
       "      <td>273.0</td>\n",
       "      <td>21.0</td>\n",
       "      <td>396.90</td>\n",
       "      <td>7.88</td>\n",
       "      <td>11.9</td>\n",
       "    </tr>\n",
       "  </tbody>\n",
       "</table>\n",
       "<p>506 rows × 14 columns</p>\n",
       "</div>"
      ],
      "text/plain": [
       "        CRIM    ZN  INDUS  CHAS    NOX     RM   AGE     DIS  RAD    TAX  \\\n",
       "0    0.00632  18.0   2.31   0.0  0.538  6.575  65.2  4.0900  1.0  296.0   \n",
       "1    0.02731   0.0   7.07   0.0  0.469  6.421  78.9  4.9671  2.0  242.0   \n",
       "2    0.02729   0.0   7.07   0.0  0.469  7.185  61.1  4.9671  2.0  242.0   \n",
       "3    0.03237   0.0   2.18   0.0  0.458  6.998  45.8  6.0622  3.0  222.0   \n",
       "4    0.06905   0.0   2.18   0.0  0.458  7.147  54.2  6.0622  3.0  222.0   \n",
       "..       ...   ...    ...   ...    ...    ...   ...     ...  ...    ...   \n",
       "501  0.06263   0.0  11.93   0.0  0.573  6.593  69.1  2.4786  1.0  273.0   \n",
       "502  0.04527   0.0  11.93   0.0  0.573  6.120  76.7  2.2875  1.0  273.0   \n",
       "503  0.06076   0.0  11.93   0.0  0.573  6.976  91.0  2.1675  1.0  273.0   \n",
       "504  0.10959   0.0  11.93   0.0  0.573  6.794  89.3  2.3889  1.0  273.0   \n",
       "505  0.04741   0.0  11.93   0.0  0.573  6.030  80.8  2.5050  1.0  273.0   \n",
       "\n",
       "     PTRATIO       B  LSTAT  Price  \n",
       "0       15.3  396.90   4.98   24.0  \n",
       "1       17.8  396.90   9.14   21.6  \n",
       "2       17.8  392.83   4.03   34.7  \n",
       "3       18.7  394.63   2.94   33.4  \n",
       "4       18.7  396.90   5.33   36.2  \n",
       "..       ...     ...    ...    ...  \n",
       "501     21.0  391.99   9.67   22.4  \n",
       "502     21.0  396.90   9.08   20.6  \n",
       "503     21.0  396.90   5.64   23.9  \n",
       "504     21.0  393.45   6.48   22.0  \n",
       "505     21.0  396.90   7.88   11.9  \n",
       "\n",
       "[506 rows x 14 columns]"
      ]
     },
     "execution_count": 6,
     "metadata": {},
     "output_type": "execute_result"
    }
   ],
   "source": [
    "boston"
   ]
  },
  {
   "cell_type": "code",
   "execution_count": 7,
   "id": "ab2ec8be-d9cd-4894-9490-2f7d51b1991b",
   "metadata": {
    "tags": []
   },
   "outputs": [],
   "source": [
    "data = boston.drop(columns=\"Price\").values\n",
    "target = boston.Price.values\n",
    "features = boston.columns.values"
   ]
  },
  {
   "cell_type": "markdown",
   "id": "0371fb42-3b02-4d53-8328-1fb192f312c7",
   "metadata": {},
   "source": [
    "# SciKit Learn Linear Regression"
   ]
  },
  {
   "cell_type": "markdown",
   "id": "1d3e9548-711e-4a24-998f-0de9b7c13b17",
   "metadata": {},
   "source": [
    "## Data prep"
   ]
  },
  {
   "cell_type": "code",
   "execution_count": 8,
   "id": "5d29af60-d506-4653-a883-2f8579ca17e8",
   "metadata": {
    "tags": []
   },
   "outputs": [],
   "source": [
    "from sklearn.preprocessing import StandardScaler\n",
    "s = StandardScaler()\n",
    "data = s.fit_transform(data)"
   ]
  },
  {
   "cell_type": "code",
   "execution_count": 9,
   "id": "11cffd48-5f42-4728-9c23-76b52454f39a",
   "metadata": {
    "tags": []
   },
   "outputs": [],
   "source": [
    "from sklearn.model_selection import train_test_split\n",
    "X_train, X_test, y_train, y_test = train_test_split(data, target, test_size=0.3)\n",
    "\n",
    "y_train, y_test = y_train.reshape(-1, 1), y_test.reshape(-1, 1)"
   ]
  },
  {
   "cell_type": "markdown",
   "id": "6ec7407c-2aca-42d1-92f8-f94aa57184e6",
   "metadata": {},
   "source": [
    "____"
   ]
  },
  {
   "cell_type": "code",
   "execution_count": 10,
   "id": "2065c341-6343-41c2-b4c2-afee5a378380",
   "metadata": {
    "tags": []
   },
   "outputs": [],
   "source": [
    "import numpy as np"
   ]
  },
  {
   "cell_type": "code",
   "execution_count": 11,
   "id": "365dfe5a-6835-441b-b485-131fe2c1cab4",
   "metadata": {
    "tags": []
   },
   "outputs": [],
   "source": [
    "def sigmoid(X):\n",
    "    return 1/(1+(np.e**(-X)))"
   ]
  },
  {
   "cell_type": "code",
   "execution_count": 12,
   "id": "8d342023-aca2-4b61-8da8-4c54de5c3cf2",
   "metadata": {
    "tags": []
   },
   "outputs": [],
   "source": [
    "def deriv(func, a, delta_x=0.001):\n",
    "    \n",
    "    return (func(a+delta_x) - func(a-delta_x)) / (delta_x*2)"
   ]
  },
  {
   "cell_type": "code",
   "execution_count": null,
   "id": "7f38d440-7409-4ed8-b132-394b7ac6c9ed",
   "metadata": {},
   "outputs": [],
   "source": []
  },
  {
   "cell_type": "code",
   "execution_count": 13,
   "id": "9e8396aa-81ca-4257-b287-b997fea73d59",
   "metadata": {
    "tags": []
   },
   "outputs": [],
   "source": [
    "def sigmoid(x: ndarray) -> ndarray:\n",
    "    return 1 / (1 + np.exp(-1.0 * x))"
   ]
  },
  {
   "cell_type": "code",
   "execution_count": 14,
   "id": "b750af85-bafe-49bb-ada6-b4a71a55c73a",
   "metadata": {
    "tags": []
   },
   "outputs": [],
   "source": [
    "def backward(X, Y, params):\n",
    "    \n",
    "    assert X.shape[1] == params[\"W1\"].shape[0]\n",
    "    \n",
    "\n",
    "    M1 = np.dot(X,params[\"W1\"]) #(3x3) * (3x1) = (3x1)\n",
    "    N1 = M1 + params[\"b1\"] #(3x1) + (3x1) = (3x1)\n",
    "    O1 = sigmoid(N1) #apply non-linear function (3x1 shape remains equal)\n",
    "    M2 = np.dot(O1,params[\"W2\"]) #(3,1) * (1,1) = (3x1) same shape\n",
    "    P = M2 + params[\"b2\"] #(3x1) + (1,1) = (3x1 shape remains equal)\n",
    "    # L = 1/2*((Y-P)**2) #1/2(((3x1)-(3x1))**2) = (3x1) same shape\n",
    "    L = (1/X.shape[0])*(Y-P)\n",
    "    \n",
    "    # dL_dP = -(Y-P)\n",
    "    dL_dP = (-2/X.shape[0])*(Y-P)\n",
    "\n",
    "    dP_dM2, dP_db2 = np.ones_like(M2), np.ones_like(params[\"b2\"])\n",
    "\n",
    "    dL_dM2, dL_db2 = (dL_dP*dP_dM2), (dL_dP*dP_db2).sum(axis=0)\n",
    "\n",
    "    dM2_dO1, dM2_dW2 = np.transpose(params[\"W2\"], (1,0)), np.transpose(O1, (1,0))\n",
    "\n",
    "    dL_dW2 = np.dot(dM2_dW2, (dL_dP*dP_dM2)) \n",
    "\n",
    "    dL_dO1 = np.dot(dL_dM2, dM2_dO1)\n",
    "\n",
    "    # dO1_dN1 = (np.e**-N1)/(1+np.e**-N1)**2\n",
    "\n",
    "    dO1_dN1 = sigmoid(N1) * (1-sigmoid(N1))\n",
    "    dL_dN1 = (dL_dO1*dO1_dN1)\n",
    "\n",
    "    dN1_dM1, dN1_db1 = np.ones_like(M1), np.ones_like(params[\"b1\"])\n",
    "\n",
    "    dL_db1 = (dL_dN1*dN1_db1).sum(axis=0)\n",
    "\n",
    "    dL_dM1 = dL_dN1 * dN1_dM1\n",
    "\n",
    "    dM1_dW1 = np.transpose(X, (1,0))\n",
    "\n",
    "    dL_dW1 = np.dot(dM1_dW1, dL_dM1)\n",
    "    \n",
    "    gradients = {}\n",
    "\n",
    "    gradients[\"b2\"] = dL_db2\n",
    "    gradients[\"W2\"] = dL_dW2\n",
    "    gradients[\"b1\"] = dL_db1\n",
    "    gradients[\"W1\"] = dL_dW1    \n",
    "    \n",
    "    return gradients"
   ]
  },
  {
   "cell_type": "code",
   "execution_count": null,
   "id": "e0b28ffb-cd96-418c-a1f1-1fceea25ec47",
   "metadata": {
    "tags": []
   },
   "outputs": [],
   "source": []
  },
  {
   "cell_type": "code",
   "execution_count": 15,
   "id": "8d797ba2-9454-432e-812c-3a54e13b2636",
   "metadata": {
    "tags": []
   },
   "outputs": [],
   "source": [
    "def generate_batch(X, \n",
    "                   y,\n",
    "                   start,\n",
    "                   batch_size):\n",
    "\n",
    "    if start+batch_size > X.shape[0]:\n",
    "        batch_size = X.shape[0] - start\n",
    "    \n",
    "    X_batch, y_batch = X[start:start+batch_size], y[start:start+batch_size]\n",
    "    \n",
    "    return X_batch, y_batch"
   ]
  },
  {
   "cell_type": "code",
   "execution_count": 16,
   "id": "b7828277-710b-4d76-97a5-7d7cc0a416f3",
   "metadata": {
    "tags": []
   },
   "outputs": [],
   "source": [
    "def forward(X, params):\n",
    "    \n",
    "    M1 = np.dot(X,params[\"W1\"]) #(3x3) * (3x1) = (3x1)\n",
    "    N1 = M1 + params[\"b1\"] #(3x1) + (3x1) = (3x1)\n",
    "    O1 = sigmoid(N1) #apply non-linear function (3x1 shape remains equal)\n",
    "    M2 = np.dot(O1,params[\"W2\"]) #(3,1) * (1,1) = (3x1) same shape\n",
    "    P = M2 + params[\"b2\"] #(3x1) + (1,1) = (3x1 shape remains equal)\n",
    "    \n",
    "    return P"
   ]
  },
  {
   "cell_type": "code",
   "execution_count": 17,
   "id": "cbeed4d0-97e8-4c0f-8d68-d3d0177b21a9",
   "metadata": {
    "tags": []
   },
   "outputs": [],
   "source": [
    "def permute_data(X, Y):\n",
    "    perm = np.random.permutation(X.shape[0])\n",
    "    return X[perm], Y[perm]"
   ]
  },
  {
   "cell_type": "code",
   "execution_count": 18,
   "id": "bce8010e-531f-45bb-9b78-2c24589a6f42",
   "metadata": {
    "tags": []
   },
   "outputs": [],
   "source": [
    "def sigmoid(x: ndarray) -> ndarray:\n",
    "    return 1 / (1 + np.exp(-1.0 * x))"
   ]
  },
  {
   "cell_type": "code",
   "execution_count": 19,
   "id": "60262ea8-4163-4f69-a9c9-4ffbd2620454",
   "metadata": {
    "tags": []
   },
   "outputs": [],
   "source": [
    "def init_weights():\n",
    "    \n",
    "    params = {}\n",
    "\n",
    "    params[\"W1\"] = np.random.rand(13,13) #weight for each feature (3x1)\n",
    "    params[\"b1\"] = np.random.rand(1,13) #one value to add to X*W (1x1)\n",
    "    params[\"W2\"] = np.random.rand(13,1) #one weight for the (1x1) output of O1\n",
    "    params[\"b2\"] = np.random.rand(1,1) #another unique value to add to O1*W2\n",
    "    \n",
    "    return params"
   ]
  },
  {
   "cell_type": "code",
   "execution_count": 20,
   "id": "b1b51e07-5049-4b11-8914-fed3c76fb004",
   "metadata": {
    "tags": []
   },
   "outputs": [],
   "source": [
    "def train(X, Y, epochs, learning_rate, batch_size):\n",
    "    \n",
    "#     W1 = np.random.rand(X.shape[1],hidden_size) #weight for each feature (3x1)\n",
    "#     b1 = np.random.rand(1,hidden_size) #one value to add to X*W (1x1)\n",
    "\n",
    "#     W2 = np.random.rand(hidden_size,1) #one weight for the (1x1) output of O1\n",
    "#     b2 = np.random.rand(1,1) #another unique value to add to O1*W2\n",
    "\n",
    "    params = init_weights()\n",
    "\n",
    "    gradients = backward(X, Y, params)\n",
    "\n",
    "    # gradients.keys()\n",
    "\n",
    "    losses = []\n",
    "    \n",
    "    for epoch in range(0, epochs):\n",
    "    \n",
    "        start = 0\n",
    "\n",
    "\n",
    "        if start >= X.shape[0]:\n",
    "            X, Y = permute_data(X, Y)\n",
    "            start = 0\n",
    "\n",
    "        # generate batch of data\n",
    "        X_batch, Y_batch = generate_batch(X,Y, start=start,\n",
    "                                          batch_size=batch_size)\n",
    "        start += batch_size\n",
    "\n",
    "\n",
    "        gradients = backward(X_batch, Y_batch, params)\n",
    "        P_batch = forward(X_batch, params)\n",
    "\n",
    "        # L = 1/2*((Y_batch-P_batch)**2) #1/2(((3x1)-(3x1))**2) = (3x1) same shape\n",
    "        L =  np.mean(np.power(Y_batch - P_batch, 2))\n",
    "\n",
    "        \n",
    "        # print(L.mean())\n",
    "        losses.append(L.mean())\n",
    "\n",
    "        for param in gradients.keys():\n",
    "\n",
    "            params[param] -= learning_rate*gradients[param]\n",
    "    \n",
    "    return params, losses"
   ]
  },
  {
   "cell_type": "code",
   "execution_count": 21,
   "id": "87f2c7b9-1620-456c-8b69-32753ae0fdc6",
   "metadata": {
    "tags": []
   },
   "outputs": [],
   "source": [
    "def predict(X, params):\n",
    "    \n",
    "    M1 = np.dot(X, params['W1'])\n",
    "\n",
    "    N1 = M1 + params['b1']\n",
    "\n",
    "    O1 = sigmoid(N1)\n",
    "    \n",
    "    \n",
    "    M2 = np.dot(O1, params['W2'])\n",
    "\n",
    "    P = M2 + params['b2']    \n",
    "    \n",
    "    return P\n",
    "    "
   ]
  },
  {
   "cell_type": "code",
   "execution_count": 22,
   "id": "e8f0724b-1828-4387-b1e4-20bfb8166d56",
   "metadata": {
    "tags": []
   },
   "outputs": [],
   "source": [
    "def mae(preds: ndarray, actuals: ndarray):\n",
    "    '''\n",
    "    Compute mean absolute error.\n",
    "    '''\n",
    "    return np.mean(np.abs(preds - actuals))\n",
    "\n",
    "def rmse(preds: ndarray, actuals: ndarray):\n",
    "    '''\n",
    "    Compute root mean squared error.\n",
    "    '''\n",
    "    return np.sqrt(np.mean(np.power(preds - actuals, 2)))"
   ]
  },
  {
   "cell_type": "markdown",
   "id": "b630d176-0625-43d8-a57b-b3c9d936143e",
   "metadata": {},
   "source": [
    "________"
   ]
  },
  {
   "cell_type": "code",
   "execution_count": 36,
   "id": "fffab590-e4cc-4e7b-9d9d-0837fa59b6b1",
   "metadata": {
    "tags": []
   },
   "outputs": [],
   "source": [
    "params, losses = train(X_train, y_train, 20000, 0.002, 23)"
   ]
  },
  {
   "cell_type": "code",
   "execution_count": 37,
   "id": "e0e6c23b-a35f-470a-b9b4-f63305ac5fc5",
   "metadata": {
    "tags": []
   },
   "outputs": [],
   "source": [
    "preds = predict(X_test, params)"
   ]
  },
  {
   "cell_type": "code",
   "execution_count": 38,
   "id": "a7fd2d90-832d-4b1b-9ee9-dbaeaadd16fa",
   "metadata": {
    "tags": []
   },
   "outputs": [
    {
     "name": "stdout",
     "output_type": "stream",
     "text": [
      "Mean absolute error: 4.1098 \n",
      "Root mean squared error: 5.7741\n"
     ]
    }
   ],
   "source": [
    "print(\"Mean absolute error:\", round(mae(preds, y_test), 4), \"\\n\"\n",
    "      \"Root mean squared error:\", round(rmse(preds, y_test), 4))"
   ]
  },
  {
   "cell_type": "code",
   "execution_count": 39,
   "id": "eaf4df00-b850-4975-972b-c6a41a284e09",
   "metadata": {
    "tags": []
   },
   "outputs": [
    {
     "name": "stdout",
     "output_type": "stream",
     "text": [
      "Mean absolute error: 4.1098 \n",
      "Root mean squared error: 5.7741\n"
     ]
    }
   ],
   "source": [
    "print(\"Mean absolute error:\", round(mae(preds, y_test), 4), \"\\n\"\n",
    "      \"Root mean squared error:\", round(rmse(preds, y_test), 4))"
   ]
  },
  {
   "cell_type": "code",
   "execution_count": 40,
   "id": "7c5d5a72-2a90-4535-a4c1-b7863f96ede7",
   "metadata": {
    "tags": []
   },
   "outputs": [],
   "source": [
    "import matplotlib.pyplot as plt\n",
    "plt.style.use(\"dark_background\")"
   ]
  },
  {
   "cell_type": "code",
   "execution_count": 41,
   "id": "151c6b4e-d4c0-4272-acae-8fa37d3a8e4f",
   "metadata": {
    "tags": []
   },
   "outputs": [
    {
     "data": {
      "image/png": "[encoded data removed]",
      "text/plain": [
       "<Figure size 640x480 with 1 Axes>"
      ]
     },
     "metadata": {},
     "output_type": "display_data"
    }
   ],
   "source": [
    "plt.xlabel(\"Predicted value\")\n",
    "plt.ylabel(\"Target\")\n",
    "plt.title(\"Predicted value vs. target,\\n neural network regression\")\n",
    "plt.xlim([0, 51])\n",
    "plt.ylim([0, 51])\n",
    "plt.scatter(preds, y_test)\n",
    "plt.plot([0, 51], [0, 51]);\n",
    "# plt.savefig(GRAPHS_IMG_FILEPATH + \"07_neural_network_regression_preds_vs_target.png\");"
   ]
  },
  {
   "cell_type": "code",
   "execution_count": null,
   "id": "83506533-a611-4286-af3b-30daf046413a",
   "metadata": {},
   "outputs": [],
   "source": []
  },
  {
   "cell_type": "code",
   "execution_count": 42,
   "id": "25dafa19-987b-4693-8077-5def6857f7c8",
   "metadata": {
    "tags": []
   },
   "outputs": [
    {
     "data": {
      "text/plain": [
       "4.1098"
      ]
     },
     "execution_count": 42,
     "metadata": {},
     "output_type": "execute_result"
    }
   ],
   "source": [
    "np.round(np.mean(np.array(np.abs(preds - y_test))), 4)"
   ]
  },
  {
   "cell_type": "code",
   "execution_count": 43,
   "id": "82439c6b-4ca8-4a37-afe6-61336a0b81a4",
   "metadata": {
    "tags": []
   },
   "outputs": [
    {
     "data": {
      "text/plain": [
       "33.3404"
      ]
     },
     "execution_count": 43,
     "metadata": {},
     "output_type": "execute_result"
    }
   ],
   "source": [
    "np.round(np.mean(np.array(np.power(preds - y_test, 2))), 4)"
   ]
  },
  {
   "cell_type": "markdown",
   "id": "fedd8765-e1c4-4de3-b0ad-0a0384bb09d8",
   "metadata": {},
   "source": [
    "## Theoretical relationship between most important feature and target"
   ]
  },
  {
   "cell_type": "code",
   "execution_count": 44,
   "id": "434c3a7f-eec2-4407-bdf3-223014911f26",
   "metadata": {
    "tags": []
   },
   "outputs": [],
   "source": [
    "NUM = 40\n",
    "a = np.repeat(X_test[:,:-1].mean(axis=0, keepdims=True), NUM, axis=0)\n",
    "b = np.linspace(-1.5, 3.5, NUM).reshape(NUM, 1)\n",
    "test_feature = np.concatenate([a, b], axis=1)\n",
    "preds_test = predict(test_feature, params)[:, 0]"
   ]
  },
  {
   "cell_type": "code",
   "execution_count": null,
   "id": "115d2399-4b67-4888-83a7-bcc8f611bd2e",
   "metadata": {},
   "outputs": [],
   "source": []
  },
  {
   "cell_type": "code",
   "execution_count": 45,
   "id": "f86877ef-5181-420b-b4c2-59fff3475a19",
   "metadata": {
    "tags": []
   },
   "outputs": [],
   "source": [
    "# modifyed_v = params.copy()\n",
    "# b1_values = np.arange(-20, 20, 1)\n",
    "# b2_values = np.arange(-20,20, 1)\n",
    "\n",
    "# errors = []\n",
    "\n",
    "\n",
    "# for i in range(len(W1_values)):\n",
    "    \n",
    "#     new_params = modifyed_v\n",
    "#     new_params[\"b1\"] = b1_values[i]\n",
    "#     new_params[\"b2\"] = b2_values[i]\n",
    "    \n",
    "#     preds = (forward(X_train,\n",
    "#             new_params))\n",
    "    \n",
    "#     current_loss = (1/2*((y_train-preds)**2))\n",
    "    \n",
    "#     errors.append(current_loss.mean())\n",
    "\n",
    "\n",
    "\n"
   ]
  },
  {
   "cell_type": "code",
   "execution_count": 46,
   "id": "911d3f62-a10f-4fb2-9ed4-222808fb5ad9",
   "metadata": {
    "tags": []
   },
   "outputs": [
    {
     "data": {
      "image/png": "[encoded data removed]",
      "text/plain": [
       "<Figure size 640x480 with 1 Axes>"
      ]
     },
     "metadata": {},
     "output_type": "display_data"
    }
   ],
   "source": [
    "plt.scatter(X_test[:, 12], preds)\n",
    "plt.plot(np.array(test_feature[:, -1]), preds_test, linewidth=2, c='orange')\n",
    "plt.ylim([6, 51])\n",
    "plt.xlabel(\"Most important feature (normalized)\")\n",
    "plt.ylabel(\"Target/Predictions\")\n",
    "plt.title(\"Most important feature vs. target and predictions,\\n neural network regression\");\n",
    "# plt.savefig(GRAPHS_IMG_FILEPATH + \"08_neural_network_regression_impt_feat_vs_preds.png\")"
   ]
  },
  {
   "cell_type": "code",
   "execution_count": null,
   "id": "2ca90b1f-2ffa-4c90-ad20-7276c1c797c7",
   "metadata": {},
   "outputs": [],
   "source": []
  },
  {
   "cell_type": "code",
   "execution_count": null,
   "id": "790cfef4-610e-4598-8a15-b5cb8f848fa4",
   "metadata": {},
   "outputs": [],
   "source": []
  },
  {
   "cell_type": "code",
   "execution_count": null,
   "id": "bf8a4965-4f09-406f-aa86-8dedd4457666",
   "metadata": {},
   "outputs": [],
   "source": []
  },
  {
   "cell_type": "code",
   "execution_count": null,
   "id": "014ee41f-5ca8-4869-8ec5-f5041f3d2e38",
   "metadata": {},
   "outputs": [],
   "source": []
  },
  {
   "cell_type": "code",
   "execution_count": null,
   "id": "d4e435a5-4440-4bb5-8524-17532dd583ed",
   "metadata": {},
   "outputs": [],
   "source": []
  },
  {
   "cell_type": "code",
   "execution_count": null,
   "id": "780a05c5-56d9-4b1f-9dcf-4584851be588",
   "metadata": {},
   "outputs": [],
   "source": []
  },
  {
   "cell_type": "code",
   "execution_count": null,
   "id": "2abef093-25de-446d-832b-a177990b2ab3",
   "metadata": {},
   "outputs": [],
   "source": []
  },
  {
   "cell_type": "code",
   "execution_count": null,
   "id": "ab368644-0598-4b38-98eb-a71584878d53",
   "metadata": {},
   "outputs": [],
   "source": []
  },
  {
   "cell_type": "code",
   "execution_count": null,
   "id": "38f2b8ac-9a17-43a8-9d91-968a094984bb",
   "metadata": {},
   "outputs": [],
   "source": []
  },
  {
   "cell_type": "code",
   "execution_count": null,
   "id": "247fe9d7-31cb-4170-a509-b19001005cb6",
   "metadata": {},
   "outputs": [],
   "source": []
  },
  {
   "cell_type": "code",
   "execution_count": null,
   "id": "3d1ff8da-e53e-4f68-b017-df3056ca5eeb",
   "metadata": {},
   "outputs": [],
   "source": []
  }
 ],
 "metadata": {
  "kernelspec": {
   "display_name": "Python 3 (ipykernel)",
   "language": "python",
   "name": "python3"
  },
  "language_info": {
   "codemirror_mode": {
    "name": "ipython",
    "version": 3
   },
   "file_extension": ".py",
   "mimetype": "text/x-python",
   "name": "python",
   "nbconvert_exporter": "python",
   "pygments_lexer": "ipython3",
   "version": "3.11.5"
  }
 },
 "nbformat": 4,
 "nbformat_minor": 5
}

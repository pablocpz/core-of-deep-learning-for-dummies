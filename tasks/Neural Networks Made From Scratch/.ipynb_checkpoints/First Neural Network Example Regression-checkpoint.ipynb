{
 "cells": [
  {
   "cell_type": "markdown",
   "id": "1426d0dd-d16f-480b-a436-5d66db64f792",
   "metadata": {},
   "source": [
    "## First Neural Network Example Regression"
   ]
  },
  {
   "cell_type": "code",
   "execution_count": 1,
   "id": "ea2a5e1b-aa54-458f-8ac4-75a286654312",
   "metadata": {
    "tags": []
   },
   "outputs": [],
   "source": [
    "import numpy as np"
   ]
  },
  {
   "cell_type": "code",
   "execution_count": 28,
   "id": "7afa75f1-da07-4d19-a19f-efdf8e05ea47",
   "metadata": {
    "tags": []
   },
   "outputs": [],
   "source": [
    "def sigmoid(X):\n",
    "    return 1/(1+(np.e**-X))"
   ]
  },
  {
   "cell_type": "code",
   "execution_count": 3,
   "id": "e6f78bb7-8b88-4031-8ee2-f228fc61fca4",
   "metadata": {
    "tags": []
   },
   "outputs": [],
   "source": [
    "def forward(X, W, b, activation=True):\n",
    "    \n",
    "    if activation:\n",
    "        return sigmoid(np.dot(X,W) + b)\n",
    "    \n",
    "    else:\n",
    "        return np.dot(X,W) + b\n",
    "    "
   ]
  },
  {
   "cell_type": "code",
   "execution_count": 3,
   "id": "a79024db-56a2-4117-b469-e38e2de2309e",
   "metadata": {},
   "outputs": [
    {
     "ename": "SyntaxError",
     "evalue": "invalid decimal literal (89132990.py, line 1)",
     "output_type": "error",
     "traceback": [
      "\u001b[1;36m  Cell \u001b[1;32mIn[3], line 1\u001b[1;36m\u001b[0m\n\u001b[1;33m    50x3\u001b[0m\n\u001b[1;37m     ^\u001b[0m\n\u001b[1;31mSyntaxError\u001b[0m\u001b[1;31m:\u001b[0m invalid decimal literal\n"
     ]
    }
   ],
   "source": [
    "50x3\n",
    "\n",
    "3x1\n",
    "\n",
    "==\n",
    "\n",
    "50x1"
   ]
  },
  {
   "cell_type": "code",
   "execution_count": 4,
   "id": "8f8ebf9a-6f75-470f-a55a-6e04fd8b1418",
   "metadata": {
    "tags": []
   },
   "outputs": [],
   "source": [
    "def loss_val(Y,P):\n",
    "    \n",
    "    return 1/2*(Y-P)**2"
   ]
  },
  {
   "cell_type": "code",
   "execution_count": 5,
   "id": "4f4e61e2-7578-4e80-a3ec-e526a6d9b18a",
   "metadata": {
    "tags": []
   },
   "outputs": [],
   "source": [
    "def deriv(func, a, delta_x=0.001):\n",
    "    \n",
    "    return (func(a+delta_x) - func(a-delta_x)) / (delta_x*2)"
   ]
  },
  {
   "cell_type": "code",
   "execution_count": null,
   "id": "b142f9b3-9ae1-492a-99a2-c55354db3a4f",
   "metadata": {},
   "outputs": [],
   "source": []
  },
  {
   "cell_type": "code",
   "execution_count": 6,
   "id": "7148bb72-33ad-4c21-ab43-786aaca345fc",
   "metadata": {
    "tags": []
   },
   "outputs": [],
   "source": [
    "X = np.random.rand(3, 3) #3 samples x 3 features\n",
    "Y = np.random.rand(3,1) #label for each 3 samples (3x1)"
   ]
  },
  {
   "cell_type": "code",
   "execution_count": 7,
   "id": "13670810-7c81-4439-8379-bf2a3d112524",
   "metadata": {
    "tags": []
   },
   "outputs": [],
   "source": [
    "W1 = np.random.rand(X.shape[1],1) #weight for each feature (3x1)\n",
    "b1 = np.random.rand(1,1) #one value to add to X*W (1x1)\n",
    "\n",
    "W2 = np.random.rand(1,1) #one weight for the (1x1) output of O1\n",
    "b2 = np.random.rand(1,1) #another unique value to add to O1*W2"
   ]
  },
  {
   "cell_type": "code",
   "execution_count": 8,
   "id": "cc36f162-cff6-421c-ab60-ed0c7a16a6c0",
   "metadata": {
    "tags": []
   },
   "outputs": [],
   "source": [
    "M1 = np.dot(X,W1) #(3x3) * (3x1) = (3x1)\n",
    "N1 = M1 + b1 #(3x1) + (3x1) = (3x1)"
   ]
  },
  {
   "cell_type": "code",
   "execution_count": 9,
   "id": "6679c249-4d1a-4d57-ac02-b1cd3cb57a8c",
   "metadata": {
    "tags": []
   },
   "outputs": [
    {
     "data": {
      "text/plain": [
       "array([[0.88879619],\n",
       "       [1.17137776],\n",
       "       [1.85612998]])"
      ]
     },
     "execution_count": 9,
     "metadata": {},
     "output_type": "execute_result"
    }
   ],
   "source": [
    "N1"
   ]
  },
  {
   "cell_type": "code",
   "execution_count": 10,
   "id": "a7509120-ad84-4760-ab63-f562586266c1",
   "metadata": {
    "tags": []
   },
   "outputs": [],
   "source": [
    "O1 = sigmoid(N1) #apply non-linear function (3x1 shape remains equal)"
   ]
  },
  {
   "cell_type": "code",
   "execution_count": 11,
   "id": "5e67234f-c311-4ca3-a8b4-c05a19743596",
   "metadata": {
    "tags": []
   },
   "outputs": [
    {
     "data": {
      "text/plain": [
       "array([[0.70864169],\n",
       "       [0.76339396],\n",
       "       [0.86484523]])"
      ]
     },
     "execution_count": 11,
     "metadata": {},
     "output_type": "execute_result"
    }
   ],
   "source": [
    "O1"
   ]
  },
  {
   "cell_type": "code",
   "execution_count": 12,
   "id": "e9f358c5-efb9-4c20-a7ff-53e4903f4e34",
   "metadata": {
    "tags": []
   },
   "outputs": [],
   "source": [
    "M2 = np.dot(O1,W2) #(3,1) * (1,1) = (3x1) same shape"
   ]
  },
  {
   "cell_type": "code",
   "execution_count": 13,
   "id": "5572f559-7851-403a-bfb7-018714606d04",
   "metadata": {
    "tags": []
   },
   "outputs": [],
   "source": [
    "P = M2 + b2 #(3x1) + (1,1) = (3x1 shape remains equal)"
   ]
  },
  {
   "cell_type": "code",
   "execution_count": 14,
   "id": "004a285f-a559-43c9-a345-ac4ee72ddab8",
   "metadata": {
    "tags": []
   },
   "outputs": [
    {
     "data": {
      "text/plain": [
       "array([[1.17253219],\n",
       "       [1.19686541],\n",
       "       [1.24195277]])"
      ]
     },
     "execution_count": 14,
     "metadata": {},
     "output_type": "execute_result"
    }
   ],
   "source": [
    "P"
   ]
  },
  {
   "cell_type": "code",
   "execution_count": 15,
   "id": "8e962f60-5ff2-4e0a-a2a4-1645e9be31e7",
   "metadata": {
    "tags": []
   },
   "outputs": [],
   "source": [
    "L = 1/2*((Y-P)**2) #1/2(((3x1)-(3x1))**2) = (3x1) same shape"
   ]
  },
  {
   "cell_type": "code",
   "execution_count": 16,
   "id": "7ccddbc1-a1cd-4aa7-8742-c14bb1a4cd9f",
   "metadata": {
    "tags": []
   },
   "outputs": [],
   "source": [
    "dL_dP = -(Y-P)"
   ]
  },
  {
   "cell_type": "code",
   "execution_count": 17,
   "id": "7ebba076-db92-441b-b6e8-a6e5a01b6fd0",
   "metadata": {
    "tags": []
   },
   "outputs": [],
   "source": [
    "dP_dM2, dP_db2 = np.ones_like(M2), np.ones_like(b2)"
   ]
  },
  {
   "cell_type": "code",
   "execution_count": 18,
   "id": "b58a4edb-dc7a-4066-92c5-9160898ff6b7",
   "metadata": {
    "tags": []
   },
   "outputs": [],
   "source": [
    "dL_dM2, dL_db2 = (dL_dP*dP_dM2), (dL_dP*dP_db2).sum(axis=0)"
   ]
  },
  {
   "cell_type": "code",
   "execution_count": 19,
   "id": "643056f8-0b34-4067-9413-ece2880573aa",
   "metadata": {
    "tags": []
   },
   "outputs": [],
   "source": [
    "dM2_dO1, dM2_dW2 = np.transpose(W2, (1,0)), np.transpose(O1, (1,0))"
   ]
  },
  {
   "cell_type": "code",
   "execution_count": 20,
   "id": "9959d176-0028-4fe6-a99e-720c9c5ddcec",
   "metadata": {
    "tags": []
   },
   "outputs": [],
   "source": [
    "dL_dW2 = np.dot(dM2_dW2, dL_dP)"
   ]
  },
  {
   "cell_type": "code",
   "execution_count": 21,
   "id": "1d15e876-b6b0-4ff5-b809-27aab26beffb",
   "metadata": {
    "tags": []
   },
   "outputs": [],
   "source": [
    "dL_dO1 = np.dot(dL_dM2, dM2_dO1)"
   ]
  },
  {
   "cell_type": "code",
   "execution_count": 22,
   "id": "54467e3d-ee0c-4c37-a56d-9e768b1baa86",
   "metadata": {
    "tags": []
   },
   "outputs": [],
   "source": [
    "dO1_dN1 = (np.e**-N1)/(1+np.e**-N1)**2"
   ]
  },
  {
   "cell_type": "code",
   "execution_count": 23,
   "id": "ab339165-36eb-47e7-8eac-2e81920b0f96",
   "metadata": {
    "tags": []
   },
   "outputs": [],
   "source": [
    "dL_dN1 = (dL_dO1*dO1_dN1)"
   ]
  },
  {
   "cell_type": "code",
   "execution_count": 24,
   "id": "e373807c-f6e1-4882-9342-35a51a7a37eb",
   "metadata": {
    "tags": []
   },
   "outputs": [],
   "source": [
    "dN1_dM1, dN1_db1 = np.ones_like(M1), np.ones_like(b1)"
   ]
  },
  {
   "cell_type": "code",
   "execution_count": 25,
   "id": "fd1c4a3b-7c73-4ec8-a3a4-803a9183d753",
   "metadata": {
    "tags": []
   },
   "outputs": [],
   "source": [
    "dL_db1 = (dL_dN1*dN1_db1).sum(axis=0)"
   ]
  },
  {
   "cell_type": "code",
   "execution_count": 26,
   "id": "015e1ef6-aa30-4d17-ad36-c9ba9c973eb2",
   "metadata": {
    "tags": []
   },
   "outputs": [],
   "source": [
    "dL_dM1 = dL_dN1 * dN1_dM1"
   ]
  },
  {
   "cell_type": "code",
   "execution_count": 27,
   "id": "2a805597-0cae-4a0d-9904-9a1090fde601",
   "metadata": {
    "tags": []
   },
   "outputs": [],
   "source": [
    "dM1_dW1 = np.transpose(X, (1,0))"
   ]
  },
  {
   "cell_type": "code",
   "execution_count": 28,
   "id": "c8b71805-b3a8-4203-afff-80645578b83b",
   "metadata": {
    "tags": []
   },
   "outputs": [],
   "source": [
    "dL_dW1 = np.dot(dM1_dW1, dL_dM1)"
   ]
  },
  {
   "cell_type": "code",
   "execution_count": null,
   "id": "331bb10e-54bb-45e3-b7c8-4641905f7f79",
   "metadata": {},
   "outputs": [],
   "source": []
  },
  {
   "cell_type": "code",
   "execution_count": null,
   "id": "9917d6c0-3692-4a83-8792-06715e3fe2c0",
   "metadata": {},
   "outputs": [],
   "source": []
  },
  {
   "cell_type": "code",
   "execution_count": null,
   "id": "70288e00-a19c-4f75-9a6f-ebcf7994cedf",
   "metadata": {},
   "outputs": [],
   "source": []
  },
  {
   "cell_type": "code",
   "execution_count": null,
   "id": "2fe2e947-ca0f-4ed6-b9d8-c7370f5f8161",
   "metadata": {
    "tags": []
   },
   "outputs": [],
   "source": [
    "\n",
    "\n",
    "W1 = np.random.rand(X.shape[0],1)\n",
    "b1 = np.random.rand(1,1)\n",
    "W2 = np.random.rand(1,1) \n",
    "b2 = np.random.rand(1,1)\n",
    "\n",
    "M1 = np.dot(X,W1) \n",
    "N1 = M1 + b1 \n",
    "O1 = sigmoid(N1)\n",
    "M2 = np.dot(O1,W2) \n",
    "P = M2 + b2\n"
   ]
  },
  {
   "cell_type": "code",
   "execution_count": null,
   "id": "c41533c5-0a8f-4377-98a8-faa6b6b460d9",
   "metadata": {},
   "outputs": [],
   "source": []
  },
  {
   "cell_type": "code",
   "execution_count": 119,
   "id": "bb88cad6-65af-40c8-8b83-495202dc2c8b",
   "metadata": {
    "tags": []
   },
   "outputs": [],
   "source": [
    "def backward(X_batch, Y_batch, W1, b1, W2, b2):\n",
    "\n",
    "    #run forward pass\n",
    "    M1 = np.dot(X_batch,W1) \n",
    "    N1 = M1 + b1 \n",
    "    O1 = sigmoid(N1)\n",
    "    M2 = np.dot(O1,W2) \n",
    "    P = M2 + b2\n",
    "    L = 1/2*((Y_batch-P)**2)\n",
    "    \n",
    "    #compute partial derivatives\n",
    "    dL_dP = -1*(Y_batch-P)\n",
    "\n",
    "    dP_dM2, dP_dB2 = np.ones_like(M2), np.ones_like(b2)\n",
    "\n",
    "    dL_dM2, dL_db2 = (dL_dP*dP_dM2), (dL_dP*dP_dB2).sum(axis=0)\n",
    "\n",
    "    dM2_dO1, dM2_dW2 = np.transpose(W2, (1,0)), np.transpose(O1, (1,0))\n",
    "\n",
    "    dL_dW2 = np.dot(dM2_dW2, dL_dP)\n",
    "\n",
    "    dL_dO1 = np.dot(dL_dM2, dM2_dO1)\n",
    "\n",
    "    dO1_dN1 = (np.e**-N1)/(1+np.e**-N1)**2\n",
    "\n",
    "    dL_dN1 = (dL_dO1*dO1_dN1)\n",
    "\n",
    "    dN1_dM1, dN1_db1 = np.ones_like(M1), np.ones_like(b1)\n",
    "\n",
    "    dL_db1 = (dL_dN1*dN1_db1).sum(axis=0)\n",
    "\n",
    "    dL_dM1 = dL_dN1 * dN1_dM1\n",
    "\n",
    "    dM1_dW1 = np.transpose(X_batch, (1,0))\n",
    "\n",
    "    dL_dW1 = np.dot(dM1_dW1, dL_dM1)\n",
    "    \n",
    "    return dL_dW2, dL_db2, dL_dW1, dL_db1\n",
    "    \n",
    "    \n",
    "    "
   ]
  },
  {
   "cell_type": "code",
   "execution_count": 88,
   "id": "eee60ec7-0dde-4261-96cd-7dfb3b094e8e",
   "metadata": {
    "tags": []
   },
   "outputs": [],
   "source": [
    "def permute_data(X, Y):\n",
    "    perm = np.random.permutation(X.shape[0])\n",
    "    return X[perm], Y[perm]"
   ]
  },
  {
   "cell_type": "code",
   "execution_count": 89,
   "id": "57f40676-6f3a-4212-9a8e-0a659a448be5",
   "metadata": {
    "tags": []
   },
   "outputs": [],
   "source": [
    "def generate_batch(X,Y, start, batch_size):\n",
    "    \n",
    "    return X[start:start+batch_size], Y[start:start+batch_size]\n"
   ]
  },
  {
   "cell_type": "code",
   "execution_count": 201,
   "id": "8d797ba2-9454-432e-812c-3a54e13b2636",
   "metadata": {
    "tags": []
   },
   "outputs": [],
   "source": [
    "def generate_batch(X, \n",
    "                   y,\n",
    "                   start: int = 0,\n",
    "                   batch_size: int = 10):\n",
    "    '''\n",
    "    Generate batch from X and y, given a start position\n",
    "    '''\n",
    "    assert X.ndim == y.ndim == 2, \\\n",
    "    \"X and Y must be 2 dimensional\"\n",
    "\n",
    "    if start+batch_size > X.shape[0]:\n",
    "        batch_size = X.shape[0] - start\n",
    "    \n",
    "    X_batch, y_batch = X[start:start+batch_size], y[start:start+batch_size]\n",
    "    \n",
    "    return X_batch, y_batch"
   ]
  },
  {
   "cell_type": "code",
   "execution_count": 265,
   "id": "8a66b135-cd7e-4163-9903-21aaa0fd8872",
   "metadata": {
    "tags": []
   },
   "outputs": [],
   "source": [
    "def train_nn(X, Y, n_epochs, batch_size=20):\n",
    "    \n",
    "    #initialize parameters\n",
    "    W1 = np.random.rand(X.shape[1],1)\n",
    "    b1 = np.random.rand(1,1)\n",
    "    W2 = np.random.rand(1,1) \n",
    "    b2 = np.random.rand(1,1)\n",
    "\n",
    "    X, Y = permute_data(X, Y)\n",
    "    X_batch, Y_batch = X, Y\n",
    "\n",
    "    start = 0\n",
    "    \n",
    "    losses = []\n",
    "    \n",
    "    for epoch in range(n_epochs):\n",
    "        if start >= X.shape[0]:\n",
    "            X, y = permute_data(X, Y)\n",
    "            start = 0\n",
    "        \n",
    "        # generate batch of data\n",
    "        X_batch, Y_batch = generate_batch(X,Y, start=start,\n",
    "                                          batch_size=batch_size)\n",
    "        start += batch_size\n",
    "    \n",
    "        \n",
    "        #forward pass\n",
    "        M1 = np.dot(X_batch,W1) \n",
    "        N1 = M1 + b1 \n",
    "        O1 = sigmoid(N1)\n",
    "        M2 = np.dot(O1,W2) \n",
    "        P_batch = M2 + b2\n",
    "        L = 1/2*((Y_batch-P_batch)**2)\n",
    "        \n",
    "        #backward pass\n",
    "        W2_g, b2_g, W1_g, b1_g = backward(X_batch, Y_batch,\n",
    "                                         W1=W1, b1=b1,\n",
    "                                         W2=W2, b2=b2)\n",
    "        #update parameters\n",
    "#         print(\"--\")\n",
    "#         print(f\"W1 {W1.shape}, W1_g {W1_g.shape}\")\n",
    "#         print(f\"b1 {b1.shape}, b1_g {b1_g.shape}\")\n",
    "        \n",
    "#         print(f\"W2 {W2.shape}, W2_g {W2_g.shape}\")\n",
    "#         print(f\"b2 {b2.shape}, b2_g {b2_g.shape}\")\n",
    "#         print(\"--\")\n",
    "        \n",
    "        W2 -= W2_g*0.001\n",
    "        b2 -= b2_g*0.001\n",
    "        \n",
    "        for weight in range(X.shape[1]):\n",
    "            W1[weight] -= W1_g[weight]*0.001\n",
    "        \n",
    "        b1 -= b1_g*0.001\n",
    "        \n",
    "        \n",
    "        #print loss\n",
    "        # print(f\"Epoch {epoch}, loss={np.mean(L, axis=0)}\")\n",
    "        \n",
    "        if epoch % 100 == 0:\n",
    "            losses.append(np.mean(L, axis=0))\n",
    "\n",
    "        \n",
    "        \n",
    "    return losses, W1, b1, W2, b2\n",
    "        "
   ]
  },
  {
   "cell_type": "code",
   "execution_count": 266,
   "id": "66778d49-786c-4c50-ab69-05694d35be01",
   "metadata": {
    "tags": []
   },
   "outputs": [],
   "source": [
    "import pandas as pd"
   ]
  },
  {
   "cell_type": "code",
   "execution_count": 267,
   "id": "25c89432-f140-4c9a-b885-52a7c469adb3",
   "metadata": {
    "tags": []
   },
   "outputs": [],
   "source": [
    "df = pd.read_csv(\"boston.csv\", index_col=[0])"
   ]
  },
  {
   "cell_type": "code",
   "execution_count": 268,
   "id": "cbfb89aa-a0ab-4d66-b4ae-93d2b4b1067c",
   "metadata": {
    "tags": []
   },
   "outputs": [],
   "source": [
    "X = df.drop(columns=\"Price\").values\n",
    "Y = df[[\"Price\"]].values"
   ]
  },
  {
   "cell_type": "code",
   "execution_count": 269,
   "id": "1495269b-9ca3-442b-b757-0f87e15c8acc",
   "metadata": {
    "tags": []
   },
   "outputs": [],
   "source": [
    "# import seaborn as sns\n",
    "# data = sns.load_dataset(\"car_crashes\")"
   ]
  },
  {
   "cell_type": "code",
   "execution_count": 270,
   "id": "423ef13c-1b86-46a1-8111-758e12eebac2",
   "metadata": {
    "tags": []
   },
   "outputs": [],
   "source": [
    "# X = data[[\"alcohol\"]].values\n",
    "# Y = data[[\"total\"]].values"
   ]
  },
  {
   "cell_type": "code",
   "execution_count": 286,
   "id": "9c24f7a2-35c9-48c3-b380-893d47204cc6",
   "metadata": {
    "tags": []
   },
   "outputs": [],
   "source": [
    "losses, W1, b1, W2, b2 = train_nn(X, Y, n_epochs=10000, batch_size=23)"
   ]
  },
  {
   "cell_type": "code",
   "execution_count": 287,
   "id": "67d50323-8e2b-4f34-a33d-38fd3a7d83e2",
   "metadata": {
    "tags": []
   },
   "outputs": [],
   "source": [
    "import matplotlib.pyplot as plt\n",
    "plt.style.use(\"dark_background\")"
   ]
  },
  {
   "cell_type": "code",
   "execution_count": 288,
   "id": "a01711be-1aae-44f1-b5d9-db3f569b3f76",
   "metadata": {
    "tags": []
   },
   "outputs": [
    {
     "data": {
      "image/png": "[encoded data removed]",
      "text/plain": [
       "<Figure size 640x480 with 1 Axes>"
      ]
     },
     "metadata": {},
     "output_type": "display_data"
    }
   ],
   "source": [
    "plt.plot(losses);"
   ]
  },
  {
   "cell_type": "code",
   "execution_count": 289,
   "id": "00e0c0b3-153f-478c-b860-66414e6e46d9",
   "metadata": {
    "tags": []
   },
   "outputs": [],
   "source": [
    "M1 = np.dot(X,W1) \n",
    "N1 = M1 + b1 \n",
    "O1 = sigmoid(N1)\n",
    "M2 = np.dot(O1,W2) \n",
    "P_batch = M2 + b2"
   ]
  },
  {
   "cell_type": "code",
   "execution_count": 290,
   "id": "df8adab7-e44e-4412-9fbd-56d90958a1eb",
   "metadata": {
    "tags": []
   },
   "outputs": [
    {
     "data": {
      "image/png": "[encoded data removed]",
      "text/plain": [
       "<Figure size 640x480 with 1 Axes>"
      ]
     },
     "metadata": {},
     "output_type": "display_data"
    }
   ],
   "source": [
    "plt.scatter(X[:,12], Y);\n",
    "plt.plot(X[:,12], P_batch, color=\"lime\");"
   ]
  },
  {
   "cell_type": "code",
   "execution_count": 292,
   "id": "44da0828-5200-484a-bc3d-65087701d98b",
   "metadata": {},
   "outputs": [],
   "source": [
    "def mae(preds, actuals):\n",
    "    '''\n",
    "    Compute mean absolute error.\n",
    "    '''\n",
    "    return np.mean(np.abs(preds - actuals))\n",
    "\n",
    "def rmse(preds, actuals):\n",
    "    '''\n",
    "    Compute root mean squared error.\n",
    "    '''\n",
    "    return np.sqrt(np.mean(np.power(preds - actuals, 2)))"
   ]
  },
  {
   "cell_type": "code",
   "execution_count": 294,
   "id": "c7cd8303-c783-473d-941e-417724fea45c",
   "metadata": {
    "tags": []
   },
   "outputs": [
    {
     "data": {
      "text/plain": [
       "6.672618482588804"
      ]
     },
     "execution_count": 294,
     "metadata": {},
     "output_type": "execute_result"
    }
   ],
   "source": [
    "mae(P_batch, Y)"
   ]
  },
  {
   "cell_type": "code",
   "execution_count": 295,
   "id": "c02703b3-ea9e-4e30-881d-50b72750905c",
   "metadata": {
    "tags": []
   },
   "outputs": [
    {
     "data": {
      "text/plain": [
       "9.189048746604941"
      ]
     },
     "execution_count": 295,
     "metadata": {},
     "output_type": "execute_result"
    }
   ],
   "source": [
    "rmse(P_batch, Y)"
   ]
  },
  {
   "cell_type": "code",
   "execution_count": null,
   "id": "414271c9-4efc-476f-b4d9-4478a9aed218",
   "metadata": {},
   "outputs": [],
   "source": []
  },
  {
   "cell_type": "code",
   "execution_count": null,
   "id": "27ff71f7-87dc-4f92-bbae-ca7ef47137f6",
   "metadata": {},
   "outputs": [],
   "source": []
  },
  {
   "cell_type": "code",
   "execution_count": 282,
   "id": "336c5f32-2091-4eb8-9842-48aba2833d1a",
   "metadata": {
    "tags": []
   },
   "outputs": [
    {
     "data": {
      "text/plain": [
       "-76.04745927059491"
      ]
     },
     "execution_count": 282,
     "metadata": {},
     "output_type": "execute_result"
    }
   ],
   "source": [
    "(Y-P_batch).sum()"
   ]
  },
  {
   "cell_type": "code",
   "execution_count": null,
   "id": "0def39b2-2af8-491b-b897-bdd1ad348591",
   "metadata": {},
   "outputs": [],
   "source": []
  },
  {
   "cell_type": "code",
   "execution_count": null,
   "id": "8af80689-969f-412d-94cd-3abf47818fb2",
   "metadata": {},
   "outputs": [],
   "source": []
  },
  {
   "cell_type": "code",
   "execution_count": null,
   "id": "cc850272-61c6-4350-9202-2e9c0fb04f0f",
   "metadata": {},
   "outputs": [],
   "source": []
  },
  {
   "cell_type": "code",
   "execution_count": null,
   "id": "1787c6a9-cdf3-434f-a27c-83d688b6373d",
   "metadata": {},
   "outputs": [],
   "source": []
  },
  {
   "cell_type": "code",
   "execution_count": 130,
   "id": "d4424958-366e-4bc5-b81d-63b714d95776",
   "metadata": {
    "tags": []
   },
   "outputs": [],
   "source": [
    "def predict(X, W1, b1, W2, b2):\n",
    "    \n",
    "    M1 = np.dot(X,W1) \n",
    "    N1 = M1 + b1 \n",
    "    O1 = sigmoid(N1)\n",
    "    M2 = np.dot(O1,W2) \n",
    "    P = M2 + b2\n",
    "    \n",
    "    return P"
   ]
  },
  {
   "cell_type": "code",
   "execution_count": 131,
   "id": "60c140e7-a3bc-4e29-ac81-c9350fe7d537",
   "metadata": {
    "tags": []
   },
   "outputs": [
    {
     "data": {
      "text/plain": [
       "array([[22.53280632],\n",
       "       [22.53280632],\n",
       "       [22.53280632],\n",
       "       [22.53280632],\n",
       "       [22.53280632],\n",
       "       [22.53280632],\n",
       "       [22.53280632],\n",
       "       [22.53280632],\n",
       "       [22.53280632],\n",
       "       [22.53280632],\n",
       "       [22.53280632],\n",
       "       [22.53280632],\n",
       "       [22.53280632],\n",
       "       [22.53280632],\n",
       "       [22.53280632],\n",
       "       [22.53280632],\n",
       "       [22.53280632],\n",
       "       [22.53280632],\n",
       "       [22.53280632],\n",
       "       [22.53280632],\n",
       "       [22.53280632],\n",
       "       [22.53280632],\n",
       "       [22.53280632],\n",
       "       [22.53280632],\n",
       "       [22.53280632],\n",
       "       [22.53280632],\n",
       "       [22.53280632],\n",
       "       [22.53280632],\n",
       "       [22.53280632],\n",
       "       [22.53280632],\n",
       "       [22.53280632],\n",
       "       [22.53280632],\n",
       "       [22.53280632],\n",
       "       [22.53280632],\n",
       "       [22.53280632],\n",
       "       [22.53280632],\n",
       "       [22.53280632],\n",
       "       [22.53280632],\n",
       "       [22.53280632],\n",
       "       [22.53280632],\n",
       "       [22.53280632],\n",
       "       [22.53280632],\n",
       "       [22.53280632],\n",
       "       [22.53280632],\n",
       "       [22.53280632],\n",
       "       [22.53280632],\n",
       "       [22.53280632],\n",
       "       [22.53280632],\n",
       "       [22.53280632],\n",
       "       [22.53280632],\n",
       "       [22.53280632],\n",
       "       [22.53280632],\n",
       "       [22.53280632],\n",
       "       [22.53280632],\n",
       "       [22.53280632],\n",
       "       [22.53280632],\n",
       "       [22.53280632],\n",
       "       [22.53280632],\n",
       "       [22.53280632],\n",
       "       [22.53280632],\n",
       "       [22.53280632],\n",
       "       [22.53280632],\n",
       "       [22.53280632],\n",
       "       [22.53280632],\n",
       "       [22.53280632],\n",
       "       [22.53280632],\n",
       "       [22.53280632],\n",
       "       [22.53280632],\n",
       "       [22.53280632],\n",
       "       [22.53280632],\n",
       "       [22.53280632],\n",
       "       [22.53280632],\n",
       "       [22.53280632],\n",
       "       [22.53280632],\n",
       "       [22.53280632],\n",
       "       [22.53280632],\n",
       "       [22.53280632],\n",
       "       [22.53280632],\n",
       "       [22.53280632],\n",
       "       [22.53280632],\n",
       "       [22.53280632],\n",
       "       [22.53280632],\n",
       "       [22.53280632],\n",
       "       [22.53280632],\n",
       "       [22.53280632],\n",
       "       [22.53280632],\n",
       "       [22.53280632],\n",
       "       [22.53280632],\n",
       "       [22.53280632],\n",
       "       [22.53280632],\n",
       "       [22.53280632],\n",
       "       [22.53280632],\n",
       "       [22.53280632],\n",
       "       [22.53280632],\n",
       "       [22.53280632],\n",
       "       [22.53280632],\n",
       "       [22.53280632],\n",
       "       [22.53280632],\n",
       "       [22.53280632],\n",
       "       [22.53280632],\n",
       "       [22.53280632],\n",
       "       [22.53280632],\n",
       "       [22.53280632],\n",
       "       [22.53280632],\n",
       "       [22.53280632],\n",
       "       [22.53280632],\n",
       "       [22.53280632],\n",
       "       [22.53280632],\n",
       "       [22.53280632],\n",
       "       [22.53280632],\n",
       "       [22.53280632],\n",
       "       [22.53280632],\n",
       "       [22.53280632],\n",
       "       [22.53280632],\n",
       "       [22.53280632],\n",
       "       [22.53280632],\n",
       "       [22.53280632],\n",
       "       [22.53280632],\n",
       "       [22.53280632],\n",
       "       [22.53280632],\n",
       "       [22.53280632],\n",
       "       [22.53280632],\n",
       "       [22.53280632],\n",
       "       [22.53280632],\n",
       "       [22.53280632],\n",
       "       [22.53280632],\n",
       "       [22.53280632],\n",
       "       [22.53280632],\n",
       "       [22.53280632],\n",
       "       [22.53280632],\n",
       "       [22.53280632],\n",
       "       [22.53280632],\n",
       "       [22.53280632],\n",
       "       [22.53280632],\n",
       "       [22.53280632],\n",
       "       [22.53280632],\n",
       "       [22.53280632],\n",
       "       [22.53280632],\n",
       "       [22.53280632],\n",
       "       [22.53280632],\n",
       "       [22.53280632],\n",
       "       [22.53280632],\n",
       "       [22.53280632],\n",
       "       [22.53280632],\n",
       "       [22.53280632],\n",
       "       [22.53280632],\n",
       "       [22.53280632],\n",
       "       [22.53280632],\n",
       "       [22.53280632],\n",
       "       [22.53280632],\n",
       "       [22.53280632],\n",
       "       [22.53280632],\n",
       "       [22.53280632],\n",
       "       [22.53280632],\n",
       "       [22.53280632],\n",
       "       [22.53280632],\n",
       "       [22.53280632],\n",
       "       [22.53280632],\n",
       "       [22.53280632],\n",
       "       [22.53280632],\n",
       "       [22.53280632],\n",
       "       [22.53280632],\n",
       "       [22.53280632],\n",
       "       [22.53280632],\n",
       "       [22.53280632],\n",
       "       [22.53280632],\n",
       "       [22.53280632],\n",
       "       [22.53280632],\n",
       "       [22.53280632],\n",
       "       [22.53280632],\n",
       "       [22.53280632],\n",
       "       [22.53280632],\n",
       "       [22.53280632],\n",
       "       [22.53280632],\n",
       "       [22.53280632],\n",
       "       [22.53280632],\n",
       "       [22.53280632],\n",
       "       [22.53280632],\n",
       "       [22.53280632],\n",
       "       [22.53280632],\n",
       "       [22.53280632],\n",
       "       [22.53280632],\n",
       "       [22.53280632],\n",
       "       [22.53280632],\n",
       "       [22.53280632],\n",
       "       [22.53280632],\n",
       "       [22.53280632],\n",
       "       [22.53280632],\n",
       "       [22.53280632],\n",
       "       [22.53280632],\n",
       "       [22.53280632],\n",
       "       [22.53280632],\n",
       "       [22.53280632],\n",
       "       [22.53280632],\n",
       "       [22.53280632],\n",
       "       [22.53280632],\n",
       "       [22.53280632],\n",
       "       [22.53280632],\n",
       "       [22.53280632],\n",
       "       [22.53280632],\n",
       "       [22.53280632],\n",
       "       [22.53280632],\n",
       "       [22.53280632],\n",
       "       [22.53280632],\n",
       "       [22.53280632],\n",
       "       [22.53280632],\n",
       "       [22.53280632],\n",
       "       [22.53280632],\n",
       "       [22.53280632],\n",
       "       [22.53280632],\n",
       "       [22.53280632],\n",
       "       [22.53280632],\n",
       "       [22.53280632],\n",
       "       [22.53280632],\n",
       "       [22.53280632],\n",
       "       [22.53280632],\n",
       "       [22.53280632],\n",
       "       [22.53280632],\n",
       "       [22.53280632],\n",
       "       [22.53280632],\n",
       "       [22.53280632],\n",
       "       [22.53280632],\n",
       "       [22.53280632],\n",
       "       [22.53280632],\n",
       "       [22.53280632],\n",
       "       [22.53280632],\n",
       "       [22.53280632],\n",
       "       [22.53280632],\n",
       "       [22.53280632],\n",
       "       [22.53280632],\n",
       "       [22.53280632],\n",
       "       [22.53280632],\n",
       "       [22.53280632],\n",
       "       [22.53280632],\n",
       "       [22.53280632],\n",
       "       [22.53280632],\n",
       "       [22.53280632],\n",
       "       [22.53280632],\n",
       "       [22.53280632],\n",
       "       [22.53280632],\n",
       "       [22.53280632],\n",
       "       [22.53280632],\n",
       "       [22.53280632],\n",
       "       [22.53280632],\n",
       "       [22.53280632],\n",
       "       [22.53280632],\n",
       "       [22.53280632],\n",
       "       [22.53280632],\n",
       "       [22.53280632],\n",
       "       [22.53280632],\n",
       "       [22.53280632],\n",
       "       [22.53280632],\n",
       "       [22.53280632],\n",
       "       [22.53280632],\n",
       "       [22.53280632],\n",
       "       [22.53280632],\n",
       "       [22.53280632],\n",
       "       [22.53280632],\n",
       "       [22.53280632],\n",
       "       [22.53280632],\n",
       "       [22.53280632],\n",
       "       [22.53280632],\n",
       "       [22.53280632],\n",
       "       [22.53280632],\n",
       "       [22.53280632],\n",
       "       [22.53280632],\n",
       "       [22.53280632],\n",
       "       [22.53280632],\n",
       "       [22.53280632],\n",
       "       [22.53280632],\n",
       "       [22.53280632],\n",
       "       [22.53280632],\n",
       "       [22.53280632],\n",
       "       [22.53280632],\n",
       "       [22.53280632],\n",
       "       [22.53280632],\n",
       "       [22.53280632],\n",
       "       [22.53280632],\n",
       "       [22.53280632],\n",
       "       [22.53280632],\n",
       "       [22.53280632],\n",
       "       [22.53280632],\n",
       "       [22.53280632],\n",
       "       [22.53280632],\n",
       "       [22.53280632],\n",
       "       [22.53280632],\n",
       "       [22.53280632],\n",
       "       [22.53280632],\n",
       "       [22.53280632],\n",
       "       [22.53280632],\n",
       "       [22.53280632],\n",
       "       [22.53280632],\n",
       "       [22.53280632],\n",
       "       [22.53280632],\n",
       "       [22.53280632],\n",
       "       [22.53280632],\n",
       "       [22.53280632],\n",
       "       [22.53280632],\n",
       "       [22.53280632],\n",
       "       [22.53280632],\n",
       "       [22.53280632],\n",
       "       [22.53280632],\n",
       "       [22.53280632],\n",
       "       [22.53280632],\n",
       "       [22.53280632],\n",
       "       [22.53280632],\n",
       "       [22.53280632],\n",
       "       [22.53280632],\n",
       "       [22.53280632],\n",
       "       [22.53280632],\n",
       "       [22.53280632],\n",
       "       [22.53280632],\n",
       "       [22.53280632],\n",
       "       [22.53280632],\n",
       "       [22.53280632],\n",
       "       [22.53280632],\n",
       "       [22.53280632],\n",
       "       [22.53280632],\n",
       "       [22.53280632],\n",
       "       [22.53280632],\n",
       "       [22.53280632],\n",
       "       [22.53280632],\n",
       "       [22.53280632],\n",
       "       [22.53280632],\n",
       "       [22.53280632],\n",
       "       [22.53280632],\n",
       "       [22.53280632],\n",
       "       [22.53280632],\n",
       "       [22.53280632],\n",
       "       [22.53280632],\n",
       "       [22.53280632],\n",
       "       [22.53280632],\n",
       "       [22.53280632],\n",
       "       [22.53280632],\n",
       "       [22.53280632],\n",
       "       [22.53280632],\n",
       "       [22.53280632],\n",
       "       [22.53280632],\n",
       "       [22.53280632],\n",
       "       [22.53280632],\n",
       "       [22.53280632],\n",
       "       [22.53280632],\n",
       "       [22.53280632],\n",
       "       [22.53280632],\n",
       "       [22.53280632],\n",
       "       [22.53280632],\n",
       "       [22.53280632],\n",
       "       [22.53280632],\n",
       "       [22.53280632],\n",
       "       [22.53280632],\n",
       "       [22.53280632],\n",
       "       [22.53280632],\n",
       "       [22.53280632],\n",
       "       [22.53280632],\n",
       "       [22.53280632],\n",
       "       [22.53280632],\n",
       "       [22.53280632],\n",
       "       [22.53280632],\n",
       "       [22.53280632],\n",
       "       [22.53280632],\n",
       "       [22.53280632],\n",
       "       [22.53280632],\n",
       "       [22.53280632],\n",
       "       [22.53280632],\n",
       "       [22.53280632],\n",
       "       [22.53280632],\n",
       "       [22.53280632],\n",
       "       [22.53280632],\n",
       "       [22.53280632],\n",
       "       [22.53280632],\n",
       "       [22.53280632],\n",
       "       [22.53280632],\n",
       "       [22.53280632],\n",
       "       [22.53280632],\n",
       "       [22.53280632],\n",
       "       [22.53280632],\n",
       "       [22.53280632],\n",
       "       [22.53280632],\n",
       "       [22.53280632],\n",
       "       [22.53280632],\n",
       "       [22.53280632],\n",
       "       [22.53280632],\n",
       "       [22.53280632],\n",
       "       [22.53280632],\n",
       "       [22.53280632],\n",
       "       [22.53280632],\n",
       "       [22.53280632],\n",
       "       [22.53280632],\n",
       "       [22.53280632],\n",
       "       [22.53280632],\n",
       "       [22.53280632],\n",
       "       [22.53280632],\n",
       "       [22.53280632],\n",
       "       [22.53280632],\n",
       "       [22.53280632],\n",
       "       [22.53280632],\n",
       "       [22.53280632],\n",
       "       [22.53280632],\n",
       "       [22.53280632],\n",
       "       [22.53280632],\n",
       "       [22.53280632],\n",
       "       [22.53280632],\n",
       "       [22.53280632],\n",
       "       [22.53280632],\n",
       "       [22.53280632],\n",
       "       [22.53280632],\n",
       "       [22.53280632],\n",
       "       [22.53280632],\n",
       "       [22.53280632],\n",
       "       [22.53280632],\n",
       "       [22.53280632],\n",
       "       [22.53280632],\n",
       "       [22.53280632],\n",
       "       [22.53280632],\n",
       "       [22.53280632],\n",
       "       [22.53280632],\n",
       "       [22.53280632],\n",
       "       [22.53280632],\n",
       "       [22.53280632],\n",
       "       [22.53280632],\n",
       "       [22.53280632],\n",
       "       [22.53280632],\n",
       "       [22.53280632],\n",
       "       [22.53280632],\n",
       "       [22.53280632],\n",
       "       [22.53280632],\n",
       "       [22.53280632],\n",
       "       [22.53280632],\n",
       "       [22.53280632],\n",
       "       [22.53280632],\n",
       "       [22.53280632],\n",
       "       [22.53280632],\n",
       "       [22.53280632],\n",
       "       [22.53280632],\n",
       "       [22.53280632],\n",
       "       [22.53280632],\n",
       "       [22.53280632],\n",
       "       [22.53280632],\n",
       "       [22.53280632],\n",
       "       [22.53280632],\n",
       "       [22.53280632],\n",
       "       [22.53280632],\n",
       "       [22.53280632],\n",
       "       [22.53280632],\n",
       "       [22.53280632],\n",
       "       [22.53280632],\n",
       "       [22.53280632],\n",
       "       [22.53280632],\n",
       "       [22.53280632],\n",
       "       [22.53280632],\n",
       "       [22.53280632],\n",
       "       [22.53280632],\n",
       "       [22.53280632],\n",
       "       [22.53280632],\n",
       "       [22.53280632],\n",
       "       [22.53280632],\n",
       "       [22.53280632],\n",
       "       [22.53280632],\n",
       "       [22.53280632],\n",
       "       [22.53280632],\n",
       "       [22.53280632],\n",
       "       [22.53280632],\n",
       "       [22.53280632],\n",
       "       [22.53280632],\n",
       "       [22.53280632],\n",
       "       [22.53280632],\n",
       "       [22.53280632],\n",
       "       [22.53280632],\n",
       "       [22.53280632],\n",
       "       [22.53280632],\n",
       "       [22.53280632],\n",
       "       [22.53280632],\n",
       "       [22.53280632],\n",
       "       [22.53280632],\n",
       "       [22.53280632],\n",
       "       [22.53280632],\n",
       "       [22.53280632],\n",
       "       [22.53280632],\n",
       "       [22.53280632],\n",
       "       [22.53280632],\n",
       "       [22.53280632],\n",
       "       [22.53280632],\n",
       "       [22.53280632],\n",
       "       [22.53280632],\n",
       "       [22.53280632],\n",
       "       [22.53280632],\n",
       "       [22.53280632],\n",
       "       [22.53280632],\n",
       "       [22.53280632],\n",
       "       [22.53280632],\n",
       "       [22.53280632],\n",
       "       [22.53280632],\n",
       "       [22.53280632],\n",
       "       [22.53280632],\n",
       "       [22.53280632],\n",
       "       [22.53280632],\n",
       "       [22.53280632],\n",
       "       [22.53280632],\n",
       "       [22.53280632],\n",
       "       [22.53280632],\n",
       "       [22.53280632],\n",
       "       [22.53280632],\n",
       "       [22.53280632],\n",
       "       [22.53280632],\n",
       "       [22.53280632],\n",
       "       [22.53280632]])"
      ]
     },
     "execution_count": 131,
     "metadata": {},
     "output_type": "execute_result"
    }
   ],
   "source": [
    "predict(X, W1, b1, W2, b2)"
   ]
  },
  {
   "cell_type": "code",
   "execution_count": null,
   "id": "79acfc7a-ee5b-4853-80af-0abe16c06cf9",
   "metadata": {},
   "outputs": [],
   "source": []
  },
  {
   "cell_type": "code",
   "execution_count": null,
   "id": "9c548a46-f275-4db8-a8a9-cecb592d694c",
   "metadata": {},
   "outputs": [],
   "source": []
  },
  {
   "cell_type": "code",
   "execution_count": null,
   "id": "7ad9bc27-da3c-435e-8f19-3f3bae70c72e",
   "metadata": {},
   "outputs": [],
   "source": []
  },
  {
   "cell_type": "code",
   "execution_count": 207,
   "id": "f5e82076-2084-4842-89c4-8dab8ab949c0",
   "metadata": {
    "tags": []
   },
   "outputs": [],
   "source": [
    "def backward(X, Y, W1, b1, W2, b2):\n",
    "    \n",
    "#     W1 = np.random.rand(X.shape[1], 1)\n",
    "#     b1 = np.random.rand(1,1)\n",
    "    \n",
    "#     #the resultant shape of o1 will be X.shape[0],1\n",
    "#     W2 = np.random.rand(1,1)\n",
    "#     b2 = np.random.rand(1,1)\n",
    "    assert X.shape[1] == W1.shape[0]\n",
    "    #values\n",
    "    M1 = np.dot(X, W1)\n",
    "    N1 = M1 + b1\n",
    "    O1 = sigmoid(N1)\n",
    "    \n",
    "    M2 = np.dot(O1, W2)\n",
    "    P = M2 + b2\n",
    "    \n",
    "    L = 1/2*((Y-P)**2)\n",
    "    #derivatives\n",
    "    def loss(P):\n",
    "        return 1/2*(Y-P)**2\n",
    "    \n",
    "    dL_dP = deriv(loss, a=P)\n",
    "    dP_db2 = np.ones_like(b2)\n",
    "    #ya tenemos\n",
    "    dL_db2 = (dL_dP*dP_db2).sum(axis=0)\n",
    "    \n",
    "    dP_dM2 = np.ones_like(M2)\n",
    "    dL_dM2 = dL_dP*dP_dM2\n",
    "    \n",
    "    dM2_dW2 = np.transpose(O1, (1,0))\n",
    "    #ya tememps (comprobando orden correcto dimensiones)\n",
    "    dL_dW2 = np.dot(dM2_dW2, dL_dP)\n",
    "    #\n",
    "    dM2_dO1 = np.transpose(W2, (1,0))\n",
    "    \n",
    "    dL_dO1 = np.dot(dL_dM2, dM2_dO1)\n",
    "    \n",
    "    dO1_dN1 = deriv(sigmoid, N1)\n",
    "    \n",
    "    dL_dN1 =  dL_dO1*dO1_dN1#para compactar\n",
    "    dN1_db1 = (np.ones_like(b1))\n",
    "    #ya tenemos\n",
    "    dL_db1 = (dL_dN1*dN1_db1).sum(axis=0)\n",
    "    \n",
    "    dN1_M1 = np.ones_like(b1)\n",
    "    \n",
    "    dL_dM1 = dL_dN1*dN1_M1\n",
    "\n",
    "    \n",
    "    dM1_dW1 = np.transpose(X, (1,0))\n",
    "    dL_dW1 = np.dot(dM1_dW1,dL_dM1)\n",
    "\n",
    "    # print(dL_dN1.shape)\n",
    "    # print(dN1_M1.shape)\n",
    "    # print(dM1_dW1.shape)\n",
    "    # #ya tenemos\n",
    "    # # dL_dW1 = np.dot(dN1_M1, dM1_dW1) * (dO1_dN1*dM2_dO1*dP_dM2*dL_dP)\n",
    "    # print(f\"dN1_M1: {dN1_M1.shape}\")\n",
    "    # print(f\"dM1_dW1: {dM1_dW1.shape}\")\n",
    "    \n",
    "    #     print(f\"dL_dP: {dL_dP.shape}\")\n",
    "#     print(f\"dP_dM2: {dP_dM2.shape}\")\n",
    "#     print(f\"dM2_dO1: {dM2_dO1.shape}\")\n",
    "#     print(f\"dO1_dN1: {dO1_dN1.shape}\")\n",
    "#     print(f\"dN1_M1: {dN1_M1.shape}\")\n",
    "#     print(f\"dM1_dW1: {dM1_dW1.shape}\")\n",
    "\n",
    "\n",
    "#     print(dL_dB1.sum(axis=0))\n",
    "    \n",
    "    return dL_dW1, dL_db1, dL_dW2, dL_db2\n",
    "    \n",
    "    "
   ]
  },
  {
   "cell_type": "code",
   "execution_count": 204,
   "id": "1fbd413c-4473-4593-88a0-9aa2e81251a2",
   "metadata": {
    "tags": []
   },
   "outputs": [],
   "source": [
    "X = np.random.rand(50,3)\n",
    "Y = np.random.rand(50,1)"
   ]
  },
  {
   "cell_type": "code",
   "execution_count": null,
   "id": "e402719a-7595-470b-b126-af72f76d39b3",
   "metadata": {},
   "outputs": [],
   "source": []
  },
  {
   "cell_type": "code",
   "execution_count": 296,
   "id": "442c847b-b31e-49ec-b77e-eca419589e54",
   "metadata": {
    "tags": []
   },
   "outputs": [],
   "source": [
    "def train(X, Y):\n",
    "    \n",
    "    W1 = np.random.rand(X.shape[1],1)\n",
    "    b1 = np.random.rand(1,1)\n",
    "    \n",
    "    W2 = np.random.rand(1,1)\n",
    "    b2 = np.random.rand(1,1)\n",
    "    \n",
    "    losses = np.zeros((40,1))\n",
    "    \n",
    "    size = 20\n",
    "    start = 0\n",
    "    for i in range(40):\n",
    "        #forward pass\n",
    "        if start >= X.shape[0]:\n",
    "\n",
    "            start=0\n",
    "        \n",
    "        X_batch = X[start:start+size]\n",
    "        Y_batch = Y[start:start+size]\n",
    "        \n",
    "        P_batch = forward(X=forward(X_batch, W1, b1),\n",
    "                   W=W2, b=b2, activation=False)\n",
    "\n",
    "        #compute error\n",
    "        error = loss_val(Y_batch,P_batch)\n",
    "\n",
    "        #backward pass\n",
    "        w1_g, b1_g, w2_g, b2_g = backward(X_batch, P_batch, W1, b1, W2, b2)\n",
    "    \n",
    "        #update parameters\n",
    "        for weight in range(0, X_batch.shape[1]):\n",
    "            W1[weight] -= w1_g[weight]*0.001\n",
    "\n",
    "        W2 -= w2_g*0.001\n",
    "        b1 -= b1_g*0.001\n",
    "        b2 -= b2_g*0.001\n",
    "        \n",
    "        # losses[i] = np.array([error.mean()])\n",
    "        print(error)\n",
    "        start+=size\n",
    "        \n",
    "    return W1, b1, W2, b2, losses"
   ]
  },
  {
   "cell_type": "code",
   "execution_count": 297,
   "id": "075907f7-d6ce-42a7-90c6-1a0e48edc895",
   "metadata": {
    "tags": []
   },
   "outputs": [],
   "source": [
    "data = pd.read_csv(\"boston.csv\", index_col=[0])"
   ]
  },
  {
   "cell_type": "code",
   "execution_count": 298,
   "id": "29925c30-0805-449d-87f3-769daf0f800d",
   "metadata": {
    "tags": []
   },
   "outputs": [],
   "source": [
    "df = sns.load_dataset(\"car_crashes\")"
   ]
  },
  {
   "cell_type": "code",
   "execution_count": 299,
   "id": "18c40aa3-55c4-45c7-9e76-39facd8df85d",
   "metadata": {
    "tags": []
   },
   "outputs": [],
   "source": [
    "X = df[[\"alcohol\"]].values"
   ]
  },
  {
   "cell_type": "code",
   "execution_count": 300,
   "id": "d4ca49c7-9cfe-4131-8f02-1f26daa9fbb3",
   "metadata": {
    "tags": []
   },
   "outputs": [],
   "source": [
    "Y = df[[\"total\"]].values"
   ]
  },
  {
   "cell_type": "code",
   "execution_count": 301,
   "id": "c5cb87bc-411f-4cf1-9aa1-5c0bbd90490b",
   "metadata": {
    "tags": []
   },
   "outputs": [
    {
     "name": "stdout",
     "output_type": "stream",
     "text": [
      "[[167.19382568]\n",
      " [154.6560533 ]\n",
      " [163.56170669]\n",
      " [239.50235574]\n",
      " [ 66.00939607]\n",
      " [ 85.6558767 ]\n",
      " [ 52.92579738]\n",
      " [123.03892583]\n",
      " [ 14.59723142]\n",
      " [151.14635209]\n",
      " [113.82979864]\n",
      " [144.25863701]\n",
      " [109.33354882]\n",
      " [ 75.49165553]\n",
      " [ 97.82891225]\n",
      " [115.34277693]\n",
      " [149.43155301]\n",
      " [218.1293269 ]\n",
      " [199.71750992]\n",
      " [106.3941398 ]]\n",
      "[[ 71.85814352]\n",
      " [ 29.58389636]\n",
      " [ 92.32074417]\n",
      " [ 41.33698931]\n",
      " [145.97215821]\n",
      " [121.4674138 ]\n",
      " [218.10503186]\n",
      " [103.48638064]\n",
      " [100.63608591]\n",
      " [ 61.48892964]\n",
      " [ 57.14671341]\n",
      " [159.96810976]\n",
      " [ 69.49342215]\n",
      " [132.6259106 ]\n",
      " [273.44387411]\n",
      " [ 92.30246256]\n",
      " [187.91240754]\n",
      " [ 75.52275968]\n",
      " [156.40204469]\n",
      " [ 56.05023566]]\n",
      "[[273.44395972]\n",
      " [178.33976529]\n",
      " [180.23905969]\n",
      " [178.3361289 ]\n",
      " [ 58.32577105]\n",
      " [ 85.64799292]\n",
      " [ 74.29446121]\n",
      " [ 50.89881183]\n",
      " [271.1164075 ]\n",
      " [ 88.27526401]\n",
      " [142.57373294]]\n",
      "[[167.19382568]\n",
      " [154.6560533 ]\n",
      " [163.56170669]\n",
      " [239.50235574]\n",
      " [ 66.00939607]\n",
      " [ 85.6558767 ]\n",
      " [ 52.92579738]\n",
      " [123.03892583]\n",
      " [ 14.59723142]\n",
      " [151.14635209]\n",
      " [113.82979864]\n",
      " [144.25863701]\n",
      " [109.33354882]\n",
      " [ 75.49165553]\n",
      " [ 97.82891225]\n",
      " [115.34277693]\n",
      " [149.43155301]\n",
      " [218.1293269 ]\n",
      " [199.71750992]\n",
      " [106.3941398 ]]\n",
      "[[ 71.85814352]\n",
      " [ 29.58389636]\n",
      " [ 92.32074417]\n",
      " [ 41.33698931]\n",
      " [145.97215821]\n",
      " [121.4674138 ]\n",
      " [218.10503186]\n",
      " [103.48638064]\n",
      " [100.63608591]\n",
      " [ 61.48892964]\n",
      " [ 57.14671341]\n",
      " [159.96810976]\n",
      " [ 69.49342215]\n",
      " [132.6259106 ]\n",
      " [273.44387411]\n",
      " [ 92.30246256]\n",
      " [187.91240754]\n",
      " [ 75.52275968]\n",
      " [156.40204469]\n",
      " [ 56.05023566]]\n",
      "[[273.44395972]\n",
      " [178.33976529]\n",
      " [180.23905969]\n",
      " [178.3361289 ]\n",
      " [ 58.32577105]\n",
      " [ 85.64799292]\n",
      " [ 74.29446121]\n",
      " [ 50.89881183]\n",
      " [271.1164075 ]\n",
      " [ 88.27526401]\n",
      " [142.57373294]]\n",
      "[[167.19382568]\n",
      " [154.6560533 ]\n",
      " [163.56170669]\n",
      " [239.50235574]\n",
      " [ 66.00939607]\n",
      " [ 85.6558767 ]\n",
      " [ 52.92579738]\n",
      " [123.03892583]\n",
      " [ 14.59723142]\n",
      " [151.14635209]\n",
      " [113.82979864]\n",
      " [144.25863701]\n",
      " [109.33354882]\n",
      " [ 75.49165553]\n",
      " [ 97.82891225]\n",
      " [115.34277693]\n",
      " [149.43155301]\n",
      " [218.1293269 ]\n",
      " [199.71750992]\n",
      " [106.3941398 ]]\n",
      "[[ 71.85814352]\n",
      " [ 29.58389636]\n",
      " [ 92.32074417]\n",
      " [ 41.33698931]\n",
      " [145.97215821]\n",
      " [121.4674138 ]\n",
      " [218.10503186]\n",
      " [103.48638064]\n",
      " [100.63608591]\n",
      " [ 61.48892964]\n",
      " [ 57.14671341]\n",
      " [159.96810976]\n",
      " [ 69.49342215]\n",
      " [132.6259106 ]\n",
      " [273.44387411]\n",
      " [ 92.30246256]\n",
      " [187.91240754]\n",
      " [ 75.52275968]\n",
      " [156.40204469]\n",
      " [ 56.05023566]]\n",
      "[[273.44395972]\n",
      " [178.33976529]\n",
      " [180.23905969]\n",
      " [178.3361289 ]\n",
      " [ 58.32577105]\n",
      " [ 85.64799292]\n",
      " [ 74.29446121]\n",
      " [ 50.89881183]\n",
      " [271.1164075 ]\n",
      " [ 88.27526401]\n",
      " [142.57373294]]\n",
      "[[167.19382568]\n",
      " [154.6560533 ]\n",
      " [163.56170669]\n",
      " [239.50235574]\n",
      " [ 66.00939607]\n",
      " [ 85.6558767 ]\n",
      " [ 52.92579738]\n",
      " [123.03892583]\n",
      " [ 14.59723142]\n",
      " [151.14635209]\n",
      " [113.82979864]\n",
      " [144.25863701]\n",
      " [109.33354882]\n",
      " [ 75.49165553]\n",
      " [ 97.82891225]\n",
      " [115.34277693]\n",
      " [149.43155301]\n",
      " [218.1293269 ]\n",
      " [199.71750992]\n",
      " [106.3941398 ]]\n",
      "[[ 71.85814352]\n",
      " [ 29.58389636]\n",
      " [ 92.32074417]\n",
      " [ 41.33698931]\n",
      " [145.97215821]\n",
      " [121.4674138 ]\n",
      " [218.10503186]\n",
      " [103.48638064]\n",
      " [100.63608591]\n",
      " [ 61.48892964]\n",
      " [ 57.14671341]\n",
      " [159.96810976]\n",
      " [ 69.49342215]\n",
      " [132.6259106 ]\n",
      " [273.44387411]\n",
      " [ 92.30246256]\n",
      " [187.91240754]\n",
      " [ 75.52275968]\n",
      " [156.40204469]\n",
      " [ 56.05023566]]\n",
      "[[273.44395972]\n",
      " [178.33976529]\n",
      " [180.23905969]\n",
      " [178.3361289 ]\n",
      " [ 58.32577105]\n",
      " [ 85.64799292]\n",
      " [ 74.29446121]\n",
      " [ 50.89881183]\n",
      " [271.1164075 ]\n",
      " [ 88.27526401]\n",
      " [142.57373294]]\n",
      "[[167.19382568]\n",
      " [154.6560533 ]\n",
      " [163.56170669]\n",
      " [239.50235574]\n",
      " [ 66.00939607]\n",
      " [ 85.6558767 ]\n",
      " [ 52.92579738]\n",
      " [123.03892583]\n",
      " [ 14.59723142]\n",
      " [151.14635209]\n",
      " [113.82979864]\n",
      " [144.25863701]\n",
      " [109.33354882]\n",
      " [ 75.49165553]\n",
      " [ 97.82891225]\n",
      " [115.34277693]\n",
      " [149.43155301]\n",
      " [218.1293269 ]\n",
      " [199.71750992]\n",
      " [106.3941398 ]]\n",
      "[[ 71.85814352]\n",
      " [ 29.58389636]\n",
      " [ 92.32074417]\n",
      " [ 41.33698931]\n",
      " [145.97215821]\n",
      " [121.4674138 ]\n",
      " [218.10503186]\n",
      " [103.48638064]\n",
      " [100.63608591]\n",
      " [ 61.48892964]\n",
      " [ 57.14671341]\n",
      " [159.96810976]\n",
      " [ 69.49342215]\n",
      " [132.6259106 ]\n",
      " [273.44387411]\n",
      " [ 92.30246256]\n",
      " [187.91240754]\n",
      " [ 75.52275968]\n",
      " [156.40204469]\n",
      " [ 56.05023566]]\n",
      "[[273.44395972]\n",
      " [178.33976529]\n",
      " [180.23905969]\n",
      " [178.3361289 ]\n",
      " [ 58.32577105]\n",
      " [ 85.64799292]\n",
      " [ 74.29446121]\n",
      " [ 50.89881183]\n",
      " [271.1164075 ]\n",
      " [ 88.27526401]\n",
      " [142.57373294]]\n",
      "[[167.19382568]\n",
      " [154.6560533 ]\n",
      " [163.56170669]\n",
      " [239.50235574]\n",
      " [ 66.00939607]\n",
      " [ 85.6558767 ]\n",
      " [ 52.92579738]\n",
      " [123.03892583]\n",
      " [ 14.59723142]\n",
      " [151.14635209]\n",
      " [113.82979864]\n",
      " [144.25863701]\n",
      " [109.33354882]\n",
      " [ 75.49165553]\n",
      " [ 97.82891225]\n",
      " [115.34277693]\n",
      " [149.43155301]\n",
      " [218.1293269 ]\n",
      " [199.71750992]\n",
      " [106.3941398 ]]\n",
      "[[ 71.85814352]\n",
      " [ 29.58389636]\n",
      " [ 92.32074417]\n",
      " [ 41.33698931]\n",
      " [145.97215821]\n",
      " [121.4674138 ]\n",
      " [218.10503186]\n",
      " [103.48638064]\n",
      " [100.63608591]\n",
      " [ 61.48892964]\n",
      " [ 57.14671341]\n",
      " [159.96810976]\n",
      " [ 69.49342215]\n",
      " [132.6259106 ]\n",
      " [273.44387411]\n",
      " [ 92.30246256]\n",
      " [187.91240754]\n",
      " [ 75.52275968]\n",
      " [156.40204469]\n",
      " [ 56.05023566]]\n",
      "[[273.44395972]\n",
      " [178.33976529]\n",
      " [180.23905969]\n",
      " [178.3361289 ]\n",
      " [ 58.32577105]\n",
      " [ 85.64799292]\n",
      " [ 74.29446121]\n",
      " [ 50.89881183]\n",
      " [271.1164075 ]\n",
      " [ 88.27526401]\n",
      " [142.57373294]]\n",
      "[[167.19382568]\n",
      " [154.6560533 ]\n",
      " [163.56170669]\n",
      " [239.50235574]\n",
      " [ 66.00939607]\n",
      " [ 85.6558767 ]\n",
      " [ 52.92579738]\n",
      " [123.03892583]\n",
      " [ 14.59723142]\n",
      " [151.14635209]\n",
      " [113.82979864]\n",
      " [144.25863701]\n",
      " [109.33354882]\n",
      " [ 75.49165553]\n",
      " [ 97.82891225]\n",
      " [115.34277693]\n",
      " [149.43155301]\n",
      " [218.1293269 ]\n",
      " [199.71750992]\n",
      " [106.3941398 ]]\n",
      "[[ 71.85814352]\n",
      " [ 29.58389636]\n",
      " [ 92.32074417]\n",
      " [ 41.33698931]\n",
      " [145.97215821]\n",
      " [121.4674138 ]\n",
      " [218.10503186]\n",
      " [103.48638064]\n",
      " [100.63608591]\n",
      " [ 61.48892964]\n",
      " [ 57.14671341]\n",
      " [159.96810976]\n",
      " [ 69.49342215]\n",
      " [132.6259106 ]\n",
      " [273.44387411]\n",
      " [ 92.30246256]\n",
      " [187.91240754]\n",
      " [ 75.52275968]\n",
      " [156.40204469]\n",
      " [ 56.05023566]]\n",
      "[[273.44395972]\n",
      " [178.33976529]\n",
      " [180.23905969]\n",
      " [178.3361289 ]\n",
      " [ 58.32577105]\n",
      " [ 85.64799292]\n",
      " [ 74.29446121]\n",
      " [ 50.89881183]\n",
      " [271.1164075 ]\n",
      " [ 88.27526401]\n",
      " [142.57373294]]\n",
      "[[167.19382568]\n",
      " [154.6560533 ]\n",
      " [163.56170669]\n",
      " [239.50235574]\n",
      " [ 66.00939607]\n",
      " [ 85.6558767 ]\n",
      " [ 52.92579738]\n",
      " [123.03892583]\n",
      " [ 14.59723142]\n",
      " [151.14635209]\n",
      " [113.82979864]\n",
      " [144.25863701]\n",
      " [109.33354882]\n",
      " [ 75.49165553]\n",
      " [ 97.82891225]\n",
      " [115.34277693]\n",
      " [149.43155301]\n",
      " [218.1293269 ]\n",
      " [199.71750992]\n",
      " [106.3941398 ]]\n",
      "[[ 71.85814352]\n",
      " [ 29.58389636]\n",
      " [ 92.32074417]\n",
      " [ 41.33698931]\n",
      " [145.97215821]\n",
      " [121.4674138 ]\n",
      " [218.10503186]\n",
      " [103.48638064]\n",
      " [100.63608591]\n",
      " [ 61.48892964]\n",
      " [ 57.14671341]\n",
      " [159.96810976]\n",
      " [ 69.49342215]\n",
      " [132.6259106 ]\n",
      " [273.44387411]\n",
      " [ 92.30246256]\n",
      " [187.91240754]\n",
      " [ 75.52275968]\n",
      " [156.40204469]\n",
      " [ 56.05023566]]\n",
      "[[273.44395972]\n",
      " [178.33976529]\n",
      " [180.23905969]\n",
      " [178.3361289 ]\n",
      " [ 58.32577105]\n",
      " [ 85.64799292]\n",
      " [ 74.29446121]\n",
      " [ 50.89881183]\n",
      " [271.1164075 ]\n",
      " [ 88.27526401]\n",
      " [142.57373294]]\n",
      "[[167.19382568]\n",
      " [154.6560533 ]\n",
      " [163.56170669]\n",
      " [239.50235574]\n",
      " [ 66.00939607]\n",
      " [ 85.6558767 ]\n",
      " [ 52.92579738]\n",
      " [123.03892583]\n",
      " [ 14.59723142]\n",
      " [151.14635209]\n",
      " [113.82979864]\n",
      " [144.25863701]\n",
      " [109.33354882]\n",
      " [ 75.49165553]\n",
      " [ 97.82891225]\n",
      " [115.34277693]\n",
      " [149.43155301]\n",
      " [218.1293269 ]\n",
      " [199.71750992]\n",
      " [106.3941398 ]]\n",
      "[[ 71.85814352]\n",
      " [ 29.58389636]\n",
      " [ 92.32074417]\n",
      " [ 41.33698931]\n",
      " [145.97215821]\n",
      " [121.4674138 ]\n",
      " [218.10503186]\n",
      " [103.48638064]\n",
      " [100.63608591]\n",
      " [ 61.48892964]\n",
      " [ 57.14671341]\n",
      " [159.96810976]\n",
      " [ 69.49342215]\n",
      " [132.6259106 ]\n",
      " [273.44387411]\n",
      " [ 92.30246256]\n",
      " [187.91240754]\n",
      " [ 75.52275968]\n",
      " [156.40204469]\n",
      " [ 56.05023566]]\n",
      "[[273.44395972]\n",
      " [178.33976529]\n",
      " [180.23905969]\n",
      " [178.3361289 ]\n",
      " [ 58.32577105]\n",
      " [ 85.64799292]\n",
      " [ 74.29446121]\n",
      " [ 50.89881183]\n",
      " [271.1164075 ]\n",
      " [ 88.27526401]\n",
      " [142.57373294]]\n",
      "[[167.19382568]\n",
      " [154.6560533 ]\n",
      " [163.56170669]\n",
      " [239.50235574]\n",
      " [ 66.00939607]\n",
      " [ 85.6558767 ]\n",
      " [ 52.92579738]\n",
      " [123.03892583]\n",
      " [ 14.59723142]\n",
      " [151.14635209]\n",
      " [113.82979864]\n",
      " [144.25863701]\n",
      " [109.33354882]\n",
      " [ 75.49165553]\n",
      " [ 97.82891225]\n",
      " [115.34277693]\n",
      " [149.43155301]\n",
      " [218.1293269 ]\n",
      " [199.71750992]\n",
      " [106.3941398 ]]\n",
      "[[ 71.85814352]\n",
      " [ 29.58389636]\n",
      " [ 92.32074417]\n",
      " [ 41.33698931]\n",
      " [145.97215821]\n",
      " [121.4674138 ]\n",
      " [218.10503186]\n",
      " [103.48638064]\n",
      " [100.63608591]\n",
      " [ 61.48892964]\n",
      " [ 57.14671341]\n",
      " [159.96810976]\n",
      " [ 69.49342215]\n",
      " [132.6259106 ]\n",
      " [273.44387411]\n",
      " [ 92.30246256]\n",
      " [187.91240754]\n",
      " [ 75.52275968]\n",
      " [156.40204469]\n",
      " [ 56.05023566]]\n",
      "[[273.44395972]\n",
      " [178.33976529]\n",
      " [180.23905969]\n",
      " [178.3361289 ]\n",
      " [ 58.32577105]\n",
      " [ 85.64799292]\n",
      " [ 74.29446121]\n",
      " [ 50.89881183]\n",
      " [271.1164075 ]\n",
      " [ 88.27526401]\n",
      " [142.57373294]]\n",
      "[[167.19382568]\n",
      " [154.6560533 ]\n",
      " [163.56170669]\n",
      " [239.50235574]\n",
      " [ 66.00939607]\n",
      " [ 85.6558767 ]\n",
      " [ 52.92579738]\n",
      " [123.03892583]\n",
      " [ 14.59723142]\n",
      " [151.14635209]\n",
      " [113.82979864]\n",
      " [144.25863701]\n",
      " [109.33354882]\n",
      " [ 75.49165553]\n",
      " [ 97.82891225]\n",
      " [115.34277693]\n",
      " [149.43155301]\n",
      " [218.1293269 ]\n",
      " [199.71750992]\n",
      " [106.3941398 ]]\n",
      "[[ 71.85814352]\n",
      " [ 29.58389636]\n",
      " [ 92.32074417]\n",
      " [ 41.33698931]\n",
      " [145.97215821]\n",
      " [121.4674138 ]\n",
      " [218.10503186]\n",
      " [103.48638064]\n",
      " [100.63608591]\n",
      " [ 61.48892964]\n",
      " [ 57.14671341]\n",
      " [159.96810976]\n",
      " [ 69.49342215]\n",
      " [132.6259106 ]\n",
      " [273.44387411]\n",
      " [ 92.30246256]\n",
      " [187.91240754]\n",
      " [ 75.52275968]\n",
      " [156.40204469]\n",
      " [ 56.05023566]]\n",
      "[[273.44395972]\n",
      " [178.33976529]\n",
      " [180.23905969]\n",
      " [178.3361289 ]\n",
      " [ 58.32577105]\n",
      " [ 85.64799292]\n",
      " [ 74.29446121]\n",
      " [ 50.89881183]\n",
      " [271.1164075 ]\n",
      " [ 88.27526401]\n",
      " [142.57373294]]\n",
      "[[167.19382568]\n",
      " [154.6560533 ]\n",
      " [163.56170669]\n",
      " [239.50235574]\n",
      " [ 66.00939607]\n",
      " [ 85.6558767 ]\n",
      " [ 52.92579738]\n",
      " [123.03892583]\n",
      " [ 14.59723142]\n",
      " [151.14635209]\n",
      " [113.82979864]\n",
      " [144.25863701]\n",
      " [109.33354882]\n",
      " [ 75.49165553]\n",
      " [ 97.82891225]\n",
      " [115.34277693]\n",
      " [149.43155301]\n",
      " [218.1293269 ]\n",
      " [199.71750992]\n",
      " [106.3941398 ]]\n",
      "[[ 71.85814352]\n",
      " [ 29.58389636]\n",
      " [ 92.32074417]\n",
      " [ 41.33698931]\n",
      " [145.97215821]\n",
      " [121.4674138 ]\n",
      " [218.10503186]\n",
      " [103.48638064]\n",
      " [100.63608591]\n",
      " [ 61.48892964]\n",
      " [ 57.14671341]\n",
      " [159.96810976]\n",
      " [ 69.49342215]\n",
      " [132.6259106 ]\n",
      " [273.44387411]\n",
      " [ 92.30246256]\n",
      " [187.91240754]\n",
      " [ 75.52275968]\n",
      " [156.40204469]\n",
      " [ 56.05023566]]\n",
      "[[273.44395972]\n",
      " [178.33976529]\n",
      " [180.23905969]\n",
      " [178.3361289 ]\n",
      " [ 58.32577105]\n",
      " [ 85.64799292]\n",
      " [ 74.29446121]\n",
      " [ 50.89881183]\n",
      " [271.1164075 ]\n",
      " [ 88.27526401]\n",
      " [142.57373294]]\n",
      "[[167.19382568]\n",
      " [154.6560533 ]\n",
      " [163.56170669]\n",
      " [239.50235574]\n",
      " [ 66.00939607]\n",
      " [ 85.6558767 ]\n",
      " [ 52.92579738]\n",
      " [123.03892583]\n",
      " [ 14.59723142]\n",
      " [151.14635209]\n",
      " [113.82979864]\n",
      " [144.25863701]\n",
      " [109.33354882]\n",
      " [ 75.49165553]\n",
      " [ 97.82891225]\n",
      " [115.34277693]\n",
      " [149.43155301]\n",
      " [218.1293269 ]\n",
      " [199.71750992]\n",
      " [106.3941398 ]]\n",
      "[[ 71.85814352]\n",
      " [ 29.58389636]\n",
      " [ 92.32074417]\n",
      " [ 41.33698931]\n",
      " [145.97215821]\n",
      " [121.4674138 ]\n",
      " [218.10503186]\n",
      " [103.48638064]\n",
      " [100.63608591]\n",
      " [ 61.48892964]\n",
      " [ 57.14671341]\n",
      " [159.96810976]\n",
      " [ 69.49342215]\n",
      " [132.6259106 ]\n",
      " [273.44387411]\n",
      " [ 92.30246256]\n",
      " [187.91240754]\n",
      " [ 75.52275968]\n",
      " [156.40204469]\n",
      " [ 56.05023566]]\n",
      "[[273.44395972]\n",
      " [178.33976529]\n",
      " [180.23905969]\n",
      " [178.3361289 ]\n",
      " [ 58.32577105]\n",
      " [ 85.64799292]\n",
      " [ 74.29446121]\n",
      " [ 50.89881183]\n",
      " [271.1164075 ]\n",
      " [ 88.27526401]\n",
      " [142.57373294]]\n",
      "[[167.19382568]\n",
      " [154.6560533 ]\n",
      " [163.56170669]\n",
      " [239.50235574]\n",
      " [ 66.00939607]\n",
      " [ 85.6558767 ]\n",
      " [ 52.92579738]\n",
      " [123.03892583]\n",
      " [ 14.59723142]\n",
      " [151.14635209]\n",
      " [113.82979864]\n",
      " [144.25863701]\n",
      " [109.33354882]\n",
      " [ 75.49165553]\n",
      " [ 97.82891225]\n",
      " [115.34277693]\n",
      " [149.43155301]\n",
      " [218.1293269 ]\n",
      " [199.71750992]\n",
      " [106.3941398 ]]\n"
     ]
    }
   ],
   "source": [
    "W1, b1, W2, b2, losses = train(X,Y)"
   ]
  },
  {
   "cell_type": "code",
   "execution_count": 258,
   "id": "4056e473-49a3-4624-b398-e7e495f7d22e",
   "metadata": {
    "tags": []
   },
   "outputs": [],
   "source": [
    "import matplotlib.pyplot as plt\n",
    "plt.style.use(\"dark_background\")"
   ]
  },
  {
   "cell_type": "code",
   "execution_count": 259,
   "id": "f949cb71-6ff3-4f46-be58-61cfeeb8bd33",
   "metadata": {
    "tags": []
   },
   "outputs": [
    {
     "data": {
      "image/png": "[encoded data removed]",
      "text/plain": [
       "<Figure size 640x480 with 1 Axes>"
      ]
     },
     "metadata": {},
     "output_type": "display_data"
    }
   ],
   "source": [
    "plt.plot(losses);"
   ]
  },
  {
   "cell_type": "code",
   "execution_count": 223,
   "id": "ca450b62-cbc2-45ac-bc09-1af82f425932",
   "metadata": {
    "tags": []
   },
   "outputs": [],
   "source": [
    "def predict(X):\n",
    "    o1 = forward(X, W1, b1)\n",
    "    \n",
    "    return forward(o1, W2, b2, activation=False)\n",
    "                  \n",
    "    "
   ]
  },
  {
   "cell_type": "code",
   "execution_count": 224,
   "id": "cd1b1dfd-01d1-471e-9a35-4fb6ef50e370",
   "metadata": {
    "tags": []
   },
   "outputs": [],
   "source": [
    "preds = predict(X)"
   ]
  },
  {
   "cell_type": "code",
   "execution_count": 225,
   "id": "0e5279d0-1c7b-4cc0-8aed-fce1b3142a42",
   "metadata": {
    "tags": []
   },
   "outputs": [
    {
     "data": {
      "image/png": "[encoded data removed]",
      "text/plain": [
       "<Figure size 640x480 with 1 Axes>"
      ]
     },
     "metadata": {},
     "output_type": "display_data"
    }
   ],
   "source": [
    "plt.scatter(X, Y);\n",
    "plt.plot(X, preds, color=\"gold\");"
   ]
  },
  {
   "cell_type": "code",
   "execution_count": 226,
   "id": "543fad97-7070-49ef-8dbf-758f7efb1e9d",
   "metadata": {
    "tags": []
   },
   "outputs": [],
   "source": [
    "import pandas as pd"
   ]
  },
  {
   "cell_type": "code",
   "execution_count": 227,
   "id": "f47f6715-eb13-4d8e-a46e-4dce5dfa102b",
   "metadata": {
    "tags": []
   },
   "outputs": [],
   "source": [
    "data = pd.read_csv(\"boston.csv\", index_col=[0])"
   ]
  },
  {
   "cell_type": "code",
   "execution_count": 228,
   "id": "3be9136f-700f-4d90-9ae3-4a64a6e81e86",
   "metadata": {
    "tags": []
   },
   "outputs": [],
   "source": [
    "X = data.drop(columns=[\"Price\"]).values\n",
    "Y = data[[\"Price\"]].values"
   ]
  },
  {
   "cell_type": "code",
   "execution_count": 241,
   "id": "06283cbb-a89b-40ac-94d2-c92a50cb3158",
   "metadata": {
    "tags": []
   },
   "outputs": [],
   "source": [
    "perm = np.random.permutation(X.shape[0])"
   ]
  },
  {
   "cell_type": "code",
   "execution_count": 246,
   "id": "66971ce2-ee7b-4770-9ac1-a7b0b24d844b",
   "metadata": {
    "tags": []
   },
   "outputs": [],
   "source": [
    "X = X[perm]\n",
    "Y = Y[perm]"
   ]
  },
  {
   "cell_type": "code",
   "execution_count": 247,
   "id": "1c1e3c91-2377-4ec3-a08a-1359d672610e",
   "metadata": {
    "tags": []
   },
   "outputs": [],
   "source": [
    "W1, b1, W2, b2, losses = train(X,Y)"
   ]
  },
  {
   "cell_type": "code",
   "execution_count": null,
   "id": "cb83815e-3252-428a-b796-8a3a6a60e9f7",
   "metadata": {},
   "outputs": [],
   "source": []
  },
  {
   "cell_type": "code",
   "execution_count": null,
   "id": "29c983c4-629d-4c49-a6be-31456263ed11",
   "metadata": {},
   "outputs": [],
   "source": []
  },
  {
   "cell_type": "code",
   "execution_count": 249,
   "id": "73460dbc-5108-4229-bb3f-0821fccde794",
   "metadata": {
    "tags": []
   },
   "outputs": [
    {
     "data": {
      "image/png": "[encoded data removed]",
      "text/plain": [
       "<Figure size 640x480 with 1 Axes>"
      ]
     },
     "metadata": {},
     "output_type": "display_data"
    }
   ],
   "source": [
    "plt.scatter(X[:,12], Y);\n",
    "plt.scatter(predict(X), Y);"
   ]
  },
  {
   "cell_type": "code",
   "execution_count": 237,
   "id": "5ecac8b6-bd10-4e61-a5f2-853266e90626",
   "metadata": {
    "tags": []
   },
   "outputs": [
    {
     "data": {
      "image/png": "[encoded data removed]",
      "text/plain": [
       "<Figure size 640x480 with 1 Axes>"
      ]
     },
     "metadata": {},
     "output_type": "display_data"
    }
   ],
   "source": [
    "plt.plot(losses);"
   ]
  },
  {
   "cell_type": "code",
   "execution_count": 171,
   "id": "99f84065-5d14-4744-9483-301eff082cf0",
   "metadata": {
    "tags": []
   },
   "outputs": [],
   "source": [
    "import seaborn as sns\n",
    "df = sns.load_dataset(\"mpg\")"
   ]
  },
  {
   "cell_type": "code",
   "execution_count": 172,
   "id": "6ca7ba52-0c83-4dcd-a54b-725f3a416901",
   "metadata": {
    "tags": []
   },
   "outputs": [],
   "source": [
    "X = df[[\"horsepower\"]].values\n",
    "Y = df[[\"acceleration\"]].values"
   ]
  },
  {
   "cell_type": "code",
   "execution_count": 173,
   "id": "c88ccc9e-1b0b-4687-80a1-c286483f8fda",
   "metadata": {
    "tags": []
   },
   "outputs": [
    {
     "ename": "ValueError",
     "evalue": "non-broadcastable output operand with shape (1,1) doesn't match the broadcast shape (398,1)",
     "output_type": "error",
     "traceback": [
      "\u001b[1;31m---------------------------------------------------------------------------\u001b[0m",
      "\u001b[1;31mValueError\u001b[0m                                Traceback (most recent call last)",
      "Cell \u001b[1;32mIn[173], line 1\u001b[0m\n\u001b[1;32m----> 1\u001b[0m \u001b[43mtrain\u001b[49m\u001b[43m(\u001b[49m\u001b[43mX\u001b[49m\u001b[43m,\u001b[49m\u001b[43mY\u001b[49m\u001b[43m)\u001b[49m\n",
      "Cell \u001b[1;32mIn[142], line 26\u001b[0m, in \u001b[0;36mtrain\u001b[1;34m(X, Y)\u001b[0m\n\u001b[0;32m     23\u001b[0m \u001b[38;5;28;01mfor\u001b[39;00m weight \u001b[38;5;129;01min\u001b[39;00m \u001b[38;5;28mrange\u001b[39m(\u001b[38;5;241m0\u001b[39m, X\u001b[38;5;241m.\u001b[39mshape[\u001b[38;5;241m1\u001b[39m]):\n\u001b[0;32m     24\u001b[0m     W1[weight] \u001b[38;5;241m-\u001b[39m\u001b[38;5;241m=\u001b[39m w1_g[weight]\u001b[38;5;241m*\u001b[39m\u001b[38;5;241m0.001\u001b[39m\n\u001b[1;32m---> 26\u001b[0m \u001b[43mW2\u001b[49m\u001b[43m \u001b[49m\u001b[38;5;241;43m-\u001b[39;49m\u001b[38;5;241;43m=\u001b[39;49m\u001b[43m \u001b[49m\u001b[43mw2_g\u001b[49m\u001b[38;5;241;43m*\u001b[39;49m\u001b[38;5;241;43m0.001\u001b[39;49m\n\u001b[0;32m     27\u001b[0m b1 \u001b[38;5;241m-\u001b[39m\u001b[38;5;241m=\u001b[39m b1_g\u001b[38;5;241m*\u001b[39m\u001b[38;5;241m0.001\u001b[39m\n\u001b[0;32m     28\u001b[0m b2 \u001b[38;5;241m-\u001b[39m\u001b[38;5;241m=\u001b[39m b2_g\u001b[38;5;241m*\u001b[39m\u001b[38;5;241m0.001\u001b[39m\n",
      "\u001b[1;31mValueError\u001b[0m: non-broadcastable output operand with shape (1,1) doesn't match the broadcast shape (398,1)"
     ]
    }
   ],
   "source": [
    "train(X,Y)"
   ]
  },
  {
   "cell_type": "code",
   "execution_count": null,
   "id": "c2e07d6e-9910-4734-80db-33742e3c2743",
   "metadata": {},
   "outputs": [],
   "source": []
  }
 ],
 "metadata": {
  "kernelspec": {
   "display_name": "Python [conda env:pytorch_workflow]",
   "language": "python",
   "name": "conda-env-pytorch_workflow-py"
  },
  "language_info": {
   "codemirror_mode": {
    "name": "ipython",
    "version": 3
   },
   "file_extension": ".py",
   "mimetype": "text/x-python",
   "name": "python",
   "nbconvert_exporter": "python",
   "pygments_lexer": "ipython3",
   "version": "3.11.4"
  }
 },
 "nbformat": 4,
 "nbformat_minor": 5
}

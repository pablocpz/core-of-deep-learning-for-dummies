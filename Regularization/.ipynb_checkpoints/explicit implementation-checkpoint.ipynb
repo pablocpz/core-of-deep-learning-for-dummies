{
 "cells": [
  {
   "cell_type": "markdown",
   "id": "b5256806-0818-417c-9697-228d84cf1e33",
   "metadata": {},
   "source": [
    "## Explicit Implementation Of Dropout"
   ]
  },
  {
   "cell_type": "code",
   "execution_count": 80,
   "id": "01797f92-5e5f-40ec-a1dd-5e5f4ed55541",
   "metadata": {
    "tags": []
   },
   "outputs": [],
   "source": [
    "import torch\n",
    "import torch.nn as nn\n",
    "import torch.nn.functional as F\n",
    "import numpy as np"
   ]
  },
  {
   "cell_type": "code",
   "execution_count": 2,
   "id": "906bab02-6eca-4a39-b026-da55ecc6f21e",
   "metadata": {
    "tags": []
   },
   "outputs": [],
   "source": [
    "#definimos la probabilidad de mantener los nodos en cada epoch\n",
    "prob = 0.5\n",
    "\n",
    "dropout = nn.Dropout(p=prob) #0.5% por defecto"
   ]
  },
  {
   "cell_type": "code",
   "execution_count": 72,
   "id": "93def68e-4026-49f7-bca9-0ed993a44194",
   "metadata": {
    "tags": []
   },
   "outputs": [],
   "source": [
    "#creamos unos datos de ejemplo\n",
    "x = torch.ones(10)\n",
    "\n",
    "#aplicamos a estos valores dropout (imaginemos que estos son los pesos de 10 nodos)\n",
    "y = dropout(x)"
   ]
  },
  {
   "cell_type": "code",
   "execution_count": 73,
   "id": "76a79235-7b4f-4796-909e-6127b6d95825",
   "metadata": {
    "tags": []
   },
   "outputs": [
    {
     "data": {
      "text/plain": [
       "tensor([1., 1., 1., 1., 1., 1., 1., 1., 1., 1.])"
      ]
     },
     "execution_count": 73,
     "metadata": {},
     "output_type": "execute_result"
    }
   ],
   "source": [
    "x"
   ]
  },
  {
   "cell_type": "markdown",
   "id": "18b7f8eb-a58e-4e38-b6be-9883d7c43c2d",
   "metadata": {},
   "source": [
    "Recordamos que, PyTorch implementa la \"2da solución\" dentro de la implementación de dropout, ya que, aquellos nodos cuyos pesos no han sido \"abandonados/inhibidos\", serán escalados hacia arriba por el factor `1/(1-prob)`"
   ]
  },
  {
   "cell_type": "code",
   "execution_count": 74,
   "id": "6180f3dc-3b29-491e-99fd-a2de2238b53f",
   "metadata": {
    "tags": []
   },
   "outputs": [
    {
     "data": {
      "text/plain": [
       "2.0"
      ]
     },
     "execution_count": 74,
     "metadata": {},
     "output_type": "execute_result"
    }
   ],
   "source": [
    "1/(1-prob) #entonces, multiplicará los pesos que no sean inhibidos por este factor"
   ]
  },
  {
   "cell_type": "markdown",
   "id": "082648e3-32ad-4be9-a4af-e9f82b0c09fa",
   "metadata": {},
   "source": [
    "**Para cada peso, se decide aleatoriamente con un 0.5% de probabilidad, si será inhibido o no durante la epoch actual**"
   ]
  },
  {
   "cell_type": "code",
   "execution_count": 75,
   "id": "1979e50e-a297-4483-9be0-efc1cbf66795",
   "metadata": {
    "tags": []
   },
   "outputs": [
    {
     "data": {
      "text/plain": [
       "tensor(1.6000)"
      ]
     },
     "execution_count": 75,
     "metadata": {},
     "output_type": "execute_result"
    }
   ],
   "source": [
    "torch.mean(y)"
   ]
  },
  {
   "cell_type": "code",
   "execution_count": 76,
   "id": "9b1de781-5759-4d68-8a7e-c05ba0d51136",
   "metadata": {
    "tags": []
   },
   "outputs": [
    {
     "data": {
      "text/plain": [
       "tensor([2., 2., 2., 2., 0., 0., 2., 2., 2., 2.])"
      ]
     },
     "execution_count": 76,
     "metadata": {},
     "output_type": "execute_result"
    }
   ],
   "source": [
    "y"
   ]
  },
  {
   "cell_type": "code",
   "execution_count": 19,
   "id": "be7e55c6-0ed2-469d-9ea2-ff36a1245249",
   "metadata": {
    "tags": []
   },
   "outputs": [],
   "source": [
    "#si multiplicamos el vector resultante del dropout, por el inverso de la ecuación de escalamiento\n",
    "#obtendremos el vector original\n",
    "\n",
    "#y*(1-prob)"
   ]
  },
  {
   "cell_type": "markdown",
   "id": "ffbffadb-d0ca-4e1c-9ef6-e3adc078c52c",
   "metadata": {},
   "source": [
    "Vemos, que en estos datos de prueba, que simulamos que eran 10 pesos de 10 nodos de una red, (todos valiendo 1), y con una probabilidad de dropout del 0.5%, ahora han sido transformados en lo que se esperaba. **Esto simularía una epoch de entrenamiento aplicando dropout**"
   ]
  },
  {
   "cell_type": "markdown",
   "id": "226fcf7a-89da-4fb9-a368-a2b20e34c578",
   "metadata": {},
   "source": [
    "- De los 10 \"pesos\" de nodos que teníamos simulados, se inhibieron aleatoriamente algunos con una probabilidad de 0.5%\n",
    "\n",
    "- Los nodos que no fueron abandonados, fueron incrementados por el factor implementado (el cual se implementa en entrenamiento). Si el factor resulta ser de 2, y todos los pesos valían 1, efectivamente vemos aquellos nodos no inhibidos que son 2"
   ]
  },
  {
   "cell_type": "code",
   "execution_count": 77,
   "id": "bfe54c88-fce6-4012-9c38-0a456f58c56e",
   "metadata": {
    "tags": []
   },
   "outputs": [
    {
     "data": {
      "text/plain": [
       "Dropout(p=0.5, inplace=False)"
      ]
     },
     "execution_count": 77,
     "metadata": {},
     "output_type": "execute_result"
    }
   ],
   "source": [
    "dropout.eval() #activamos el modo evaluación (finaliza los procesos como dropout...etc)"
   ]
  },
  {
   "cell_type": "markdown",
   "id": "ef0783d5-47af-4ba4-80e1-eeb0b8721c10",
   "metadata": {},
   "source": [
    "Activando el modo `eval()`, finalizará los procesos de dropout...etc"
   ]
  },
  {
   "cell_type": "code",
   "execution_count": 81,
   "id": "2b2d7679-03c6-496e-9503-5545cea1986e",
   "metadata": {
    "tags": []
   },
   "outputs": [
    {
     "name": "stdout",
     "output_type": "stream",
     "text": [
      "tensor([1., 1., 1., 1., 1., 1., 1., 1., 1., 1.])\n",
      "tensor(1.)\n"
     ]
    }
   ],
   "source": [
    "y = dropout(x)\n",
    "print(y)\n",
    "print(torch.mean(y))"
   ]
  },
  {
   "cell_type": "markdown",
   "id": "682efaae-ffc0-4efe-96b8-df0f1a67d8a8",
   "metadata": {},
   "source": [
    "Efectivamente, ahora no aplica ningún tipo de dropout, el vector de \"pesos\" simulados permanece igual"
   ]
  },
  {
   "cell_type": "markdown",
   "id": "29570b9f-76c6-42a3-8cc4-ea5b8b12d069",
   "metadata": {},
   "source": [
    "**Sin embargo, usando `F.dropout()`, veremos que esta función no tiene en cuenta el modo eval()**"
   ]
  },
  {
   "cell_type": "code",
   "execution_count": 83,
   "id": "63638264-fa04-4a01-ae49-575d48dc4859",
   "metadata": {
    "tags": []
   },
   "outputs": [
    {
     "name": "stdout",
     "output_type": "stream",
     "text": [
      "tensor([0., 2., 2., 0., 2., 2., 2., 2., 0., 2.])\n",
      "tensor(1.4000)\n"
     ]
    }
   ],
   "source": [
    "dropout.eval()\n",
    "y = F.dropout(x)\n",
    "print(y)\n",
    "print(torch.mean(y))"
   ]
  },
  {
   "cell_type": "markdown",
   "id": "657f8f5c-b5dc-408b-9ab9-68df4f16c098",
   "metadata": {},
   "source": [
    "Dicha función, `F.dropout()` puede ser también desactivada para testing de esta forma:"
   ]
  },
  {
   "cell_type": "code",
   "execution_count": 84,
   "id": "fe480e4a-fd97-4fec-9de2-cfada8fb91b3",
   "metadata": {
    "tags": []
   },
   "outputs": [
    {
     "name": "stdout",
     "output_type": "stream",
     "text": [
      "tensor([1., 1., 1., 1., 1., 1., 1., 1., 1., 1.])\n",
      "tensor(1.)\n"
     ]
    }
   ],
   "source": [
    "dropout.eval()\n",
    "y = F.dropout(x, training=False) #así\n",
    "print(y)\n",
    "print(torch.mean(y))"
   ]
  },
  {
   "cell_type": "markdown",
   "id": "b52c4c0f-8f3d-476d-9958-3fb5f8fbe467",
   "metadata": {},
   "source": [
    "Si volvemos a activar el modo entrenamiento usando `train()` sobre el objeto dropout, dicha operación volverá a realizarse"
   ]
  },
  {
   "cell_type": "code",
   "execution_count": 85,
   "id": "a31e65d9-d702-4edc-b6d9-e919ab512f49",
   "metadata": {
    "tags": []
   },
   "outputs": [
    {
     "name": "stdout",
     "output_type": "stream",
     "text": [
      "train() mode ON tensor([0., 0., 2., 2., 2., 2., 0., 2., 2., 0.])\n",
      "train() mode OFF tensor([1., 1., 1., 1., 1., 1., 1., 1., 1., 1.])\n",
      "train() mode remains OFF tensor([1., 1., 1., 1., 1., 1., 1., 1., 1., 1.])\n"
     ]
    }
   ],
   "source": [
    "dropout.train() #con dropout\n",
    "y = dropout(x)\n",
    "print(f\"train() mode ON {y}\")\n",
    "\n",
    "dropout.eval() #sin dropout\n",
    "y = dropout(x)\n",
    "print(f\"train() mode OFF {y}\")\n",
    "\n",
    "y = dropout(x)\n",
    "print(f\"train() mode remains OFF {y}\")"
   ]
  },
  {
   "cell_type": "code",
   "execution_count": null,
   "id": "f5f59cf5-7289-40ee-acd0-b28c05396254",
   "metadata": {},
   "outputs": [],
   "source": []
  },
  {
   "cell_type": "code",
   "execution_count": null,
   "id": "bb3d65d1-3765-426c-b902-e0bd0abbcfa5",
   "metadata": {},
   "outputs": [],
   "source": []
  }
 ],
 "metadata": {
  "kernelspec": {
   "display_name": "Python [conda env:pytorch_workflow]",
   "language": "python",
   "name": "conda-env-pytorch_workflow-py"
  },
  "language_info": {
   "codemirror_mode": {
    "name": "ipython",
    "version": 3
   },
   "file_extension": ".py",
   "mimetype": "text/x-python",
   "name": "python",
   "nbconvert_exporter": "python",
   "pygments_lexer": "ipython3",
   "version": "3.11.4"
  }
 },
 "nbformat": 4,
 "nbformat_minor": 5
}

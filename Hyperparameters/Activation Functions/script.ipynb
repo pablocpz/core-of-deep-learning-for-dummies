{
 "cells": [
  {
   "cell_type": "code",
   "execution_count": 2,
   "id": "7b0e51cb-888d-427d-9a1b-9f38dbceeb08",
   "metadata": {},
   "outputs": [],
   "source": [
    "import marimo as mo"
   ]
  },
  {
   "cell_type": "code",
   "execution_count": 5,
   "id": "0bf0b0f8-23be-4680-9d4c-15bc501e3f59",
   "metadata": {},
   "outputs": [],
   "source": [
    "#marimo convert your_notebook.ipynb > your_notebook.py"
   ]
  },
  {
   "cell_type": "code",
   "execution_count": 6,
   "id": "477b70f3-6bd5-48ae-8fd0-03668141921d",
   "metadata": {},
   "outputs": [],
   "source": [
    "!marimo convert script.ipynb > your_notebook.py"
   ]
  },
  {
   "cell_type": "code",
   "execution_count": 7,
   "id": "7edb36d1-a70e-4c06-8589-432665df6b86",
   "metadata": {},
   "outputs": [
    {
     "data": {
      "text/plain": [
       "<marimo._output.hypertext.Html at 0x1c3c4d18790>"
      ]
     },
     "execution_count": 7,
     "metadata": {},
     "output_type": "execute_result"
    }
   ],
   "source": [
    "text_input = mo.ui.text()\n",
    "mo.md(f\"Enter input {text_input}\")"
   ]
  },
  {
   "cell_type": "markdown",
   "id": "d6ac09eb-ff6f-4ede-8e62-cb733575ee92",
   "metadata": {},
   "source": [
    "$\\binom{n}{k}$"
   ]
  },
  {
   "cell_type": "code",
   "execution_count": null,
   "id": "6234e9fa-3134-4506-b085-a89c01768442",
   "metadata": {},
   "outputs": [],
   "source": []
  }
 ],
 "metadata": {
  "kernelspec": {
   "display_name": "Python 3 (ipykernel)",
   "language": "python",
   "name": "python3"
  },
  "language_info": {
   "codemirror_mode": {
    "name": "ipython",
    "version": 3
   },
   "file_extension": ".py",
   "mimetype": "text/x-python",
   "name": "python",
   "nbconvert_exporter": "python",
   "pygments_lexer": "ipython3",
   "version": "3.11.5"
  }
 },
 "nbformat": 4,
 "nbformat_minor": 5
}
